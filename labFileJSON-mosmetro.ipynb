{
 "cells": [
  {
   "cell_type": "markdown",
   "metadata": {},
   "source": [
    "# JSON и mosmetro.json\n",
    "\n",
    "Note:\n",
    "* скачать тут: https://data.mos.ru/classifier/7704786030-stantsii-moskovskogo-metropolitena"
   ]
  },
  {
   "cell_type": "code",
   "execution_count": 10,
   "metadata": {},
   "outputs": [],
   "source": [
    "import json"
   ]
  },
  {
   "cell_type": "code",
   "execution_count": 11,
   "metadata": {},
   "outputs": [],
   "source": [
    "# в кодировке Windows-1251\n",
    "file_mosmetro_json = \"mosmetro.json\" #скопировать относительный путь\n",
    "# в кодировке UTF-8\n",
    "file_mosmetro_utf8_json = \"mosmetro_utf8.json\""
   ]
  },
  {
   "cell_type": "code",
   "execution_count": 12,
   "metadata": {},
   "outputs": [
    {
     "data": {
      "text/plain": [
       "'temp\\\\temp_JSON.json'"
      ]
     },
     "execution_count": 12,
     "metadata": {},
     "output_type": "execute_result"
    }
   ],
   "source": [
    "import os\n",
    "\n",
    "# временный каталог\n",
    "TEMP_DIR = \"temp\"\n",
    "\n",
    "if not os.path.exists(TEMP_DIR):\n",
    "    os.mkdir(TEMP_DIR)\n",
    "    \n",
    "# Пример\n",
    "os.path.join(TEMP_DIR, \"temp_JSON.json\")"
   ]
  },
  {
   "cell_type": "markdown",
   "metadata": {},
   "source": [
    "## Чтение из JSON-файла"
   ]
  },
  {
   "cell_type": "code",
   "execution_count": 13,
   "metadata": {},
   "outputs": [
    {
     "name": "stdout",
     "output_type": "stream",
     "text": [
      "{'Station': 'Третьяковская', 'Line': 'Калининская линия', 'Status': 'действует', 'AdmArea': 'Центральный административный округ', 'District': 'район Замоскворечье', 'ID': 136, 'global_id': 58701962}\n"
     ]
    }
   ],
   "source": [
    "with open(file_mosmetro_json) as f:\n",
    "    d = json.load(f)\n",
    "    print(d[0])"
   ]
  },
  {
   "cell_type": "code",
   "execution_count": 15,
   "metadata": {},
   "outputs": [
    {
     "data": {
      "text/plain": [
       "'Калининская линия'"
      ]
     },
     "execution_count": 15,
     "metadata": {},
     "output_type": "execute_result"
    }
   ],
   "source": [
    "d[0]['Line']"
   ]
  },
  {
   "cell_type": "markdown",
   "metadata": {},
   "source": [
    "# HW\n",
    "- создать json-файл, где будут храниться все станции метро, в названии которых нескольско слов (т.е пробелы)\n",
    "- создать json-файл, где будут храниться все станции метро, в названии которых одно слово (т.е нет пробелов)\n",
    "- создать N json-файлов, с данными по каждой ветке метро (например, \"temp/Калининская линия.json\")\n",
    "- вывести в консоль список веток метрополитена и количество станций на каждой ветке\n",
    "-..."
   ]
  }
 ],
 "metadata": {
  "interpreter": {
   "hash": "568d99031516cb91b124139a50c43e0e628ee43803acee1edec6cbd47ca74668"
  },
  "kernelspec": {
   "display_name": "Python 3.10.2 64-bit",
   "language": "python",
   "name": "python3"
  },
  "language_info": {
   "codemirror_mode": {
    "name": "ipython",
    "version": 3
   },
   "file_extension": ".py",
   "mimetype": "text/x-python",
   "name": "python",
   "nbconvert_exporter": "python",
   "pygments_lexer": "ipython3",
   "version": "3.10.2"
  },
  "orig_nbformat": 4
 },
 "nbformat": 4,
 "nbformat_minor": 2
}
