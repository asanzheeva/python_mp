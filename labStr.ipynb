{
 "cells": [
  {
   "cell_type": "markdown",
   "metadata": {},
   "source": [
    "## Строка (str)"
   ]
  },
  {
   "cell_type": "markdown",
   "metadata": {},
   "source": [
    "Строка (str) - встроенный изменяемый тип данных, который представляет собой последовательность символов."
   ]
  },
  {
   "cell_type": "code",
   "execution_count": 1,
   "metadata": {},
   "outputs": [
    {
     "name": "stdout",
     "output_type": "stream",
     "text": [
      "Visual Studio CodeVisual Studio CodeVisual Studio Code\n",
      "18\n"
     ]
    }
   ],
   "source": [
    "s = \"Visual Studio Code\"\n",
    "print(s * 3)\n",
    "print(len(s))"
   ]
  },
  {
   "cell_type": "code",
   "execution_count": 4,
   "metadata": {},
   "outputs": [
    {
     "name": "stdout",
     "output_type": "stream",
     "text": [
      "VISUAL STUDIO CODE\n",
      "visual studio code\n",
      "vISUAL sTUDIO cODE\n",
      "______Visual Studio Code______\n",
      "Visual Studio Code____________\n",
      "____________Visual Studio Code\n",
      "000000000000Visual Studio Code\n"
     ]
    }
   ],
   "source": [
    "print(s.upper())\n",
    "print(s.lower())\n",
    "print(s.swapcase())\n",
    "print(s.center(30, '_')) #строка ограничена отрезком в 30 символов и расположена по середине\n",
    "print(s.ljust(30, '_')) #выравнивание  по левой стороне\n",
    "print(s.rjust(30, '_')) #по правой\n",
    "print(s.zfill(30)) #заполнение нулями"
   ]
  },
  {
   "cell_type": "code",
   "execution_count": null,
   "metadata": {},
   "outputs": [
    {
     "name": "stdout",
     "output_type": "stream",
     "text": [
      "['Visual', 'Studio', 'Code', '']\n",
      "['V', 'sual Stud', 'o Code ']\n",
      "Visual___Studio___Code___\n",
      "3\n",
      "True\n",
      "False\n"
     ]
    }
   ],
   "source": [
    "print(s.split(' '))\n",
    "print(s.split('i'))\n",
    "print(s.replace(' ','___'))\n",
    "print(s.count(' '))\n",
    "print(s.startswith('Vi'))\n",
    "print(s.endswith('oh'))"
   ]
  },
  {
   "cell_type": "code",
   "execution_count": null,
   "metadata": {},
   "outputs": [],
   "source": [
    "print(\"Studio\" in s) #есть ли слово Studio в строчке?\n",
    "print(\"Studio\" not in s)\n"
   ]
  },
  {
   "cell_type": "code",
   "execution_count": null,
   "metadata": {},
   "outputs": [
    {
     "name": "stdout",
     "output_type": "stream",
     "text": [
      "V\n",
      "i\n"
     ]
    }
   ],
   "source": [
    "print(s[0]) #[индекс] - получить значение элемента(символ) по индексу\n",
    "print(s[1])"
   ]
  },
  {
   "cell_type": "code",
   "execution_count": null,
   "metadata": {},
   "outputs": [
    {
     "name": "stdout",
     "output_type": "stream",
     "text": [
      "Visual Studio Code\n",
      "sual Studio Code\n",
      "isua\n",
      "Visual Studio C\n",
      "de\n"
     ]
    }
   ],
   "source": [
    "# [start : end] - получить срез (slices)\n",
    "print(s[:])\n",
    "print(s[2:])\n",
    "print(s[1:5])\n",
    "print(s[:-3]) #можно использовать отрицательные значения, тогда счет будет вестись с конца\n",
    "print(s[-2:]) # с конца оступили 2 символа\n"
   ]
  },
  {
   "cell_type": "code",
   "execution_count": null,
   "metadata": {},
   "outputs": [
    {
     "name": "stdout",
     "output_type": "stream",
     "text": [
      "Vsa tdoCd\n",
      "edoC oidutS lausi\n"
     ]
    }
   ],
   "source": [
    "# [start : end] - получить срез (slices) с заданным шагом\n",
    "print(s[::2]) #каждый второй символ удаляется\n",
    "print(s[-1:0:-1]) #получилась перевернутая строка"
   ]
  },
  {
   "cell_type": "code",
   "execution_count": null,
   "metadata": {},
   "outputs": [
    {
     "name": "stdout",
     "output_type": "stream",
     "text": [
      "Python     \n",
      "    Python\n",
      "Python\n"
     ]
    }
   ],
   "source": [
    "s = \"    Python     \"\n",
    "print(s.lstrip())\n",
    "print(s.rstrip())\n",
    "print(s.strip()) #удаляем лишние пробелы"
   ]
  },
  {
   "cell_type": "code",
   "execution_count": null,
   "metadata": {},
   "outputs": [
    {
     "name": "stdout",
     "output_type": "stream",
     "text": [
      "Привет, Катя!\n",
      "Привет, 19!\n",
      "Привет, Катя, Катя тебе уже 19 лет!\n",
      "Буквы: e, w, q\n"
     ]
    }
   ],
   "source": [
    "print(\"Привет, {}!\".format(\"Катя\")) #метод формат изменяет строку\n",
    "print(\"Привет, {1}!\".format(\"Катя\", 19)) #выцепляем по формату\n",
    "print(\"Привет, {0}, {0} тебе уже {1} лет!\".format(\"Катя\", 19))\n",
    "print(\"Буквы: {2}, {1}, {0}\".format(*\"qwerty\")) # * - расшифровывает символы\n",
    "print(*\"qwerty\")"
   ]
  },
  {
   "cell_type": "code",
   "execution_count": null,
   "metadata": {},
   "outputs": [
    {
     "name": "stdout",
     "output_type": "stream",
     "text": [
      "       Привет       \n",
      "              Привет\n",
      "Привет              \n"
     ]
    }
   ],
   "source": [
    "print(f\"{'Привет':^20}\") #f - спец префикс\n",
    "print(f\"{'Привет':>20}\")\n",
    "print(f\"{'Привет':<20}\")"
   ]
  }
 ],
 "metadata": {
  "interpreter": {
   "hash": "3a6f8b2227394587c5aa47911b9013af12e55eb00aba98c34627975f605aae29"
  },
  "kernelspec": {
   "display_name": "Python 3.10.2 64-bit",
   "language": "python",
   "name": "python3"
  },
  "language_info": {
   "codemirror_mode": {
    "name": "ipython",
    "version": 3
   },
   "file_extension": ".py",
   "mimetype": "text/x-python",
   "name": "python",
   "nbconvert_exporter": "python",
   "pygments_lexer": "ipython3",
   "version": "3.10.2"
  },
  "orig_nbformat": 4
 },
 "nbformat": 4,
 "nbformat_minor": 2
}
