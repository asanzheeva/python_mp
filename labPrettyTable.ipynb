{
 "cells": [
  {
   "cell_type": "markdown",
   "metadata": {},
   "source": [
    "## Красивый вывод таблицы в терминал или в текстовый файл\n",
    "\n",
    "* pip install prettytable\n",
    "\n",
    "ИЛИ\n",
    "\n",
    "* python -m pip install prettytable"
   ]
  },
  {
   "cell_type": "code",
   "execution_count": 23,
   "metadata": {},
   "outputs": [],
   "source": [
    "from prettytable import PrettyTable"
   ]
  },
  {
   "cell_type": "markdown",
   "metadata": {},
   "source": [
    "## Простое добавление данных в таблицу"
   ]
  },
  {
   "cell_type": "code",
   "execution_count": 24,
   "metadata": {},
   "outputs": [
    {
     "name": "stdout",
     "output_type": "stream",
     "text": [
      "+---------+------+---------+--------+\n",
      "| Фамилия | Имя  | Возраст |   ЗП   |\n",
      "+---------+------+---------+--------+\n",
      "|  Иванов | Иван |    19   | 50000  |\n",
      "|  Петров | Петр |    27   | 120000 |\n",
      "| Сидоров |  Ян  |    18   |  200   |\n",
      "+---------+------+---------+--------+\n"
     ]
    }
   ],
   "source": [
    "ta = PrettyTable()\n",
    "ta.field_names = [\"Фамилия\", \"Имя\", \"Возраст\", \"ЗП\"]\n",
    "ta.add_row([\"Иванов\", \"Иван\", 19, 50000])\n",
    "ta.add_row([\"Петров\", \"Петр\", 27, 120000])\n",
    "ta.add_row([\"Сидоров\", \"Ян\", 18, 200])\n",
    "print(ta)"
   ]
  },
  {
   "cell_type": "code",
   "execution_count": 25,
   "metadata": {},
   "outputs": [],
   "source": [
    "# ta = PrettyTable()  #не работает((\n",
    "# ta.field_names = [\"Фамилия\", \"Имя\", \"Возраст\", \"ЗП\"]\n",
    "# ta.add_row([\n",
    "#     \"Иванов\", \"Иван\", 19, 50000,\n",
    "#     \"Петров\", \"Петр\", 27, 120000,\n",
    "#     \"Сидоров\", \"Ян\", 18, 200\n",
    "#     ])\n",
    "# print(ta)"
   ]
  },
  {
   "cell_type": "code",
   "execution_count": 26,
   "metadata": {},
   "outputs": [
    {
     "data": {
      "text/plain": [
       "'+---------+------+---------+--------+\\n| Фамилия | Имя  | Возраст |   ЗП   |\\n+---------+------+---------+--------+\\n|  Иванов | Иван |    19   | 50000  |\\n|  Петров | Петр |    27   | 120000 |\\n| Сидоров |  Ян  |    18   |  200   |\\n+---------+------+---------+--------+'"
      ]
     },
     "execution_count": 26,
     "metadata": {},
     "output_type": "execute_result"
    }
   ],
   "source": [
    "ta.get_string()"
   ]
  },
  {
   "cell_type": "code",
   "execution_count": 27,
   "metadata": {},
   "outputs": [
    {
     "data": {
      "text/html": [
       "<table>\n",
       "    <thead>\n",
       "        <tr>\n",
       "            <th>Фамилия</th>\n",
       "            <th>Имя</th>\n",
       "            <th>Возраст</th>\n",
       "            <th>ЗП</th>\n",
       "        </tr>\n",
       "    </thead>\n",
       "    <tbody>\n",
       "        <tr>\n",
       "            <td>Иванов</td>\n",
       "            <td>Иван</td>\n",
       "            <td>19</td>\n",
       "            <td>50000</td>\n",
       "        </tr>\n",
       "        <tr>\n",
       "            <td>Петров</td>\n",
       "            <td>Петр</td>\n",
       "            <td>27</td>\n",
       "            <td>120000</td>\n",
       "        </tr>\n",
       "        <tr>\n",
       "            <td>Сидоров</td>\n",
       "            <td>Ян</td>\n",
       "            <td>18</td>\n",
       "            <td>200</td>\n",
       "        </tr>\n",
       "    </tbody>\n",
       "</table>"
      ],
      "text/plain": [
       "+---------+------+---------+--------+\n",
       "| Фамилия | Имя  | Возраст |   ЗП   |\n",
       "+---------+------+---------+--------+\n",
       "|  Иванов | Иван |    19   | 50000  |\n",
       "|  Петров | Петр |    27   | 120000 |\n",
       "| Сидоров |  Ян  |    18   |  200   |\n",
       "+---------+------+---------+--------+"
      ]
     },
     "execution_count": 27,
     "metadata": {},
     "output_type": "execute_result"
    }
   ],
   "source": [
    "ta"
   ]
  },
  {
   "cell_type": "markdown",
   "metadata": {},
   "source": [
    "## Копия таблицы"
   ]
  },
  {
   "cell_type": "code",
   "execution_count": 28,
   "metadata": {},
   "outputs": [
    {
     "name": "stdout",
     "output_type": "stream",
     "text": [
      "1353258598304\n",
      "1353258598304\n",
      "1353258596048\n"
     ]
    }
   ],
   "source": [
    "ta_2 = ta\n",
    "ta_3 = ta[:]\n",
    "print(id(ta))\n",
    "print(id(ta_2))\n",
    "print(id(ta_3))"
   ]
  },
  {
   "cell_type": "code",
   "execution_count": 29,
   "metadata": {},
   "outputs": [
    {
     "data": {
      "text/html": [
       "<table>\n",
       "    <thead>\n",
       "        <tr>\n",
       "            <th>Фамилия</th>\n",
       "            <th>Имя</th>\n",
       "            <th>Возраст</th>\n",
       "            <th>ЗП</th>\n",
       "        </tr>\n",
       "    </thead>\n",
       "    <tbody>\n",
       "        <tr>\n",
       "            <td>Иванов</td>\n",
       "            <td>Иван</td>\n",
       "            <td>19</td>\n",
       "            <td>50000</td>\n",
       "        </tr>\n",
       "        <tr>\n",
       "            <td>Петров</td>\n",
       "            <td>Петр</td>\n",
       "            <td>27</td>\n",
       "            <td>120000</td>\n",
       "        </tr>\n",
       "    </tbody>\n",
       "</table>"
      ],
      "text/plain": [
       "+---------+------+---------+--------+\n",
       "| Фамилия | Имя  | Возраст |   ЗП   |\n",
       "+---------+------+---------+--------+\n",
       "|  Иванов | Иван |    19   | 50000  |\n",
       "|  Петров | Петр |    27   | 120000 |\n",
       "+---------+------+---------+--------+"
      ]
     },
     "execution_count": 29,
     "metadata": {},
     "output_type": "execute_result"
    }
   ],
   "source": [
    "ta[:-1] #выкинули последнюю строчку"
   ]
  },
  {
   "cell_type": "markdown",
   "metadata": {},
   "source": [
    "## Выравнивание данных в таблице"
   ]
  },
  {
   "cell_type": "code",
   "execution_count": 30,
   "metadata": {},
   "outputs": [
    {
     "name": "stdout",
     "output_type": "stream",
     "text": [
      "+---------+------+---------+--------+\n",
      "| Фамилия |  Имя | Возраст |     ЗП |\n",
      "+---------+------+---------+--------+\n",
      "|  Иванов | Иван |      19 |  50000 |\n",
      "|  Петров | Петр |      27 | 120000 |\n",
      "| Сидоров |   Ян |      18 |    200 |\n",
      "+---------+------+---------+--------+\n"
     ]
    }
   ],
   "source": [
    "# 1 c r\n",
    "ta.align = 'r'\n",
    "print(ta)"
   ]
  },
  {
   "cell_type": "code",
   "execution_count": 31,
   "metadata": {},
   "outputs": [
    {
     "name": "stdout",
     "output_type": "stream",
     "text": [
      "+---------+------+---------+--------+\n",
      "| Фамилия |  Имя | Возраст |     ЗП |\n",
      "+---------+------+---------+--------+\n",
      "|  Иванов | Иван |    19   |  50000 |\n",
      "|  Петров | Петр |    27   | 120000 |\n",
      "| Сидоров |   Ян |    18   |    200 |\n",
      "+---------+------+---------+--------+\n"
     ]
    }
   ],
   "source": [
    "ta.align[\"Возраст\"] = '1'\n",
    "print(ta)"
   ]
  },
  {
   "cell_type": "markdown",
   "metadata": {},
   "source": [
    "## Сортировка данных в таблице"
   ]
  },
  {
   "cell_type": "code",
   "execution_count": 32,
   "metadata": {},
   "outputs": [
    {
     "name": "stdout",
     "output_type": "stream",
     "text": [
      "+---------+------+---------+--------+\n",
      "| Фамилия |  Имя | Возраст |     ЗП |\n",
      "+---------+------+---------+--------+\n",
      "| Сидоров |   Ян |    18   |    200 |\n",
      "|  Иванов | Иван |    19   |  50000 |\n",
      "|  Петров | Петр |    27   | 120000 |\n",
      "+---------+------+---------+--------+\n"
     ]
    }
   ],
   "source": [
    "print(ta.get_string(sortby=\"Возраст\"))"
   ]
  },
  {
   "cell_type": "code",
   "execution_count": 33,
   "metadata": {},
   "outputs": [
    {
     "name": "stdout",
     "output_type": "stream",
     "text": [
      "+---------+------+---------+--------+\n",
      "| Фамилия |  Имя | Возраст |     ЗП |\n",
      "+---------+------+---------+--------+\n",
      "| Сидоров |   Ян |    18   |    200 |\n",
      "|  Иванов | Иван |    19   |  50000 |\n",
      "|  Петров | Петр |    27   | 120000 |\n",
      "+---------+------+---------+--------+\n"
     ]
    }
   ],
   "source": [
    "print(ta.get_string(sortby=\"Возраст\", reversed=True))"
   ]
  },
  {
   "cell_type": "markdown",
   "metadata": {},
   "source": [
    "## Изменить отображение столбцов и колличества строк"
   ]
  },
  {
   "cell_type": "code",
   "execution_count": 34,
   "metadata": {},
   "outputs": [
    {
     "name": "stdout",
     "output_type": "stream",
     "text": [
      "+------+---------+\n",
      "|  Имя | Возраст |\n",
      "+------+---------+\n",
      "| Иван |    19   |\n",
      "| Петр |    27   |\n",
      "|   Ян |    18   |\n",
      "+------+---------+\n"
     ]
    }
   ],
   "source": [
    "print(ta.get_string(fields = [\"Имя\", \"Возраст\"]))"
   ]
  },
  {
   "cell_type": "code",
   "execution_count": 35,
   "metadata": {},
   "outputs": [
    {
     "name": "stdout",
     "output_type": "stream",
     "text": [
      "+---------+------+---------+--------+\n",
      "| Фамилия |  Имя | Возраст |     ЗП |\n",
      "+---------+------+---------+--------+\n",
      "|  Петров | Петр |    27   | 120000 |\n",
      "| Сидоров |   Ян |    18   |    200 |\n",
      "+---------+------+---------+--------+\n"
     ]
    }
   ],
   "source": [
    "print(ta.get_string(start=1, end=3 ))"
   ]
  },
  {
   "cell_type": "markdown",
   "metadata": {},
   "source": [
    "## Экспортировать таблицу в другой формат"
   ]
  },
  {
   "cell_type": "code",
   "execution_count": 36,
   "metadata": {},
   "outputs": [
    {
     "name": "stdout",
     "output_type": "stream",
     "text": [
      "Фамилия,Имя,Возраст,ЗП\n",
      "Иванов,Иван,19,50000\n",
      "Петров,Петр,27,120000\n",
      "Сидоров,Ян,18,200\n",
      "\n"
     ]
    }
   ],
   "source": [
    "print(ta.get_csv_string())"
   ]
  },
  {
   "cell_type": "code",
   "execution_count": 37,
   "metadata": {},
   "outputs": [
    {
     "name": "stdout",
     "output_type": "stream",
     "text": [
      "[\n",
      "    [\n",
      "        \"Фамилия\",\n",
      "        \"Имя\",\n",
      "        \"Возраст\",\n",
      "        \"ЗП\"\n",
      "    ],\n",
      "    {\n",
      "        \"Возраст\": 19,\n",
      "        \"ЗП\": 50000,\n",
      "        \"Имя\": \"Иван\",\n",
      "        \"Фамилия\": \"Иванов\"\n",
      "    },\n",
      "    {\n",
      "        \"Возраст\": 27,\n",
      "        \"ЗП\": 120000,\n",
      "        \"Имя\": \"Петр\",\n",
      "        \"Фамилия\": \"Петров\"\n",
      "    },\n",
      "    {\n",
      "        \"Возраст\": 18,\n",
      "        \"ЗП\": 200,\n",
      "        \"Имя\": \"Ян\",\n",
      "        \"Фамилия\": \"Сидоров\"\n",
      "    }\n",
      "]\n"
     ]
    }
   ],
   "source": [
    "print(ta.get_json_string(ensure_ascii=False))"
   ]
  },
  {
   "cell_type": "code",
   "execution_count": 38,
   "metadata": {},
   "outputs": [
    {
     "name": "stdout",
     "output_type": "stream",
     "text": [
      "<table>\n",
      "    <thead>\n",
      "        <tr>\n",
      "            <th>Фамилия</th>\n",
      "            <th>Имя</th>\n",
      "            <th>Возраст</th>\n",
      "            <th>ЗП</th>\n",
      "        </tr>\n",
      "    </thead>\n",
      "    <tbody>\n",
      "        <tr>\n",
      "            <td>Иванов</td>\n",
      "            <td>Иван</td>\n",
      "            <td>19</td>\n",
      "            <td>50000</td>\n",
      "        </tr>\n",
      "        <tr>\n",
      "            <td>Петров</td>\n",
      "            <td>Петр</td>\n",
      "            <td>27</td>\n",
      "            <td>120000</td>\n",
      "        </tr>\n",
      "        <tr>\n",
      "            <td>Сидоров</td>\n",
      "            <td>Ян</td>\n",
      "            <td>18</td>\n",
      "            <td>200</td>\n",
      "        </tr>\n",
      "    </tbody>\n",
      "</table>\n"
     ]
    }
   ],
   "source": [
    "print(ta.get_html_string())"
   ]
  }
 ],
 "metadata": {
  "interpreter": {
   "hash": "3a6f8b2227394587c5aa47911b9013af12e55eb00aba98c34627975f605aae29"
  },
  "kernelspec": {
   "display_name": "Python 3.10.2 64-bit",
   "language": "python",
   "name": "python3"
  },
  "language_info": {
   "codemirror_mode": {
    "name": "ipython",
    "version": 3
   },
   "file_extension": ".py",
   "mimetype": "text/x-python",
   "name": "python",
   "nbconvert_exporter": "python",
   "pygments_lexer": "ipython3",
   "version": "3.10.2"
  },
  "orig_nbformat": 4
 },
 "nbformat": 4,
 "nbformat_minor": 2
}
