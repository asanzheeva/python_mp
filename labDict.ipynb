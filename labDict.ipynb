{
 "cells": [
  {
   "cell_type": "markdown",
   "metadata": {},
   "source": [
    "# Словарь (dict)\n",
    "\n",
    "Словарь (dict) - упорядоченная структура данных, которая позволяет хранить пары \"ключ значение\"\n",
    "* {... : ... , ... :}\n",
    "* до Python 3.6 словари были НЕ упорядоченные. OrderedDict"
   ]
  },
  {
   "cell_type": "markdown",
   "metadata": {},
   "source": [
    "# Создать словарь"
   ]
  },
  {
   "cell_type": "code",
   "execution_count": 108,
   "metadata": {},
   "outputs": [
    {
     "data": {
      "text/plain": [
       "dict"
      ]
     },
     "execution_count": 108,
     "metadata": {},
     "output_type": "execute_result"
    }
   ],
   "source": [
    "v = {}\n",
    "type(v)"
   ]
  },
  {
   "cell_type": "code",
   "execution_count": 109,
   "metadata": {},
   "outputs": [],
   "source": [
    "# Пустой словарь\n",
    "empty_set = set()\n",
    "empty_dict_1 = dict()\n",
    "empty_dict_2 = {}"
   ]
  },
  {
   "cell_type": "code",
   "execution_count": 110,
   "metadata": {},
   "outputs": [
    {
     "data": {
      "text/plain": [
       "{'FName': 'Иван', 'LName': 'Сидоров'}"
      ]
     },
     "execution_count": 110,
     "metadata": {},
     "output_type": "execute_result"
    }
   ],
   "source": [
    "v = {'FName' : 'Иван' , 'LName' : 'Сидоров'}\n",
    "v"
   ]
  },
  {
   "cell_type": "code",
   "execution_count": 111,
   "metadata": {},
   "outputs": [
    {
     "data": {
      "text/plain": [
       "{'FName': 'Иван', 'LName': 'Сидоров'}"
      ]
     },
     "execution_count": 111,
     "metadata": {},
     "output_type": "execute_result"
    }
   ],
   "source": [
    "# Работает, если ключ - это строка\n",
    "v = dict(FName = 'Иван', LName = 'Сидоров')\n",
    "v"
   ]
  },
  {
   "cell_type": "code",
   "execution_count": 112,
   "metadata": {},
   "outputs": [
    {
     "data": {
      "text/plain": [
       "{'FName': 'Иван', 'LName': 'Сидоров'}"
      ]
     },
     "execution_count": 112,
     "metadata": {},
     "output_type": "execute_result"
    }
   ],
   "source": [
    "# Создать из списка кортежей\n",
    "v = dict([('FName', 'Иван'),('LName', 'Сидоров')])\n",
    "v"
   ]
  },
  {
   "cell_type": "code",
   "execution_count": 113,
   "metadata": {},
   "outputs": [
    {
     "data": {
      "text/plain": [
       "{'LName': 'Сидоров', 'FName': 'Иван'}"
      ]
     },
     "execution_count": 113,
     "metadata": {},
     "output_type": "execute_result"
    }
   ],
   "source": [
    "# Создать из множества кортежей\n",
    "v = dict({('FName', 'Иван'),('LName', 'Сидоров')})\n",
    "v"
   ]
  },
  {
   "cell_type": "code",
   "execution_count": 114,
   "metadata": {},
   "outputs": [
    {
     "data": {
      "text/plain": [
       "{'FName': 'LName', 'Иван': 'Сидоров'}"
      ]
     },
     "execution_count": 114,
     "metadata": {},
     "output_type": "execute_result"
    }
   ],
   "source": [
    "v = dict(zip(('FName', 'Иван'),('LName', 'Сидоров')))\n",
    "v"
   ]
  },
  {
   "cell_type": "code",
   "execution_count": 115,
   "metadata": {},
   "outputs": [
    {
     "data": {
      "text/plain": [
       "{'key1': 'value1', 'key2': 'value2', 'key3': 'value3'}"
      ]
     },
     "execution_count": 115,
     "metadata": {},
     "output_type": "execute_result"
    }
   ],
   "source": [
    "# Создать список ключей и список значений\n",
    "keys = ['key1', 'key2', 'key3']\n",
    "values = ['value1', 'value2', 'value3',]\n",
    "v = dict(zip(keys, values))\n",
    "v"
   ]
  },
  {
   "cell_type": "code",
   "execution_count": 116,
   "metadata": {},
   "outputs": [
    {
     "data": {
      "text/plain": [
       "{5: 'Отлично', 4: 'Хорошо', 3: 'Удовлетворительно'}"
      ]
     },
     "execution_count": 116,
     "metadata": {},
     "output_type": "execute_result"
    }
   ],
   "source": [
    "v = {5: \"Отлично\", 4: \"Хорошо\", 3: \"Удовлетворительно\"}\n",
    "v"
   ]
  },
  {
   "cell_type": "code",
   "execution_count": 117,
   "metadata": {},
   "outputs": [
    {
     "data": {
      "text/plain": [
       "{True: 'Да', False: 'Нет'}"
      ]
     },
     "execution_count": 117,
     "metadata": {},
     "output_type": "execute_result"
    }
   ],
   "source": [
    "v = {True: \"Да\", False: \"Нет\"}\n",
    "v"
   ]
  },
  {
   "cell_type": "code",
   "execution_count": 118,
   "metadata": {},
   "outputs": [
    {
     "data": {
      "text/plain": [
       "{77: None, 97: None, 99: None, 177: None, 777: None}"
      ]
     },
     "execution_count": 118,
     "metadata": {},
     "output_type": "execute_result"
    }
   ],
   "source": [
    "v = dict.fromkeys([77, 97, 99, 177, 777])\n",
    "v"
   ]
  },
  {
   "cell_type": "code",
   "execution_count": 119,
   "metadata": {},
   "outputs": [
    {
     "data": {
      "text/plain": [
       "{77: 'Москва', 97: 'Москва', 99: 'Москва', 177: 'Москва', 777: 'Москва'}"
      ]
     },
     "execution_count": 119,
     "metadata": {},
     "output_type": "execute_result"
    }
   ],
   "source": [
    "v = dict.fromkeys([77, 97, 99, 177, 777], \"Москва\")\n",
    "v"
   ]
  },
  {
   "cell_type": "code",
   "execution_count": 120,
   "metadata": {},
   "outputs": [
    {
     "data": {
      "text/plain": [
       "{'city': 'город', 'book': 'книга', 'cat': 'кот'}"
      ]
     },
     "execution_count": 120,
     "metadata": {},
     "output_type": "execute_result"
    }
   ],
   "source": [
    "english_to_russian = {\n",
    "    \"city\" : \"город\",\n",
    "    \"book\" : \"книга\",\n",
    "    \"cat\" : \"кот\"\n",
    "}\n",
    "english_to_russian"
   ]
  },
  {
   "cell_type": "markdown",
   "metadata": {},
   "source": [
    "# Получить элементы словаря"
   ]
  },
  {
   "cell_type": "code",
   "execution_count": 121,
   "metadata": {},
   "outputs": [
    {
     "name": "stdout",
     "output_type": "stream",
     "text": [
      "кот\n",
      "книга\n",
      "книга\n"
     ]
    }
   ],
   "source": [
    "print(english_to_russian[\"cat\"])\n",
    "print(english_to_russian[\"book\"])\n",
    "print(english_to_russian.get(\"book\"))\n"
   ]
  },
  {
   "cell_type": "markdown",
   "metadata": {},
   "source": [
    "# Получить список из словаря\n"
   ]
  },
  {
   "cell_type": "code",
   "execution_count": 122,
   "metadata": {},
   "outputs": [
    {
     "data": {
      "text/plain": [
       "list"
      ]
     },
     "execution_count": 122,
     "metadata": {},
     "output_type": "execute_result"
    }
   ],
   "source": [
    "# Получить список ключей словаря\n",
    "list"
   ]
  },
  {
   "cell_type": "code",
   "execution_count": 123,
   "metadata": {},
   "outputs": [
    {
     "data": {
      "text/plain": [
       "dict_keys(['city', 'book', 'cat'])"
      ]
     },
     "execution_count": 123,
     "metadata": {},
     "output_type": "execute_result"
    }
   ],
   "source": [
    "english_to_russian.keys()"
   ]
  },
  {
   "cell_type": "code",
   "execution_count": 124,
   "metadata": {},
   "outputs": [
    {
     "data": {
      "text/plain": [
       "dict_values(['город', 'книга', 'кот'])"
      ]
     },
     "execution_count": 124,
     "metadata": {},
     "output_type": "execute_result"
    }
   ],
   "source": [
    "english_to_russian.values()"
   ]
  },
  {
   "cell_type": "code",
   "execution_count": 125,
   "metadata": {},
   "outputs": [
    {
     "name": "stdout",
     "output_type": "stream",
     "text": [
      "key = 'city'\n",
      "key = 'book'\n",
      "key = 'cat'\n"
     ]
    }
   ],
   "source": [
    "for key in english_to_russian.keys():\n",
    "    print(f\"{key = }\")"
   ]
  },
  {
   "cell_type": "code",
   "execution_count": 126,
   "metadata": {},
   "outputs": [
    {
     "name": "stdout",
     "output_type": "stream",
     "text": [
      "value = 'город'\n",
      "value = 'книга'\n",
      "value = 'кот'\n"
     ]
    }
   ],
   "source": [
    "for value in english_to_russian.values():\n",
    "    print(f\"{value = }\")"
   ]
  },
  {
   "cell_type": "markdown",
   "metadata": {},
   "source": [
    "# Проверить вхождение элементов в словарь"
   ]
  },
  {
   "cell_type": "code",
   "execution_count": 127,
   "metadata": {},
   "outputs": [
    {
     "name": "stdout",
     "output_type": "stream",
     "text": [
      "True\n",
      "False\n",
      "True\n"
     ]
    }
   ],
   "source": [
    "print(\"cat\" in english_to_russian)\n",
    "print(\"kitty\" in english_to_russian)\n",
    "print((\"city\", \"город\") in english_to_russian.items())"
   ]
  },
  {
   "cell_type": "markdown",
   "metadata": {},
   "source": [
    "# Итерация по элементам словаря"
   ]
  },
  {
   "cell_type": "code",
   "execution_count": 128,
   "metadata": {},
   "outputs": [
    {
     "name": "stdout",
     "output_type": "stream",
     "text": [
      "city \t = город\n",
      "book \t = книга\n",
      "cat \t = кот\n"
     ]
    }
   ],
   "source": [
    "for key in english_to_russian:\n",
    "    print(f\"{key} \\t = {english_to_russian[key]}\")"
   ]
  },
  {
   "cell_type": "markdown",
   "metadata": {},
   "source": [
    "# Изменить словарь"
   ]
  },
  {
   "cell_type": "code",
   "execution_count": 129,
   "metadata": {},
   "outputs": [
    {
     "data": {
      "text/plain": [
       "{'city': 'город', 'book': 'книга', 'cat': 'кот', 'dog': 'пес', 'spam': 'спам'}"
      ]
     },
     "execution_count": 129,
     "metadata": {},
     "output_type": "execute_result"
    }
   ],
   "source": [
    "# Добавить\n",
    "english_to_russian[\"dog\"] = 'собака'\n",
    "english_to_russian[\"spam\"] = 'спам'\n",
    "#Изменить\n",
    "english_to_russian[\"cat\"] = 'кошка'\n",
    "english_to_russian.update(cat = 'кот', dog = 'пес')\n",
    "\n",
    "english_to_russian"
   ]
  },
  {
   "cell_type": "code",
   "execution_count": 130,
   "metadata": {},
   "outputs": [
    {
     "name": "stdout",
     "output_type": "stream",
     "text": [
      "город\n",
      "{'book': 'книга', 'cat': 'кот', 'dog': 'пес', 'spam': 'спам'}\n"
     ]
    }
   ],
   "source": [
    "# извлечь\n",
    "v = english_to_russian.pop(\"city\", False)\n",
    "print(v)\n",
    "print(english_to_russian)\n"
   ]
  },
  {
   "cell_type": "code",
   "execution_count": 131,
   "metadata": {},
   "outputs": [
    {
     "name": "stdout",
     "output_type": "stream",
     "text": [
      "q 1\n",
      "w 2\n",
      "e 3\n"
     ]
    }
   ],
   "source": [
    "for k, v in zip(\"qwerty\", \"123\"):\n",
    "    print(k,v)"
   ]
  }
 ],
 "metadata": {
  "interpreter": {
   "hash": "3a6f8b2227394587c5aa47911b9013af12e55eb00aba98c34627975f605aae29"
  },
  "kernelspec": {
   "display_name": "Python 3.10.2 64-bit",
   "language": "python",
   "name": "python3"
  },
  "language_info": {
   "codemirror_mode": {
    "name": "ipython",
    "version": 3
   },
   "file_extension": ".py",
   "mimetype": "text/x-python",
   "name": "python",
   "nbconvert_exporter": "python",
   "pygments_lexer": "ipython3",
   "version": "3.10.2"
  },
  "orig_nbformat": 4
 },
 "nbformat": 4,
 "nbformat_minor": 2
}
