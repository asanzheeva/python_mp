{
 "cells": [
  {
   "cell_type": "markdown",
   "metadata": {},
   "source": [
    "# Работа с JSON-файлами"
   ]
  },
  {
   "cell_type": "code",
   "execution_count": 1,
   "metadata": {},
   "outputs": [],
   "source": [
    "import json "
   ]
  },
  {
   "cell_type": "code",
   "execution_count": 2,
   "metadata": {},
   "outputs": [
    {
     "data": {
      "text/plain": [
       "'temp\\\\temp_JSON.json'"
      ]
     },
     "execution_count": 2,
     "metadata": {},
     "output_type": "execute_result"
    }
   ],
   "source": [
    "import os\n",
    "\n",
    "# временный каталог\n",
    "TEMP_DIR = \"temp\"\n",
    "\n",
    "if not os.path.exists(TEMP_DIR):\n",
    "    os.mkdir(TEMP_DIR)\n",
    "    \n",
    "# Пример\n",
    "os.path.join(TEMP_DIR, \"temp_JSON.json\")"
   ]
  },
  {
   "cell_type": "markdown",
   "metadata": {},
   "source": [
    "## Пример 1: Запись в JSON-файл"
   ]
  },
  {
   "cell_type": "code",
   "execution_count": 3,
   "metadata": {},
   "outputs": [
    {
     "name": "stdout",
     "output_type": "stream",
     "text": [
      "['Строка', 100500, 3.14, True, None, [1, 2, 3], {'aaa': 12345, 'bbb': [5, 6, 7]}]\n",
      "[\"Строка\", 100500, 3.14, true, null, [1, 2, 3], {\"aaa\": 12345, \"bbb\": [5, 6, 7]}]\n"
     ]
    }
   ],
   "source": [
    "# подготовка данных\n",
    "data = []\n",
    "a = \"Строка\"\n",
    "b = 100500\n",
    "c = 3.14\n",
    "d = True\n",
    "e = None\n",
    "f = [1,2,3]\n",
    "g = {'aaa' : 12345, 'bbb' : [5,6,7]}\n",
    "data.append(a)\n",
    "data.append(b)\n",
    "data.append(c)\n",
    "data.append(d)\n",
    "data.append(e)\n",
    "data.append(f)\n",
    "data.append(g)\n",
    "print(data)\n",
    "\n",
    "data_json = json.dumps(data, ensure_ascii=False)\n",
    "print(data_json)"
   ]
  },
  {
   "cell_type": "code",
   "execution_count": 4,
   "metadata": {},
   "outputs": [],
   "source": [
    "with open(os.path.join(TEMP_DIR, \"temp_JSON.json\"), 'w') as f:\n",
    "    json.dump(data, f, ensure_ascii=False)\n",
    "\n",
    "\n",
    "with open(os.path.join(TEMP_DIR, \"temp_JSON_2.json\"), 'w') as f:\n",
    "    f.write(data_json)\n",
    "\n",
    "with open(os.path.join(TEMP_DIR, \"temp_JSON.json\"), 'w') as f:\n",
    "    json.dump(data, f, ensure_ascii=False, indent=4)"
   ]
  },
  {
   "cell_type": "markdown",
   "metadata": {},
   "source": [
    "## Пример 1: Чтение из JSON-файла"
   ]
  },
  {
   "cell_type": "code",
   "execution_count": 5,
   "metadata": {},
   "outputs": [
    {
     "name": "stdout",
     "output_type": "stream",
     "text": [
      "['Строка', 100500, 3.14, True, None, [1, 2, 3], {'aaa': 12345, 'bbb': [5, 6, 7]}]\n"
     ]
    }
   ],
   "source": [
    "with open(os.path.join(TEMP_DIR, \"temp_JSON.json\")) as f:\n",
    "    v = json.load(f)\n",
    "    print(v)"
   ]
  },
  {
   "cell_type": "markdown",
   "metadata": {},
   "source": [
    "## Пример 2: Запись в JSON-файл"
   ]
  },
  {
   "cell_type": "code",
   "execution_count": 6,
   "metadata": {},
   "outputs": [],
   "source": [
    "capitals = {\n",
    "    \"Россия\" : \"Москва\",\n",
    "    \"Беларусь\" : \"Минск\",\n",
    "    \"Сербия\" : \"Белград\"\n",
    "}\n",
    "\n",
    "with open(os.path.join(TEMP_DIR, \"temp_JSON_capital.json\"), 'w', encoding = 'UTF-8') as f:\n",
    "    json.dump(capitals, f, ensure_ascii=False, indent = 4)\n"
   ]
  },
  {
   "cell_type": "markdown",
   "metadata": {},
   "source": [
    "## Пример 2: Чтение из JSON-файла"
   ]
  },
  {
   "cell_type": "code",
   "execution_count": 7,
   "metadata": {},
   "outputs": [
    {
     "name": "stdout",
     "output_type": "stream",
     "text": [
      "{'Россия': 'Москва', 'Беларусь': 'Минск', 'Сербия': 'Белград'}\n",
      "Минск\n"
     ]
    }
   ],
   "source": [
    "with open(os.path.join(TEMP_DIR, \"temp_JSON_capital.json\"), encoding = 'UTF-8') as f:\n",
    "    v = json.load(f)\n",
    "    print(v)\n",
    "    print(v['Беларусь'])"
   ]
  }
 ],
 "metadata": {
  "interpreter": {
   "hash": "568d99031516cb91b124139a50c43e0e628ee43803acee1edec6cbd47ca74668"
  },
  "kernelspec": {
   "display_name": "Python 3.10.2 64-bit",
   "language": "python",
   "name": "python3"
  },
  "language_info": {
   "codemirror_mode": {
    "name": "ipython",
    "version": 3
   },
   "file_extension": ".py",
   "mimetype": "text/x-python",
   "name": "python",
   "nbconvert_exporter": "python",
   "pygments_lexer": "ipython3",
   "version": "3.10.2"
  },
  "orig_nbformat": 4
 },
 "nbformat": 4,
 "nbformat_minor": 2
}
