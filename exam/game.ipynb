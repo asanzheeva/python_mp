{
 "cells": [
  {
   "cell_type": "markdown",
   "metadata": {},
   "source": [
    "labGameTimeToMM - Создать мини-игру конвертор времени в минуты.\n",
    "Уровень сложности:\n",
    " - легкий:\tответ число от 0 до 180 (это 3 * 60);\n",
    " - средний:\tответ число от 0 до 480 (это 8 * 60);\n",
    " - сложный:\tответ число от 0 до 1440 (это 24 * 60).\n",
    "В начале игры выбрать: уровень сложности, количество вопросов (например, 10).\n",
    "Данные генерируются случайным образом в формате HH:MM (часы:минуты), но минуты должны быть кратны 5.\n",
    "Пример:\n",
    "    1:10 = ? минут (Ответ: 70) \n",
    "    2:15 = ? минут (Ответ: 135) \n",
    "В конце игры показать статистику игры, например, количество правильных и неправильных ответов, общее время и др.\n",
    "\n"
   ]
  },
  {
   "cell_type": "code",
   "execution_count": 6,
   "metadata": {},
   "outputs": [
    {
     "name": "stdout",
     "output_type": "stream",
     "text": [
      "0 : 0 = ?\n",
      "Ответт:\n",
      "Неправильно\n",
      "2 : 15 = ?\n",
      "Ответт:\n"
     ]
    },
    {
     "ename": "ValueError",
     "evalue": "invalid literal for int() with base 10: ''",
     "output_type": "error",
     "traceback": [
      "\u001b[1;31m---------------------------------------------------------------------------\u001b[0m",
      "\u001b[1;31mValueError\u001b[0m                                Traceback (most recent call last)",
      "\u001b[1;32md:\\Python\\labs\\mp_2021\\exam\\game.ipynb Cell 2'\u001b[0m in \u001b[0;36m<cell line: 42>\u001b[1;34m()\u001b[0m\n\u001b[0;32m     <a href='vscode-notebook-cell:/d%3A/Python/labs/mp_2021/exam/game.ipynb#ch0000001?line=39'>40</a>\u001b[0m     \u001b[39mreturn\u001b[39;00m i, cor, wr\n\u001b[0;32m     <a href='vscode-notebook-cell:/d%3A/Python/labs/mp_2021/exam/game.ipynb#ch0000001?line=41'>42</a>\u001b[0m \u001b[39mwhile\u001b[39;00m i \u001b[39m<\u001b[39m que: \u001b[39m#1-й уровень\u001b[39;00m\n\u001b[0;32m     <a href='vscode-notebook-cell:/d%3A/Python/labs/mp_2021/exam/game.ipynb#ch0000001?line=42'>43</a>\u001b[0m     \u001b[39m# h = random.randrange(0, 3, 1)\u001b[39;00m\n\u001b[0;32m     <a href='vscode-notebook-cell:/d%3A/Python/labs/mp_2021/exam/game.ipynb#ch0000001?line=43'>44</a>\u001b[0m     \u001b[39m# m = random.randrange(0, 60, 5)\u001b[39;00m\n\u001b[1;32m   (...)\u001b[0m\n\u001b[0;32m     <a href='vscode-notebook-cell:/d%3A/Python/labs/mp_2021/exam/game.ipynb#ch0000001?line=54'>55</a>\u001b[0m     \u001b[39m#     wr += 1\u001b[39;00m\n\u001b[0;32m     <a href='vscode-notebook-cell:/d%3A/Python/labs/mp_2021/exam/game.ipynb#ch0000001?line=55'>56</a>\u001b[0m     \u001b[39m#func(lvl, cor, wr)\u001b[39;00m\n\u001b[1;32m---> <a href='vscode-notebook-cell:/d%3A/Python/labs/mp_2021/exam/game.ipynb#ch0000001?line=56'>57</a>\u001b[0m     i, cor, wr \u001b[39m=\u001b[39m func(lvl, cor, wr)   \n\u001b[0;32m     <a href='vscode-notebook-cell:/d%3A/Python/labs/mp_2021/exam/game.ipynb#ch0000001?line=57'>58</a>\u001b[0m     i\u001b[39m+\u001b[39m\u001b[39m=\u001b[39m\u001b[39m1\u001b[39m\n\u001b[0;32m     <a href='vscode-notebook-cell:/d%3A/Python/labs/mp_2021/exam/game.ipynb#ch0000001?line=59'>60</a>\u001b[0m \u001b[39mprint\u001b[39m(\u001b[39m\"\u001b[39m\u001b[39mСтатистика: \u001b[39m\u001b[39m\"\u001b[39m, \u001b[39m\"\u001b[39m\u001b[39mВерно:\u001b[39m\u001b[39m\"\u001b[39m, cor, \u001b[39m\"\u001b[39m\u001b[39m, Неверно:\u001b[39m\u001b[39m\"\u001b[39m, wr)\n",
      "\u001b[1;32md:\\Python\\labs\\mp_2021\\exam\\game.ipynb Cell 2'\u001b[0m in \u001b[0;36mfunc\u001b[1;34m(lvl, cor, wr)\u001b[0m\n\u001b[0;32m     <a href='vscode-notebook-cell:/d%3A/Python/labs/mp_2021/exam/game.ipynb#ch0000001?line=13'>14</a>\u001b[0m     \u001b[39mprint\u001b[39m(h, \u001b[39m\"\u001b[39m\u001b[39m:\u001b[39m\u001b[39m\"\u001b[39m, m, \u001b[39m\"\u001b[39m\u001b[39m= ?\u001b[39m\u001b[39m\"\u001b[39m)\n\u001b[0;32m     <a href='vscode-notebook-cell:/d%3A/Python/labs/mp_2021/exam/game.ipynb#ch0000001?line=14'>15</a>\u001b[0m     \u001b[39mprint\u001b[39m(\u001b[39m\"\u001b[39m\u001b[39mОтветт:\u001b[39m\u001b[39m\"\u001b[39m)\n\u001b[1;32m---> <a href='vscode-notebook-cell:/d%3A/Python/labs/mp_2021/exam/game.ipynb#ch0000001?line=15'>16</a>\u001b[0m     res \u001b[39m=\u001b[39m \u001b[39mint\u001b[39;49m(\u001b[39minput\u001b[39;49m(\u001b[39m\"\u001b[39;49m\u001b[39mОтвет: \u001b[39;49m\u001b[39m\"\u001b[39;49m))\n\u001b[0;32m     <a href='vscode-notebook-cell:/d%3A/Python/labs/mp_2021/exam/game.ipynb#ch0000001?line=16'>17</a>\u001b[0m \u001b[39melif\u001b[39;00m (lvl \u001b[39m==\u001b[39m \u001b[39m2\u001b[39m):\n\u001b[0;32m     <a href='vscode-notebook-cell:/d%3A/Python/labs/mp_2021/exam/game.ipynb#ch0000001?line=17'>18</a>\u001b[0m     h \u001b[39m=\u001b[39m random\u001b[39m.\u001b[39mrandrange(\u001b[39m0\u001b[39m, \u001b[39m8\u001b[39m, \u001b[39m1\u001b[39m)\n",
      "\u001b[1;31mValueError\u001b[0m: invalid literal for int() with base 10: ''"
     ]
    }
   ],
   "source": [
    "import random\n",
    "que = int(input(\"Введите кол-во вопросов: \"))\n",
    "lvl = int(input(\"Выберите уровень сложности: 1, 2 или 3\"))\n",
    "\n",
    "cor = 0 # кол-во правильных ответов\n",
    "wr = 0 # кол-во неправильных ответов\n",
    "i = 0\n",
    "\n",
    "def func(lvl, cor, wr): \n",
    "    if (lvl == 1):\n",
    "        h = random.randrange(0, 3, 1)\n",
    "        m = random.randrange(0, 60, 5)\n",
    "        a = h * 60 + m\n",
    "        print(h, \":\", m, \"= ?\")\n",
    "        res = int(input(\"Ответ: \"))\n",
    "    elif (lvl == 2):\n",
    "        h = random.randrange(0, 8, 1)\n",
    "        m = random.randrange(0, 60, 5)\n",
    "        a = h * 60 + m\n",
    "        print(h, \":\", m, \"= ?\")\n",
    "        res = int(input(\"Ответ: \"))   \n",
    "    elif (lvl == 3):\n",
    "        h = random.randrange(0, 24, 1)\n",
    "        m = random.randrange(0, 60, 5)\n",
    "        a = h * 60 + m\n",
    "        print(h, \":\", m, \"= ?\") \n",
    "        res = int(input(\"Ответ: \"))\n",
    "    else:\n",
    "        print(\"Такого уровня нет\")\n",
    "        raise Exception(\"Такого уровня нет\")\n",
    "        \n",
    "    \n",
    "    if res == a:\n",
    "        print(\"Правильно!\")\n",
    "        cor +=1\n",
    "    else:\n",
    "        print(\"Неправильно\")\n",
    "        wr += 1\n",
    "    return i, cor, wr\n",
    "\n",
    "while i < que: #1-й уровень\n",
    "    # h = random.randrange(0, 3, 1)\n",
    "    # m = random.randrange(0, 60, 5)\n",
    "    # a = h * 60 + m\n",
    "\n",
    "    # print(h, \":\", m, \"= ?\")\n",
    "    # res = int(input(\"Ответ: \"))\n",
    "\n",
    "    # if res == a:\n",
    "    #     print(\"Правильно!\")\n",
    "    #     cor +=1\n",
    "    # else:\n",
    "    #     print(\"Неправильно\")\n",
    "    #     wr += 1\n",
    "    #func(lvl, cor, wr)\n",
    "    i, cor, wr = func(lvl, cor, wr)   \n",
    "    i+=1\n",
    "\n",
    "print(\"Статистика: \", \"Верно:\", cor, \", Неверно:\", wr)\n",
    "\n"
   ]
  },
  {
   "cell_type": "code",
   "execution_count": null,
   "metadata": {},
   "outputs": [],
   "source": []
  }
 ],
 "metadata": {
  "kernelspec": {
   "display_name": "Python 3.10.2 64-bit",
   "language": "python",
   "name": "python3"
  },
  "language_info": {
   "codemirror_mode": {
    "name": "ipython",
    "version": 3
   },
   "file_extension": ".py",
   "mimetype": "text/x-python",
   "name": "python",
   "nbconvert_exporter": "python",
   "pygments_lexer": "ipython3",
   "version": "3.10.2"
  },
  "orig_nbformat": 4,
  "vscode": {
   "interpreter": {
    "hash": "568d99031516cb91b124139a50c43e0e628ee43803acee1edec6cbd47ca74668"
   }
  }
 },
 "nbformat": 4,
 "nbformat_minor": 2
}
