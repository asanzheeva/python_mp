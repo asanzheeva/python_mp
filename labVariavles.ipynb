{
 "cells": [
  {
   "cell_type": "markdown",
   "metadata": {},
   "source": [
    "# Переопределение видимости переменных внутри тела функции"
   ]
  },
  {
   "cell_type": "code",
   "execution_count": 1,
   "metadata": {},
   "outputs": [
    {
     "name": "stdout",
     "output_type": "stream",
     "text": [
      "x=1, y=20, z=30\n"
     ]
    }
   ],
   "source": [
    "x = 1\n",
    "y = 1\n",
    "\n",
    "def func():\n",
    "    x = 10\n",
    "    global y # обращение к глобальной переменной\n",
    "    y = 20\n",
    "    global z # объявление глобальной переменной внутри\n",
    "    z = 30\n",
    "\n",
    "\n",
    "func()\n",
    "print(f\"{x=}, {y=}, {z=}\")"
   ]
  },
  {
   "cell_type": "code",
   "execution_count": 3,
   "metadata": {},
   "outputs": [
    {
     "name": "stdout",
     "output_type": "stream",
     "text": [
      "inner -> x=3, y=3, z=3\n",
      "outer -> x=2, y=2, z=3\n",
      "global -> x=1, y=3, z=1\n"
     ]
    }
   ],
   "source": [
    "x = 1\n",
    "y = 1\n",
    "z = 1\n",
    "\n",
    "def func_outer(): #внешний\n",
    "    x = 2\n",
    "    y = 2\n",
    "    z = 2\n",
    "\n",
    "    def func_inner(): #внутренняя\n",
    "        x = 3\n",
    "        global y\n",
    "        y = 3\n",
    "        nonlocal z # на один уровень выше - ближайшая область видимости\n",
    "        z = 3\n",
    "        print(f\"inner -> {x=}, {y=}, {z=}\")\n",
    "\n",
    "    func_inner()\n",
    "    print(f\"outer -> {x=}, {y=}, {z=}\")\n",
    "\n",
    "func_outer()\n",
    "print(f\"global -> {x=}, {y=}, {z=}\")"
   ]
  }
 ],
 "metadata": {
  "interpreter": {
   "hash": "3a6f8b2227394587c5aa47911b9013af12e55eb00aba98c34627975f605aae29"
  },
  "kernelspec": {
   "display_name": "Python 3.10.2 64-bit",
   "language": "python",
   "name": "python3"
  },
  "language_info": {
   "codemirror_mode": {
    "name": "ipython",
    "version": 3
   },
   "file_extension": ".py",
   "mimetype": "text/x-python",
   "name": "python",
   "nbconvert_exporter": "python",
   "pygments_lexer": "ipython3",
   "version": "3.10.2"
  },
  "orig_nbformat": 4
 },
 "nbformat": 4,
 "nbformat_minor": 2
}
