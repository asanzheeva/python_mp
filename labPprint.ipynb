{
 "cells": [
  {
   "cell_type": "markdown",
   "metadata": {},
   "source": [
    "# pprint (PrettyPrint) - Красивое форматирование данных"
   ]
  },
  {
   "cell_type": "code",
   "execution_count": 1,
   "metadata": {},
   "outputs": [],
   "source": [
    "from pprint import pprint"
   ]
  },
  {
   "cell_type": "code",
   "execution_count": 2,
   "metadata": {},
   "outputs": [],
   "source": [
    "devices_list = [{\n",
    "    \"name\" : \"Iphone 13\",\n",
    "    \"color\" : \"серый\"\n",
    "},{\n",
    "    \"name\" : \"Ноутбук Dell\",\n",
    "    \"CPY\" : \"Intel Core lglwg\",\n",
    "    \"RAM\" : \"32 Gb\"\n",
    "}]"
   ]
  },
  {
   "cell_type": "code",
   "execution_count": 3,
   "metadata": {},
   "outputs": [
    {
     "name": "stdout",
     "output_type": "stream",
     "text": [
      "[{'name': 'Iphone 13', 'color': 'серый'}, {'name': 'Ноутбук Dell', 'CPY': 'Intel Core lglwg', 'RAM': '32 Gb'}]\n"
     ]
    }
   ],
   "source": [
    "print(devices_list)"
   ]
  },
  {
   "cell_type": "code",
   "execution_count": 4,
   "metadata": {},
   "outputs": [
    {
     "name": "stdout",
     "output_type": "stream",
     "text": [
      "[{'color': 'серый', 'name': 'Iphone 13'},\n",
      " {'CPY': 'Intel Core lglwg', 'RAM': '32 Gb', 'name': 'Ноутбук Dell'}]\n"
     ]
    }
   ],
   "source": [
    "pprint(devices_list) #более красивый вывод"
   ]
  },
  {
   "cell_type": "code",
   "execution_count": 7,
   "metadata": {},
   "outputs": [
    {
     "name": "stdout",
     "output_type": "stream",
     "text": [
      "[{'name': 'Iphone '\n",
      "          '13',\n",
      "  'color': 'серый'},\n",
      " {'name': 'Ноутбук '\n",
      "          'Dell',\n",
      "  'CPY': 'Intel '\n",
      "         'Core '\n",
      "         'lglwg',\n",
      "  'RAM': '32 Gb'}]\n"
     ]
    }
   ],
   "source": [
    "pprint(devices_list, width=20, sort_dicts=False) #можно зaдать ширинуb (например не более 20 символов в строке) и отменить сортировку"
   ]
  },
  {
   "cell_type": "markdown",
   "metadata": {},
   "source": [
    "# HW\n",
    "- использование других параметров у pprint"
   ]
  }
 ],
 "metadata": {
  "interpreter": {
   "hash": "3a6f8b2227394587c5aa47911b9013af12e55eb00aba98c34627975f605aae29"
  },
  "kernelspec": {
   "display_name": "Python 3.10.2 64-bit",
   "language": "python",
   "name": "python3"
  },
  "language_info": {
   "codemirror_mode": {
    "name": "ipython",
    "version": 3
   },
   "file_extension": ".py",
   "mimetype": "text/x-python",
   "name": "python",
   "nbconvert_exporter": "python",
   "pygments_lexer": "ipython3",
   "version": "3.10.2"
  },
  "orig_nbformat": 4
 },
 "nbformat": 4,
 "nbformat_minor": 2
}
