{
 "cells": [
  {
   "cell_type": "markdown",
   "metadata": {},
   "source": [
    "## Словари локальных и глобальных элементов"
   ]
  },
  {
   "cell_type": "code",
   "execution_count": 14,
   "metadata": {},
   "outputs": [
    {
     "data": {
      "text/plain": [
       "{'__name__': '__main__',\n",
       " '__doc__': 'Automatically created module for IPython interactive environment',\n",
       " '__package__': None,\n",
       " '__loader__': None,\n",
       " '__spec__': None,\n",
       " '__builtin__': <module 'builtins' (built-in)>,\n",
       " '__builtins__': <module 'builtins' (built-in)>,\n",
       " '_ih': ['',\n",
       "  'a = 123\\nb = 567\\nglobals()',\n",
       "  'x = 1\\ndef func():\\n    y = 2\\n    print(locals())\\n    x = 5\\n\\nfunc',\n",
       "  'x = 1\\ndef func():\\n    y = 2\\n    print(locals())\\n    x = 5\\n    print(locals())\\n\\nfunc',\n",
       "  'a = 123\\nb = 567\\nglobals()',\n",
       "  'x = 1\\ndef func():\\n    y = 2\\n    print(locals())\\n    x = 5\\n    print(locals())\\n\\nfunc',\n",
       "  'x = 1\\n\\ndef func():\\n    y = 2\\n    print(locals())\\n    x = 5\\n    print(locals())\\n\\nfunc',\n",
       "  'x = 1\\n\\ndef func():\\n    y = 2\\n    print(locals())\\n    x = 5\\n    print(locals())\\n\\nfunc',\n",
       "  'x = 1\\n\\ndef func():\\n    y = 2\\n    print(locals())\\n    x = 5\\n    print(locals())\\n\\nfunc()',\n",
       "  '# Обновление данных\\nglobals()[\"x\"] = \"Привет\"\\nprint(f\"{x=}\")',\n",
       "  '# Проверка\\nif \"x\" in globals():\\n    print(\"\\'x\\' in globals() - True\")\\n    ',\n",
       "  '# Удаление\\ndel globals()[\"x\"]\\n# Проверка\\nif \"x\" in globals():\\n    print(\"\\'x\\' in globals() - True\")\\n\\n ',\n",
       "  '# Удаление\\ndel globals()[\"x\"]\\n# Проверка\\nif \"x\" in globals():\\n    print(f\"\\'x\\' in globals() - {\\'x\\' in globals()}\")\\n\\n ',\n",
       "  '# Удаление\\ndel globals()[\"x\"]\\n# Проверка\\n\\nprint(f\"\\'x\\' in globals() - {\\'x\\' in globals()}\")\\n\\n ',\n",
       "  'a = 123\\nb = 567\\nglobals()'],\n",
       " '_oh': {1: {...},\n",
       "  2: <function __main__.func()>,\n",
       "  3: <function __main__.func()>,\n",
       "  4: {...},\n",
       "  5: <function __main__.func()>,\n",
       "  6: <function __main__.func()>,\n",
       "  7: <function __main__.func()>},\n",
       " '_dh': [WindowsPath('d:/Python/labs/mp_2021')],\n",
       " 'In': ['',\n",
       "  'a = 123\\nb = 567\\nglobals()',\n",
       "  'x = 1\\ndef func():\\n    y = 2\\n    print(locals())\\n    x = 5\\n\\nfunc',\n",
       "  'x = 1\\ndef func():\\n    y = 2\\n    print(locals())\\n    x = 5\\n    print(locals())\\n\\nfunc',\n",
       "  'a = 123\\nb = 567\\nglobals()',\n",
       "  'x = 1\\ndef func():\\n    y = 2\\n    print(locals())\\n    x = 5\\n    print(locals())\\n\\nfunc',\n",
       "  'x = 1\\n\\ndef func():\\n    y = 2\\n    print(locals())\\n    x = 5\\n    print(locals())\\n\\nfunc',\n",
       "  'x = 1\\n\\ndef func():\\n    y = 2\\n    print(locals())\\n    x = 5\\n    print(locals())\\n\\nfunc',\n",
       "  'x = 1\\n\\ndef func():\\n    y = 2\\n    print(locals())\\n    x = 5\\n    print(locals())\\n\\nfunc()',\n",
       "  '# Обновление данных\\nglobals()[\"x\"] = \"Привет\"\\nprint(f\"{x=}\")',\n",
       "  '# Проверка\\nif \"x\" in globals():\\n    print(\"\\'x\\' in globals() - True\")\\n    ',\n",
       "  '# Удаление\\ndel globals()[\"x\"]\\n# Проверка\\nif \"x\" in globals():\\n    print(\"\\'x\\' in globals() - True\")\\n\\n ',\n",
       "  '# Удаление\\ndel globals()[\"x\"]\\n# Проверка\\nif \"x\" in globals():\\n    print(f\"\\'x\\' in globals() - {\\'x\\' in globals()}\")\\n\\n ',\n",
       "  '# Удаление\\ndel globals()[\"x\"]\\n# Проверка\\n\\nprint(f\"\\'x\\' in globals() - {\\'x\\' in globals()}\")\\n\\n ',\n",
       "  'a = 123\\nb = 567\\nglobals()'],\n",
       " 'Out': {1: {...},\n",
       "  2: <function __main__.func()>,\n",
       "  3: <function __main__.func()>,\n",
       "  4: {...},\n",
       "  5: <function __main__.func()>,\n",
       "  6: <function __main__.func()>,\n",
       "  7: <function __main__.func()>},\n",
       " 'get_ipython': <bound method InteractiveShell.get_ipython of <ipykernel.zmqshell.ZMQInteractiveShell object at 0x0000018BC5B7CC10>>,\n",
       " 'exit': <IPython.core.autocall.ZMQExitAutocall at 0x18bc5b7d300>,\n",
       " 'quit': <IPython.core.autocall.ZMQExitAutocall at 0x18bc5b7d300>,\n",
       " '_': <function __main__.func()>,\n",
       " '__': <function __main__.func()>,\n",
       " '___': <function __main__.func()>,\n",
       " 'site': <module 'site' from 'C:\\\\Users\\\\1\\\\AppData\\\\Local\\\\Programs\\\\Python\\\\Python310\\\\lib\\\\site.py'>,\n",
       " 'os': <module 'os' from 'C:\\\\Users\\\\1\\\\AppData\\\\Local\\\\Programs\\\\Python\\\\Python310\\\\lib\\\\os.py'>,\n",
       " 'sys': <module 'sys' (built-in)>,\n",
       " '__vsc_ipynb_file__': 'd:\\\\Python\\\\labs\\\\mp_2021\\\\labObjectDict.ipynb',\n",
       " '_i': '# Удаление\\ndel globals()[\"x\"]\\n# Проверка\\n\\nprint(f\"\\'x\\' in globals() - {\\'x\\' in globals()}\")\\n\\n ',\n",
       " '_ii': '# Удаление\\ndel globals()[\"x\"]\\n# Проверка\\nif \"x\" in globals():\\n    print(f\"\\'x\\' in globals() - {\\'x\\' in globals()}\")\\n\\n ',\n",
       " '_iii': '# Удаление\\ndel globals()[\"x\"]\\n# Проверка\\nif \"x\" in globals():\\n    print(\"\\'x\\' in globals() - True\")\\n\\n ',\n",
       " '_i1': 'a = 123\\nb = 567\\nglobals()',\n",
       " 'a': 123,\n",
       " 'b': 567,\n",
       " '_1': {...},\n",
       " '_i2': 'x = 1\\ndef func():\\n    y = 2\\n    print(locals())\\n    x = 5\\n\\nfunc',\n",
       " 'func': <function __main__.func()>,\n",
       " '_2': <function __main__.func()>,\n",
       " '_i3': 'x = 1\\ndef func():\\n    y = 2\\n    print(locals())\\n    x = 5\\n    print(locals())\\n\\nfunc',\n",
       " '_3': <function __main__.func()>,\n",
       " '_i4': 'a = 123\\nb = 567\\nglobals()',\n",
       " '_4': {...},\n",
       " '_i5': 'x = 1\\ndef func():\\n    y = 2\\n    print(locals())\\n    x = 5\\n    print(locals())\\n\\nfunc',\n",
       " '_5': <function __main__.func()>,\n",
       " '_i6': 'x = 1\\n\\ndef func():\\n    y = 2\\n    print(locals())\\n    x = 5\\n    print(locals())\\n\\nfunc',\n",
       " '_6': <function __main__.func()>,\n",
       " '_i7': 'x = 1\\n\\ndef func():\\n    y = 2\\n    print(locals())\\n    x = 5\\n    print(locals())\\n\\nfunc',\n",
       " '_7': <function __main__.func()>,\n",
       " '_i8': 'x = 1\\n\\ndef func():\\n    y = 2\\n    print(locals())\\n    x = 5\\n    print(locals())\\n\\nfunc()',\n",
       " '_i9': '# Обновление данных\\nglobals()[\"x\"] = \"Привет\"\\nprint(f\"{x=}\")',\n",
       " '_i10': '# Проверка\\nif \"x\" in globals():\\n    print(\"\\'x\\' in globals() - True\")\\n    ',\n",
       " '_i11': '# Удаление\\ndel globals()[\"x\"]\\n# Проверка\\nif \"x\" in globals():\\n    print(\"\\'x\\' in globals() - True\")\\n\\n ',\n",
       " '_i12': '# Удаление\\ndel globals()[\"x\"]\\n# Проверка\\nif \"x\" in globals():\\n    print(f\"\\'x\\' in globals() - {\\'x\\' in globals()}\")\\n\\n ',\n",
       " '_i13': '# Удаление\\ndel globals()[\"x\"]\\n# Проверка\\n\\nprint(f\"\\'x\\' in globals() - {\\'x\\' in globals()}\")\\n\\n ',\n",
       " '_i14': 'a = 123\\nb = 567\\nglobals()'}"
      ]
     },
     "execution_count": 14,
     "metadata": {},
     "output_type": "execute_result"
    }
   ],
   "source": [
    "a = 123\n",
    "b = 567\n",
    "globals()"
   ]
  },
  {
   "cell_type": "code",
   "execution_count": 15,
   "metadata": {},
   "outputs": [
    {
     "name": "stdout",
     "output_type": "stream",
     "text": [
      "{'y': 2}\n",
      "{'y': 2, 'x': 5}\n"
     ]
    }
   ],
   "source": [
    "x = 1\n",
    "\n",
    "def func():\n",
    "    y = 2\n",
    "    print(locals())\n",
    "    x = 5\n",
    "    print(locals())\n",
    "\n",
    "func()"
   ]
  },
  {
   "cell_type": "code",
   "execution_count": 16,
   "metadata": {},
   "outputs": [
    {
     "name": "stdout",
     "output_type": "stream",
     "text": [
      "x='Привет'\n"
     ]
    }
   ],
   "source": [
    "# Обновление данных\n",
    "globals()[\"x\"] = \"Привет\"\n",
    "print(f\"{x=}\")"
   ]
  },
  {
   "cell_type": "code",
   "execution_count": 17,
   "metadata": {},
   "outputs": [
    {
     "name": "stdout",
     "output_type": "stream",
     "text": [
      "'x' in globals() - False\n"
     ]
    }
   ],
   "source": [
    "# Удаление\n",
    "del globals()[\"x\"]\n",
    "\n",
    "# Проверка\n",
    "print(f\"'x' in globals() - {'x' in globals()}\")\n",
    "\n",
    " "
   ]
  },
  {
   "cell_type": "markdown",
   "metadata": {},
   "source": [
    "## Область видимости"
   ]
  },
  {
   "cell_type": "code",
   "execution_count": 18,
   "metadata": {},
   "outputs": [
    {
     "name": "stdout",
     "output_type": "stream",
     "text": [
      "2\n"
     ]
    }
   ],
   "source": [
    "x = 1\n",
    "if True:\n",
    "    x = 2\n",
    "\n",
    "print(x)"
   ]
  },
  {
   "cell_type": "code",
   "execution_count": 19,
   "metadata": {},
   "outputs": [
    {
     "name": "stdout",
     "output_type": "stream",
     "text": [
      "4\n"
     ]
    }
   ],
   "source": [
    "i = 10\n",
    "for i in range(5):\n",
    "    pass\n",
    "print(i) #зона видимости определяется функцией выше"
   ]
  }
 ],
 "metadata": {
  "interpreter": {
   "hash": "3a6f8b2227394587c5aa47911b9013af12e55eb00aba98c34627975f605aae29"
  },
  "kernelspec": {
   "display_name": "Python 3.10.2 64-bit",
   "language": "python",
   "name": "python3"
  },
  "language_info": {
   "codemirror_mode": {
    "name": "ipython",
    "version": 3
   },
   "file_extension": ".py",
   "mimetype": "text/x-python",
   "name": "python",
   "nbconvert_exporter": "python",
   "pygments_lexer": "ipython3",
   "version": "3.10.2"
  },
  "orig_nbformat": 4
 },
 "nbformat": 4,
 "nbformat_minor": 2
}
