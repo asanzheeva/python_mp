{
 "cells": [
  {
   "cell_type": "markdown",
   "metadata": {},
   "source": [
    "# Дата и время (datetime)"
   ]
  },
  {
   "cell_type": "code",
   "execution_count": 4,
   "metadata": {},
   "outputs": [],
   "source": [
    "from datetime import date, datetime, time, timedelta"
   ]
  },
  {
   "cell_type": "code",
   "execution_count": 7,
   "metadata": {},
   "outputs": [
    {
     "name": "stdout",
     "output_type": "stream",
     "text": [
      "2022-04-05\n",
      "2050-10-05\n",
      "год = 2050, месяц = 10, день = 05\n"
     ]
    }
   ],
   "source": [
    "#Дата\n",
    "d = date.today()\n",
    "print(d)\n",
    "d = date(2050, 10, 5)\n",
    "print(d)\n",
    "print(d.strftime(\"год = %Y, месяц = %m, день = %d\"))"
   ]
  },
  {
   "cell_type": "code",
   "execution_count": 10,
   "metadata": {},
   "outputs": [
    {
     "name": "stdout",
     "output_type": "stream",
     "text": [
      "00:00:00\n",
      "20:15:30\n",
      "Время = 20: 15:  30\n"
     ]
    }
   ],
   "source": [
    "#Время\n",
    "t = time()\n",
    "print(t)\n",
    "t = time(20, 15, 30)\n",
    "print(t)\n",
    "print(t.strftime(\"Время = %H : %M : %S\"))"
   ]
  },
  {
   "cell_type": "code",
   "execution_count": 13,
   "metadata": {},
   "outputs": [
    {
     "name": "stdout",
     "output_type": "stream",
     "text": [
      "2022-04-05 14:45:25.759322\n",
      "2022-04-05\n",
      "14:45:25.759322\n",
      "Дата = 2022.4.14.45.25\n",
      "Дата = 2022.04.05 14. 45.25\n"
     ]
    }
   ],
   "source": [
    "# Дата и время\n",
    "dt = datetime.now()\n",
    "print(dt)\n",
    "print(dt.date())\n",
    "print(dt.time())\n",
    "print(f\"Дата = {dt.year}.{dt.month}.{dt.hour}.{dt.minute}.{dt.second}\")\n",
    "print(dt.strftime(\"Дата = %Y.%m.%d %H. %M.%S\"))"
   ]
  },
  {
   "cell_type": "code",
   "execution_count": 16,
   "metadata": {},
   "outputs": [
    {
     "name": "stdout",
     "output_type": "stream",
     "text": [
      "2030-12-02 00:00:00\n",
      "2031-11-01 14:15:00\n"
     ]
    }
   ],
   "source": [
    "# Преобразование строки в дату и время\n",
    "st = \"2030/12/02\"\n",
    "dt = datetime.strptime(st, \"%Y/%m/%d\")\n",
    "print(dt)\n",
    "\n",
    "st2 = \"2031/11/01 14:15\" \n",
    "dt = datetime.strptime(st2, \"%Y/%m/%d %H:%M\")\n",
    "print(dt)"
   ]
  },
  {
   "cell_type": "code",
   "execution_count": 21,
   "metadata": {},
   "outputs": [
    {
     "name": "stdout",
     "output_type": "stream",
     "text": [
      "2022-04-05 14:56:44.062043\n",
      "сейчас + 2 часа 15 минут =  2022-04-05 17:11:44.062043\n",
      "сейчас + 2 недели =         2022-04-19 14:56:44.062043\n"
     ]
    }
   ],
   "source": [
    "#Операции с датами и временем\n",
    "dt = datetime.now()\n",
    "t_3h_00m = timedelta(hours=3)\n",
    "t_2h_15m = timedelta(hours=2,minutes=15)\n",
    "t_2w = timedelta(weeks=2)\n",
    "\n",
    "print(dt)\n",
    "print(\"сейчас + 2 часа 15 минут = \".ljust(27), dt + t_2h_15m)\n",
    "print(\"сейчас + 2 недели = \".ljust(27), dt + t_2w)"
   ]
  },
  {
   "cell_type": "code",
   "execution_count": null,
   "metadata": {},
   "outputs": [],
   "source": [
    "#временные зоны\n",
    "#zoneinfo\n",
    "#HW "
   ]
  }
 ],
 "metadata": {
  "interpreter": {
   "hash": "3a6f8b2227394587c5aa47911b9013af12e55eb00aba98c34627975f605aae29"
  },
  "kernelspec": {
   "display_name": "Python 3.10.2 64-bit",
   "language": "python",
   "name": "python3"
  },
  "language_info": {
   "codemirror_mode": {
    "name": "ipython",
    "version": 3
   },
   "file_extension": ".py",
   "mimetype": "text/x-python",
   "name": "python",
   "nbconvert_exporter": "python",
   "pygments_lexer": "ipython3",
   "version": "3.10.2"
  },
  "orig_nbformat": 4
 },
 "nbformat": 4,
 "nbformat_minor": 2
}
