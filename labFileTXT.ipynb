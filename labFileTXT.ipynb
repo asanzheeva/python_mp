{
 "cells": [
  {
   "cell_type": "markdown",
   "metadata": {},
   "source": [
    "## Работа с текстовыми файлами (*.txt)\n",
    "* функция open(...) - открывает файл на чтение/запись.\n",
    "Режимы открытия файлов:\n",
    "- 'r' - открыть файл только для чтения. Если файл не найден, то генерируется исключение. (по умолчанию)\n",
    "- 'w' - открыть файл для перезаписи. Если файл не найден, то он создается.\n",
    "- 'x' - открыть файл для перезаписи. Если файл не найден, то генерируется исключение.\n",
    "- 'a' - открыть файл для записи в конец файла. Если файл не найден, то он согдается.\n",
    "\n",
    "Дополнительные режимы:\n",
    "- '_t' - текстовый файл (на месте пропуска вставляем буквы выше). (по умолчанию)\n",
    "- '_b' - бинарный файл\n",
    "- '_+' - режим r + w\n",
    "\n",
    "Note:\n",
    "- Помним, что после работы с файлом его необходимо закрыть\n",
    "- Помним, что существуютразличные кодировки текстовых файлов (windows-1251, UTF-8, ...)"
   ]
  },
  {
   "cell_type": "code",
   "execution_count": null,
   "metadata": {},
   "outputs": [],
   "source": [
    "# import os\n",
    "# #временный каталог\n",
    "# TEMP_DIR = \"temp\"\n",
    "# if not os.path.exists(TEMP_DIR, \"temp_.temp\")"
   ]
  },
  {
   "cell_type": "code",
   "execution_count": 3,
   "metadata": {},
   "outputs": [
    {
     "data": {
      "text/plain": [
       "'temp\\\\temp_.temp'"
      ]
     },
     "execution_count": 3,
     "metadata": {},
     "output_type": "execute_result"
    }
   ],
   "source": [
    "import os\n",
    "\n",
    "#временный каталог\n",
    "TEMP_DIR = \"temp\"\n",
    "\n",
    "# Пример\n",
    "os.path.join(TEMP_DIR, \"temp_.temp\")"
   ]
  },
  {
   "cell_type": "code",
   "execution_count": 4,
   "metadata": {},
   "outputs": [],
   "source": [
    "poem = \"\"\"Однажды, в студёную зимнюю пору\n",
    "Я из лесу вышел; был сильный мороз.\n",
    "Гляжу, поднимается медленно в гору\n",
    "Лошадка, везущая хворосту воз.\n",
    "И, шествуя важно, в спокойствии чинном,\n",
    "Лошадку ведёт под уздцы мужичок\n",
    "В больших сапогах, в полушубке овчинном,\n",
    "В больших рукавицах... а сам с ноготок!\"\"\""
   ]
  },
  {
   "cell_type": "markdown",
   "metadata": {},
   "source": [
    "## Записать в файл"
   ]
  },
  {
   "cell_type": "code",
   "execution_count": 6,
   "metadata": {},
   "outputs": [],
   "source": [
    "# Записать в файл через try-finally (классический вариант)\n",
    "f = open(os.path.join(TEMP_DIR, \"temp_TXT.txt\"), 'w')\n",
    "try:\n",
    "    f.write(\"Hello\\n\")\n",
    "    f.write(\"AAAaaa\\n\")\n",
    "finally:\n",
    "    f.close()"
   ]
  },
  {
   "cell_type": "code",
   "execution_count": 9,
   "metadata": {},
   "outputs": [],
   "source": [
    "# Добавить в файл через with-конструкцию\n",
    "with open(os.path.join(TEMP_DIR, \"temp_TXT_100.txt\"), 'w') as f:\n",
    "    lines = [f\"Line {i}\" for i in range(100)]\n",
    "    f.write('\\n'.join(lines))\n"
   ]
  },
  {
   "cell_type": "code",
   "execution_count": 10,
   "metadata": {},
   "outputs": [],
   "source": [
    "with open(os.path.join(TEMP_DIR, \"temp_TXT_poem.txt\"), 'w') as f:\n",
    "    f.write(poem)\n"
   ]
  },
  {
   "cell_type": "code",
   "execution_count": 12,
   "metadata": {},
   "outputs": [],
   "source": [
    "with open(os.path.join(TEMP_DIR, \"temp_TXT_poem_utf8.txt\"), 'w', encoding='utf8') as f:\n",
    "    f.write(poem)\n"
   ]
  },
  {
   "cell_type": "markdown",
   "metadata": {},
   "source": [
    "## Прочитать из файла"
   ]
  },
  {
   "cell_type": "code",
   "execution_count": null,
   "metadata": {},
   "outputs": [],
   "source": [
    "# .read() - прочитать всё содержимое файла в одну строку\n",
    "# .readline() - прочитать одну строку из файла\n",
    "# .readlines() - прочитать все строки из файла в список"
   ]
  },
  {
   "cell_type": "code",
   "execution_count": 13,
   "metadata": {},
   "outputs": [
    {
     "name": "stdout",
     "output_type": "stream",
     "text": [
      "Hello\n",
      "AAAaaa\n",
      "qwrty1234\n"
     ]
    }
   ],
   "source": [
    "with open(os.path.join(TEMP_DIR, \"temp_TXT.txt\")) as f:\n",
    "    print(f.read())"
   ]
  },
  {
   "cell_type": "code",
   "execution_count": 15,
   "metadata": {},
   "outputs": [
    {
     "name": "stdout",
     "output_type": "stream",
     "text": [
      "line='Hello\\n'\n",
      "line='AAAaaa\\n'\n",
      "line='qwrty1234'\n"
     ]
    }
   ],
   "source": [
    "with open(os.path.join(TEMP_DIR, \"temp_TXT.txt\")) as f:\n",
    "    for line in f: \n",
    "        print(f\"{line=}\")"
   ]
  },
  {
   "cell_type": "code",
   "execution_count": 18,
   "metadata": {},
   "outputs": [
    {
     "name": "stdout",
     "output_type": "stream",
     "text": [
      "Hello\n",
      "\n",
      "AAAaaa\n",
      "\n"
     ]
    }
   ],
   "source": [
    "with open(os.path.join(TEMP_DIR, \"temp_TXT.txt\")) as f:\n",
    "    print(f.readline()) # можно читать построчно\n",
    "    "
   ]
  },
  {
   "cell_type": "code",
   "execution_count": 19,
   "metadata": {},
   "outputs": [
    {
     "name": "stdout",
     "output_type": "stream",
     "text": [
      "['Hello\\n', 'AAAaaa\\n', 'qwrty1234']\n"
     ]
    }
   ],
   "source": [
    "with open(os.path.join(TEMP_DIR, \"temp_TXT.txt\")) as f:\n",
    "    print(f.readlines()) \n",
    "   "
   ]
  },
  {
   "cell_type": "code",
   "execution_count": 20,
   "metadata": {},
   "outputs": [
    {
     "name": "stdout",
     "output_type": "stream",
     "text": [
      "0) line='Hello\\n'\n",
      "1) line='AAAaaa\\n'\n",
      "2) line='qwrty1234'\n"
     ]
    }
   ],
   "source": [
    "with open(os.path.join(TEMP_DIR, \"temp_TXT.txt\")) as f:\n",
    "    for n, line in enumerate(f):\n",
    "        print(f\"{n}) {line=}\") \n",
    "   "
   ]
  },
  {
   "cell_type": "code",
   "execution_count": 21,
   "metadata": {},
   "outputs": [
    {
     "name": "stdout",
     "output_type": "stream",
     "text": [
      "0) 'Hello\\n'\n",
      "1) 'AAAaaa\\n'\n",
      "2) 'qwrty1234'\n"
     ]
    }
   ],
   "source": [
    "with open(os.path.join(TEMP_DIR, \"temp_TXT.txt\")) as f:\n",
    "    for n, line in enumerate(f):\n",
    "        print(f\"{n}) {repr(line)}\") \n",
    "   "
   ]
  },
  {
   "cell_type": "code",
   "execution_count": 24,
   "metadata": {},
   "outputs": [
    {
     "name": "stdout",
     "output_type": "stream",
     "text": [
      "Однажды, в студёную зимнюю пору\n",
      "Я из лесу вышел; был сильный мороз.\n",
      "Гляжу, поднимается медленно в гору\n",
      "Лошадка, везущая хворосту воз.\n",
      "И, шествуя важно, в спокойствии чинном,\n",
      "Лошадку ведёт под уздцы мужичок\n",
      "В больших сапогах, в полушубке овчинном,\n",
      "В больших рукавицах... а сам с ноготок!"
     ]
    }
   ],
   "source": [
    "with open(os.path.join(TEMP_DIR, \"temp_TXT_poem.txt\")) as f:\n",
    "   #print(f.read())\n",
    "   for line in f:\n",
    "       print(line, end='')\n",
    "   "
   ]
  },
  {
   "cell_type": "code",
   "execution_count": 26,
   "metadata": {},
   "outputs": [
    {
     "name": "stdout",
     "output_type": "stream",
     "text": [
      "Однажды, в студёную зимнюю пору\n",
      "Я из лесу вышел; был сильный мороз.\n",
      "Гляжу, поднимается медленно в гору\n",
      "Лошадка, везущая хворосту воз.\n",
      "И, шествуя важно, в спокойствии чинном,\n",
      "Лошадку ведёт под уздцы мужичок\n",
      "В больших сапогах, в полушубке овчинном,\n",
      "В больших рукавицах... а сам с ноготок!"
     ]
    }
   ],
   "source": [
    "with open(os.path.join(TEMP_DIR, \"temp_TXT_poem_utf8.txt\"), encoding='utf-8') as f:\n",
    "   #print(f.read())\n",
    "   for line in f:\n",
    "       print(line, end='')\n",
    "   "
   ]
  },
  {
   "cell_type": "markdown",
   "metadata": {},
   "source": [
    "# HW\n",
    "- примеры с бинарными файлами '_b' и '_+'\n",
    "- примеры работы сразу с несколькими файлами(запись, чтение)"
   ]
  }
 ],
 "metadata": {
  "interpreter": {
   "hash": "3a6f8b2227394587c5aa47911b9013af12e55eb00aba98c34627975f605aae29"
  },
  "kernelspec": {
   "display_name": "Python 3.10.2 64-bit",
   "language": "python",
   "name": "python3"
  },
  "language_info": {
   "codemirror_mode": {
    "name": "ipython",
    "version": 3
   },
   "file_extension": ".py",
   "mimetype": "text/x-python",
   "name": "python",
   "nbconvert_exporter": "python",
   "pygments_lexer": "ipython3",
   "version": "3.10.2"
  },
  "orig_nbformat": 4
 },
 "nbformat": 4,
 "nbformat_minor": 2
}
