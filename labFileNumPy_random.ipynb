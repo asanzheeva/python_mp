{
 "cells": [
  {
   "cell_type": "markdown",
   "metadata": {},
   "source": [
    "# Случайные числа в NumPy"
   ]
  },
  {
   "cell_type": "code",
   "execution_count": 2,
   "metadata": {},
   "outputs": [],
   "source": [
    "import numpy as np"
   ]
  },
  {
   "cell_type": "markdown",
   "metadata": {},
   "source": [
    "## Случайные целые числа"
   ]
  },
  {
   "cell_type": "code",
   "execution_count": 9,
   "metadata": {},
   "outputs": [
    {
     "data": {
      "text/plain": [
       "4"
      ]
     },
     "execution_count": 9,
     "metadata": {},
     "output_type": "execute_result"
    }
   ],
   "source": [
    "# Вернуть случайное число в интервале [0;5)\n",
    "np.random.randint(5)"
   ]
  },
  {
   "cell_type": "code",
   "execution_count": 10,
   "metadata": {},
   "outputs": [
    {
     "data": {
      "text/plain": [
       "2"
      ]
     },
     "execution_count": 10,
     "metadata": {},
     "output_type": "execute_result"
    }
   ],
   "source": [
    "np.random.randint(1, 10)"
   ]
  },
  {
   "cell_type": "code",
   "execution_count": 11,
   "metadata": {},
   "outputs": [
    {
     "data": {
      "text/plain": [
       "int"
      ]
     },
     "execution_count": 11,
     "metadata": {},
     "output_type": "execute_result"
    }
   ],
   "source": [
    "a = np.random.randint(1, 10)\n",
    "type(a)"
   ]
  },
  {
   "cell_type": "code",
   "execution_count": 12,
   "metadata": {},
   "outputs": [
    {
     "data": {
      "text/plain": [
       "numpy.int32"
      ]
     },
     "execution_count": 12,
     "metadata": {},
     "output_type": "execute_result"
    }
   ],
   "source": [
    "a = np.random.randint(1, 10, dtype=np.int32)\n",
    "type(a)"
   ]
  },
  {
   "cell_type": "code",
   "execution_count": 14,
   "metadata": {},
   "outputs": [
    {
     "data": {
      "text/plain": [
       "array([8, 5, 1, 4, 9])"
      ]
     },
     "execution_count": 14,
     "metadata": {},
     "output_type": "execute_result"
    }
   ],
   "source": [
    "np.random.randint(1, 10, 5) # 5 чисел от 1 до 10\n",
    "# в результате значения не уникальны"
   ]
  },
  {
   "cell_type": "code",
   "execution_count": 15,
   "metadata": {},
   "outputs": [
    {
     "data": {
      "text/plain": [
       "array([[[6, 3, 4, 7],\n",
       "        [1, 4, 5, 6],\n",
       "        [5, 7, 4, 1]],\n",
       "\n",
       "       [[2, 2, 9, 2],\n",
       "        [3, 5, 9, 4],\n",
       "        [4, 4, 3, 6]]])"
      ]
     },
     "execution_count": 15,
     "metadata": {},
     "output_type": "execute_result"
    }
   ],
   "source": [
    "np.random.randint(1, 10, (2,3,4))"
   ]
  },
  {
   "cell_type": "code",
   "execution_count": 16,
   "metadata": {},
   "outputs": [
    {
     "data": {
      "text/plain": [
       "array([[3, 4, 4, 3],\n",
       "       [5, 2, 6, 5],\n",
       "       [8, 1, 5, 1],\n",
       "       [6, 2, 8, 2]])"
      ]
     },
     "execution_count": 16,
     "metadata": {},
     "output_type": "execute_result"
    }
   ],
   "source": [
    "np.random.randint(1, 10, size = (4,4))"
   ]
  },
  {
   "cell_type": "code",
   "execution_count": 19,
   "metadata": {},
   "outputs": [
    {
     "data": {
      "text/plain": [
       "array([7, 4, 8, 5, 2])"
      ]
     },
     "execution_count": 19,
     "metadata": {},
     "output_type": "execute_result"
    }
   ],
   "source": [
    "np.random.choice(10, 5, replace=False) # почти аналог randint, но теперь значения уникальны"
   ]
  },
  {
   "cell_type": "code",
   "execution_count": 22,
   "metadata": {},
   "outputs": [
    {
     "name": "stdout",
     "output_type": "stream",
     "text": [
      "[0 1 2 3 4 5 6 7 8 9]\n"
     ]
    },
    {
     "data": {
      "text/plain": [
       "array([8, 0, 1, 2, 6])"
      ]
     },
     "execution_count": 22,
     "metadata": {},
     "output_type": "execute_result"
    }
   ],
   "source": [
    "a = np.arange(10)\n",
    "np.random.choice(a, 5)"
   ]
  },
  {
   "cell_type": "code",
   "execution_count": 23,
   "metadata": {},
   "outputs": [
    {
     "data": {
      "text/plain": [
       "array([ 1,  1,  1, -1, -1])"
      ]
     },
     "execution_count": 23,
     "metadata": {},
     "output_type": "execute_result"
    }
   ],
   "source": [
    "np.random.choice([-1,0, 1], 5)"
   ]
  },
  {
   "cell_type": "code",
   "execution_count": 24,
   "metadata": {},
   "outputs": [
    {
     "data": {
      "text/plain": [
       "array(['Нет', 'Да', 'Нет', 'Да', 'Отмена'], dtype='<U6')"
      ]
     },
     "execution_count": 24,
     "metadata": {},
     "output_type": "execute_result"
    }
   ],
   "source": [
    "np.random.choice(['Нет', 'Отмена', 'Да'], 5)"
   ]
  },
  {
   "cell_type": "code",
   "execution_count": 27,
   "metadata": {},
   "outputs": [
    {
     "data": {
      "text/plain": [
       "array(['Пасмурно', 'Солнечно', 'Пасмурно', 'Пасмурно', 'Солнечно',\n",
       "       'Дождливо', 'Дождливо'], dtype='<U8')"
      ]
     },
     "execution_count": 27,
     "metadata": {},
     "output_type": "execute_result"
    }
   ],
   "source": [
    "weather = ['Солнечно', 'Пасмурно', 'Дождливо', 'Ветренно']\n",
    "perm = [0.1, 0.5, 0.3, 0.1]\n",
    "np.random.choice(weather, size=7, p= perm)"
   ]
  },
  {
   "cell_type": "markdown",
   "metadata": {},
   "source": [
    "## Случайные дробные числа"
   ]
  },
  {
   "cell_type": "code",
   "execution_count": 28,
   "metadata": {},
   "outputs": [
    {
     "data": {
      "text/plain": [
       "array([0.39289125, 0.38678245, 0.43195975, 0.01231517, 0.83702688])"
      ]
     },
     "execution_count": 28,
     "metadata": {},
     "output_type": "execute_result"
    }
   ],
   "source": [
    "np.random.rand(5)"
   ]
  },
  {
   "cell_type": "code",
   "execution_count": 29,
   "metadata": {},
   "outputs": [
    {
     "data": {
      "text/plain": [
       "array([[0.9958137 , 0.81916906, 0.53607964],\n",
       "       [0.96319419, 0.94362804, 0.61035673]])"
      ]
     },
     "execution_count": 29,
     "metadata": {},
     "output_type": "execute_result"
    }
   ],
   "source": [
    "np.random.rand(2,3)"
   ]
  },
  {
   "cell_type": "code",
   "execution_count": 31,
   "metadata": {},
   "outputs": [
    {
     "data": {
      "text/plain": [
       "array([1.12306472, 9.36691091, 4.75436918, 3.92521255, 8.13779854])"
      ]
     },
     "execution_count": 31,
     "metadata": {},
     "output_type": "execute_result"
    }
   ],
   "source": [
    "# Случайные дробные числа в интервале\n",
    "np.random.uniform(1, 10, 5)"
   ]
  },
  {
   "cell_type": "code",
   "execution_count": 32,
   "metadata": {},
   "outputs": [
    {
     "data": {
      "text/plain": [
       "array([[3.04313634, 3.28711862, 3.4030938 ],\n",
       "       [8.19515174, 2.73423962, 9.97913159]])"
      ]
     },
     "execution_count": 32,
     "metadata": {},
     "output_type": "execute_result"
    }
   ],
   "source": [
    "np.random.uniform(1, 10, (2,3))"
   ]
  },
  {
   "cell_type": "code",
   "execution_count": 35,
   "metadata": {},
   "outputs": [
    {
     "name": "stdout",
     "output_type": "stream",
     "text": [
      "[0, 1, 2, 3, 4, 5, 6, 7, 8, 9]\n",
      "[4, 2, 0, 3, 5, 7, 6, 8, 1, 9]\n"
     ]
    }
   ],
   "source": [
    "a = list(range(10))\n",
    "print(a)\n",
    "np.random.shuffle(a) # перемешивание\n",
    "print(a)"
   ]
  },
  {
   "cell_type": "code",
   "execution_count": 39,
   "metadata": {},
   "outputs": [
    {
     "data": {
      "text/plain": [
       "['Севастополь', 'Воронеж', 'Тула', 'Москва']"
      ]
     },
     "execution_count": 39,
     "metadata": {},
     "output_type": "execute_result"
    }
   ],
   "source": [
    "cities = \"Москва, Воронеж, Тула, Севастополь\".split(', ')\n",
    "np.random.shuffle(cities)\n",
    "cities"
   ]
  },
  {
   "cell_type": "markdown",
   "metadata": {},
   "source": [
    "# Ещё"
   ]
  },
  {
   "cell_type": "code",
   "execution_count": 40,
   "metadata": {},
   "outputs": [
    {
     "data": {
      "text/plain": [
       "b'\\x89\\x8f_\\x9c\\xf9\\x04I\\xfc\\x93\\x9e\\xd2\\xc5\\xebdL\\xf2\\xf0B\\xbbo'"
      ]
     },
     "execution_count": 40,
     "metadata": {},
     "output_type": "execute_result"
    }
   ],
   "source": [
    "np.random.bytes(20)"
   ]
  },
  {
   "cell_type": "code",
   "execution_count": 42,
   "metadata": {},
   "outputs": [
    {
     "data": {
      "text/plain": [
       "array([8, 0, 6, 1, 9, 7, 3, 4, 5, 2])"
      ]
     },
     "execution_count": 42,
     "metadata": {},
     "output_type": "execute_result"
    }
   ],
   "source": [
    "a = np.random.permutation(10)\n",
    "a"
   ]
  },
  {
   "cell_type": "code",
   "execution_count": 44,
   "metadata": {},
   "outputs": [
    {
     "data": {
      "text/plain": [
       "array([[0.54423183, 0.71583066, 0.20691866, 0.45852017, 0.40245148,\n",
       "        0.89190723, 0.01768951, 0.93258436, 0.65065709, 0.54233174],\n",
       "       [0.11127654, 0.18879452, 0.77324562, 0.3047006 , 0.93247001,\n",
       "        0.45522379, 0.85291656, 0.36120389, 0.34027691, 0.05698576],\n",
       "       [0.27117089, 0.20349124, 0.97932965, 0.51303058, 0.57057098,\n",
       "        0.62767737, 0.6865794 , 0.75919487, 0.90153327, 0.72296983],\n",
       "       [0.85065659, 0.48842196, 0.2762709 , 0.44266028, 0.37772816,\n",
       "        0.98018169, 0.09486756, 0.18075545, 0.58379886, 0.22448543],\n",
       "       [0.23764694, 0.78722327, 0.21244008, 0.50100271, 0.85966775,\n",
       "        0.80770015, 0.77793739, 0.69099308, 0.60117129, 0.20977808],\n",
       "       [0.24309572, 0.30786392, 0.5233349 , 0.27549412, 0.79842599,\n",
       "        0.787004  , 0.80503273, 0.13563677, 0.51345167, 0.50697794],\n",
       "       [0.46516314, 0.70153893, 0.27844661, 0.89966168, 0.86364121,\n",
       "        0.61609605, 0.2153374 , 0.15853777, 0.83163749, 0.02019359]])"
      ]
     },
     "execution_count": 44,
     "metadata": {},
     "output_type": "execute_result"
    }
   ],
   "source": [
    "a = np.random.rand(7,10)\n",
    "a"
   ]
  },
  {
   "cell_type": "code",
   "execution_count": 46,
   "metadata": {},
   "outputs": [
    {
     "data": {
      "text/plain": [
       "array([[1, 1, 0, 1, 1, 1, 0, 1, 1, 1],\n",
       "       [0, 0, 1, 1, 1, 1, 1, 1, 1, 0],\n",
       "       [0, 0, 1, 1, 1, 1, 1, 1, 1, 1],\n",
       "       [1, 1, 0, 1, 1, 1, 0, 0, 1, 0],\n",
       "       [0, 1, 0, 1, 1, 1, 1, 1, 1, 0],\n",
       "       [0, 1, 1, 0, 1, 1, 1, 0, 1, 1],\n",
       "       [1, 1, 0, 1, 1, 1, 0, 0, 1, 0]])"
      ]
     },
     "execution_count": 46,
     "metadata": {},
     "output_type": "execute_result"
    }
   ],
   "source": [
    "a = np.where( a > 0.3, 1, 0)\n",
    "a"
   ]
  }
 ],
 "metadata": {
  "interpreter": {
   "hash": "568d99031516cb91b124139a50c43e0e628ee43803acee1edec6cbd47ca74668"
  },
  "kernelspec": {
   "display_name": "Python 3.10.2 64-bit",
   "language": "python",
   "name": "python3"
  },
  "language_info": {
   "codemirror_mode": {
    "name": "ipython",
    "version": 3
   },
   "file_extension": ".py",
   "mimetype": "text/x-python",
   "name": "python",
   "nbconvert_exporter": "python",
   "pygments_lexer": "ipython3",
   "version": "3.10.2"
  },
  "orig_nbformat": 4
 },
 "nbformat": 4,
 "nbformat_minor": 2
}
