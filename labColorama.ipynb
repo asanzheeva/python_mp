{
 "cells": [
  {
   "cell_type": "markdown",
   "metadata": {},
   "source": [
    "## Colorama - цветной вывод текста"
   ]
  },
  {
   "cell_type": "code",
   "execution_count": 1,
   "metadata": {},
   "outputs": [],
   "source": [
    "from colorama import init, Style, Back, Fore"
   ]
  },
  {
   "cell_type": "code",
   "execution_count": 5,
   "metadata": {},
   "outputs": [
    {
     "name": "stdout",
     "output_type": "stream",
     "text": [
      "\u001b[22m\u001b[45m\u001b[37mПривет!!!\n",
      "22\n"
     ]
    }
   ],
   "source": [
    "print(Style.NORMAL + Back.MAGENTA + Fore.WHITE + \"Привет!!!\")\n",
    "print(22)"
   ]
  }
 ],
 "metadata": {
  "interpreter": {
   "hash": "3a6f8b2227394587c5aa47911b9013af12e55eb00aba98c34627975f605aae29"
  },
  "kernelspec": {
   "display_name": "Python 3.10.2 64-bit",
   "language": "python",
   "name": "python3"
  },
  "language_info": {
   "codemirror_mode": {
    "name": "ipython",
    "version": 3
   },
   "file_extension": ".py",
   "mimetype": "text/x-python",
   "name": "python",
   "nbconvert_exporter": "python",
   "pygments_lexer": "ipython3",
   "version": "3.10.2"
  },
  "orig_nbformat": 4
 },
 "nbformat": 4,
 "nbformat_minor": 2
}
