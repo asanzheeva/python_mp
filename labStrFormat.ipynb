{
 "cells": [
  {
   "cell_type": "code",
   "execution_count": null,
   "metadata": {},
   "outputs": [],
   "source": [
    "#дописать конспект в начале и в конце "
   ]
  },
  {
   "cell_type": "markdown",
   "metadata": {},
   "source": [
    "## Строковый метод format\n"
   ]
  },
  {
   "cell_type": "code",
   "execution_count": null,
   "metadata": {},
   "outputs": [],
   "source": [
    "print(\"Привет, {}!\".format(\"Катя\"))\n",
    "print(\"Привет, {0}, {0} тебе уже {1} лет!\".format(\"Катя\", 19))\n",
    "print(\"{var} = {value}\".format(var = pi ))\n"
   ]
  },
  {
   "cell_type": "code",
   "execution_count": 1,
   "metadata": {},
   "outputs": [
    {
     "name": "stdout",
     "output_type": "stream",
     "text": [
      "q w e r t y\n"
     ]
    }
   ],
   "source": [
    "print(*\"qwerty\")"
   ]
  },
  {
   "cell_type": "code",
   "execution_count": 2,
   "metadata": {},
   "outputs": [
    {
     "name": "stdout",
     "output_type": "stream",
     "text": [
      "{'name': 'Катя', 'age': 19}\n",
      "name age\n",
      "Привет, Катя тебе уже 19 лет!\n",
      "Привет, Катя тебе уже 19 лет!\n",
      "Привет, Катя тебе уже 19 лет!\n"
     ]
    }
   ],
   "source": [
    "u = {'name': 'Катя', 'age' : 19}\n",
    "print(u)\n",
    "print(*u)\n",
    "print(\"Привет, {name} тебе уже {age} лет!\".format(**u))\n",
    "print(\"Привет, {name} тебе уже {age} лет!\".format(**{'name': 'Катя', 'age' : 19}))\n",
    "print(\"Привет, {name} тебе уже {age} лет!\".format(name = 'Катя', age = 19))\n"
   ]
  },
  {
   "cell_type": "markdown",
   "metadata": {},
   "source": [
    "## % - форматирование"
   ]
  },
  {
   "cell_type": "code",
   "execution_count": 11,
   "metadata": {},
   "outputs": [
    {
     "name": "stdout",
     "output_type": "stream",
     "text": [
      "col_12345\n",
      "Автобус № 35\n",
      "Автобус № 35\n",
      "Автобус № 35\n",
      "   25\n",
      "25   \n",
      "pi = 3.141500\n",
      "pi = 3.142\n",
      "pi = 3.14150\n"
     ]
    }
   ],
   "source": [
    "# Синтакис; %[(имя)][ширина][.точность]тип\n",
    "# %d, %i - десятичное число\n",
    "# %f- число с плавающей запятой\n",
    "# %s - строка\n",
    "\n",
    "print(\"col_%d\" % 12345)\n",
    "print(\"%s № %d\" % (\"Автобус\", 35))\n",
    "print(\"%(bus)s № %(num)d\" % {\"bus\" : \"Автобус\", \"num\" : 35})\n",
    "\n",
    "v = {\"bus\" : \"Автобус\", \"num\" : 35}\n",
    "print(\"%(bus)s № %(num)d\" % v)\n",
    "\n",
    "print(\"%5d\" % 25) # можно выровнить строку по левому или правому краю\n",
    "print(\"%-5d\" % 25)\n",
    "\n",
    "print(\"pi = %f\" % 3.1415) \n",
    "print(\"pi = %.3f\" % 3.1415) # округление\n",
    "print(\"pi = %.5f\" % 3.1415)"
   ]
  },
  {
   "cell_type": "markdown",
   "metadata": {},
   "source": [
    "## f-строки"
   ]
  },
  {
   "cell_type": "code",
   "execution_count": 12,
   "metadata": {},
   "outputs": [
    {
     "name": "stdout",
     "output_type": "stream",
     "text": [
      "Ваня\n",
      "4\n"
     ]
    }
   ],
   "source": [
    "name = \"Ваня\"\n",
    "print(f\"{name}\")\n",
    "\n",
    "a = 2\n",
    "b = 4\n",
    "print(f\"{a if a > b else b}\")"
   ]
  },
  {
   "cell_type": "code",
   "execution_count": 15,
   "metadata": {},
   "outputs": [
    {
     "name": "stdout",
     "output_type": "stream",
     "text": [
      "       Привет       \n",
      "              Привет\n",
      "Привет              \n",
      "_______Привет_______\n",
      "______________Привет\n",
      "Привет______________\n"
     ]
    }
   ],
   "source": [
    "# совместно с Mini-Language\n",
    "print(f\"{'Привет':^20}\")\n",
    "print(f\"{'Привет':>20}\")\n",
    "print(f\"{'Привет':<20}\")\n",
    "\n",
    "print(f\"{'Привет':_^20}\")\n",
    "print(f\"{'Привет':_>20}\")\n",
    "print(f\"{'Привет':_<20}\")"
   ]
  },
  {
   "cell_type": "code",
   "execution_count": 18,
   "metadata": {},
   "outputs": [
    {
     "name": "stdout",
     "output_type": "stream",
     "text": [
      "255\n",
      "11111111\n",
      "0b11111111\n",
      "ff\n",
      "0xff\n",
      "377\n",
      "0o377\n"
     ]
    }
   ],
   "source": [
    "# Двоичная система счисления\n",
    "print(f\"{255}\")\n",
    "print(f\"{255:b}\")\n",
    "print(f\"{255:#b}\")\n",
    "\n",
    "# Шестнадцатиричная система счисления\n",
    "print(f\"{255:x}\")\n",
    "print(f\"{255:#x}\")\n",
    "\n",
    "# Восьмеричная система счисления\n",
    "print(f\"{255:o}\")\n",
    "print(f\"{255:#o}\")"
   ]
  },
  {
   "cell_type": "code",
   "execution_count": 28,
   "metadata": {},
   "outputs": [
    {
     "name": "stdout",
     "output_type": "stream",
     "text": [
      "   15\n",
      "00015\n",
      "00015\n",
      "___15\n",
      "12_345_678\n"
     ]
    }
   ],
   "source": [
    "# Ведущие нули (можно повторить с другими знаками)\n",
    "print(f\"{15:5}\")\n",
    "print(f\"{15:05}\")\n",
    "print(f\"{15:0=5}\")\n",
    "print(f\"{15:_=5}\")\n",
    "\n",
    "# Тысячный разделитель\n",
    "print(f\"{12345678:_}\")"
   ]
  },
  {
   "cell_type": "markdown",
   "metadata": {},
   "source": [
    "## Template-строки"
   ]
  },
  {
   "cell_type": "code",
   "execution_count": 29,
   "metadata": {},
   "outputs": [
    {
     "data": {
      "text/plain": [
       "<string.Template at 0x183ed78dba0>"
      ]
     },
     "execution_count": 29,
     "metadata": {},
     "output_type": "execute_result"
    }
   ],
   "source": [
    "from string import Template\n",
    "\n",
    "name = \"Сергей\"\n",
    "age = 20\n",
    "v = Template(\"Меня зовут $name, мне $age\")\n",
    "v"
   ]
  }
 ],
 "metadata": {
  "interpreter": {
   "hash": "3a6f8b2227394587c5aa47911b9013af12e55eb00aba98c34627975f605aae29"
  },
  "kernelspec": {
   "display_name": "Python 3.10.2 64-bit",
   "language": "python",
   "name": "python3"
  },
  "language_info": {
   "codemirror_mode": {
    "name": "ipython",
    "version": 3
   },
   "file_extension": ".py",
   "mimetype": "text/x-python",
   "name": "python",
   "nbconvert_exporter": "python",
   "pygments_lexer": "ipython3",
   "version": "3.10.2"
  },
  "orig_nbformat": 4
 },
 "nbformat": 4,
 "nbformat_minor": 2
}
