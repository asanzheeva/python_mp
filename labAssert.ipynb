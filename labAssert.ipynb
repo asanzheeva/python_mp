{
 "cells": [
  {
   "cell_type": "markdown",
   "metadata": {},
   "source": [
    "# Утверждение (assert)\n",
    "\n",
    "Основная задача утверждений - это информирование разработчиков о неотлеживаемых ошибках"
   ]
  },
  {
   "cell_type": "code",
   "execution_count": 8,
   "metadata": {},
   "outputs": [
    {
     "data": {
      "text/plain": [
       "0.5"
      ]
     },
     "execution_count": 8,
     "metadata": {},
     "output_type": "execute_result"
    }
   ],
   "source": [
    "def div_numbers(a, b):\n",
    "    assert b != 0, \"Нельзя делить на ноль\" \n",
    "    #теперь выдает наше сообщение для разработчиков\n",
    "    return a / b\n",
    "\n",
    "div_numbers(1, 2)\n",
    "#div_numbers(1, 0) #выдает ошибку"
   ]
  },
  {
   "cell_type": "code",
   "execution_count": 10,
   "metadata": {},
   "outputs": [
    {
     "ename": "AssertionError",
     "evalue": "Параметр 'a' должен быть int или float",
     "output_type": "error",
     "traceback": [
      "\u001b[1;31m---------------------------------------------------------------------------\u001b[0m",
      "\u001b[1;31mAssertionError\u001b[0m                            Traceback (most recent call last)",
      "\u001b[1;32md:\\Python\\labs\\mp_2021\\labAssert.ipynb Cell 3'\u001b[0m in \u001b[0;36m<cell line: 5>\u001b[1;34m()\u001b[0m\n\u001b[0;32m      <a href='vscode-notebook-cell:/d%3A/Python/labs/mp_2021/labAssert.ipynb#ch0000003?line=1'>2</a>\u001b[0m     \u001b[39massert\u001b[39;00m \u001b[39mtype\u001b[39m(a) \u001b[39min\u001b[39;00m (\u001b[39mint\u001b[39m, \u001b[39mfloat\u001b[39m), \u001b[39m\"\u001b[39m\u001b[39mПараметр \u001b[39m\u001b[39m'\u001b[39m\u001b[39ma\u001b[39m\u001b[39m'\u001b[39m\u001b[39m должен быть int или float\u001b[39m\u001b[39m\"\u001b[39m \u001b[39m#проверка на тип\u001b[39;00m\n\u001b[0;32m      <a href='vscode-notebook-cell:/d%3A/Python/labs/mp_2021/labAssert.ipynb#ch0000003?line=2'>3</a>\u001b[0m     \u001b[39mreturn\u001b[39;00m a \u001b[39m+\u001b[39m b\n\u001b[1;32m----> <a href='vscode-notebook-cell:/d%3A/Python/labs/mp_2021/labAssert.ipynb#ch0000003?line=4'>5</a>\u001b[0m sum_numbers(\u001b[39m\"\u001b[39;49m\u001b[39m1\u001b[39;49m\u001b[39m\"\u001b[39;49m, \u001b[39m2\u001b[39;49m)\n",
      "\u001b[1;32md:\\Python\\labs\\mp_2021\\labAssert.ipynb Cell 3'\u001b[0m in \u001b[0;36msum_numbers\u001b[1;34m(a, b)\u001b[0m\n\u001b[0;32m      <a href='vscode-notebook-cell:/d%3A/Python/labs/mp_2021/labAssert.ipynb#ch0000003?line=0'>1</a>\u001b[0m \u001b[39mdef\u001b[39;00m \u001b[39msum_numbers\u001b[39m(a, b):\n\u001b[1;32m----> <a href='vscode-notebook-cell:/d%3A/Python/labs/mp_2021/labAssert.ipynb#ch0000003?line=1'>2</a>\u001b[0m     \u001b[39massert\u001b[39;00m \u001b[39mtype\u001b[39m(a) \u001b[39min\u001b[39;00m (\u001b[39mint\u001b[39m, \u001b[39mfloat\u001b[39m), \u001b[39m\"\u001b[39m\u001b[39mПараметр \u001b[39m\u001b[39m'\u001b[39m\u001b[39ma\u001b[39m\u001b[39m'\u001b[39m\u001b[39m должен быть int или float\u001b[39m\u001b[39m\"\u001b[39m \u001b[39m#проверка на тип\u001b[39;00m\n\u001b[0;32m      <a href='vscode-notebook-cell:/d%3A/Python/labs/mp_2021/labAssert.ipynb#ch0000003?line=2'>3</a>\u001b[0m     \u001b[39mreturn\u001b[39;00m a \u001b[39m+\u001b[39m b\n",
      "\u001b[1;31mAssertionError\u001b[0m: Параметр 'a' должен быть int или float"
     ]
    }
   ],
   "source": [
    "def sum_numbers(a, b):\n",
    "    assert type(a) in (int, float), \"Параметр 'a' должен быть int или float\" #проверка на тип\n",
    "    return a + b\n",
    "\n",
    "sum_numbers(\"1\", 2)"
   ]
  },
  {
   "cell_type": "code",
   "execution_count": 11,
   "metadata": {},
   "outputs": [
    {
     "name": "stdout",
     "output_type": "stream",
     "text": [
      "True\n"
     ]
    }
   ],
   "source": [
    "print(isinstance(True, int))"
   ]
  }
 ],
 "metadata": {
  "interpreter": {
   "hash": "3a6f8b2227394587c5aa47911b9013af12e55eb00aba98c34627975f605aae29"
  },
  "kernelspec": {
   "display_name": "Python 3.10.2 64-bit",
   "language": "python",
   "name": "python3"
  },
  "language_info": {
   "codemirror_mode": {
    "name": "ipython",
    "version": 3
   },
   "file_extension": ".py",
   "mimetype": "text/x-python",
   "name": "python",
   "nbconvert_exporter": "python",
   "pygments_lexer": "ipython3",
   "version": "3.10.2"
  },
  "orig_nbformat": 4
 },
 "nbformat": 4,
 "nbformat_minor": 2
}
