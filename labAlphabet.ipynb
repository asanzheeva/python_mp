{
 "cells": [
  {
   "cell_type": "markdown",
   "metadata": {},
   "source": [
    "# Алфавит (русский и английский)\n",
    "\n",
    "HW:\n",
    "- Вывести в консоль алфавит в прямом и обратном порядке через пробелы"
   ]
  },
  {
   "cell_type": "code",
   "execution_count": 38,
   "metadata": {},
   "outputs": [
    {
     "name": "stdout",
     "output_type": "stream",
     "text": [
      "1067\n",
      "Ы\n"
     ]
    }
   ],
   "source": [
    "print(ord('Ы')) # ord(i) Возвращает числовое представление символа\n",
    "print(chr(1067)) # chr(i) Возвращает символ по его числовому представлению"
   ]
  },
  {
   "cell_type": "markdown",
   "metadata": {},
   "source": [
    "алфавит в прямом порядке:"
   ]
  },
  {
   "cell_type": "code",
   "execution_count": 5,
   "metadata": {},
   "outputs": [
    {
     "name": "stdout",
     "output_type": "stream",
     "text": [
      "a b c d e f g h i j k l m n o p q r s t u v w x y z "
     ]
    }
   ],
   "source": [
    "for i in range(ord('a'), ord('z')+1):\n",
    "    print(chr(i), end=' ')"
   ]
  },
  {
   "cell_type": "code",
   "execution_count": 10,
   "metadata": {},
   "outputs": [
    {
     "name": "stdout",
     "output_type": "stream",
     "text": [
      "а б в г д е ж з и й к л м н о п р с т у ф х ц ч ш щ ъ ы ь э ю я "
     ]
    }
   ],
   "source": [
    "for i in range(ord('а'), ord('я')+1):\n",
    "    print(chr(i), end=' ')"
   ]
  },
  {
   "cell_type": "code",
   "execution_count": 6,
   "metadata": {},
   "outputs": [
    {
     "name": "stdout",
     "output_type": "stream",
     "text": [
      "a b c d e f g h i j k l m n o p q r s t u v w x y z "
     ]
    }
   ],
   "source": [
    "n = ord('a')\n",
    "for i in range(n, n+26):\n",
    "    print(chr(i), end=' ')"
   ]
  },
  {
   "cell_type": "code",
   "execution_count": 13,
   "metadata": {},
   "outputs": [
    {
     "name": "stdout",
     "output_type": "stream",
     "text": [
      "а б в г д е ж з и й к л м н о п р с т у ф х ц ч ш щ ъ ы ь э ю я "
     ]
    }
   ],
   "source": [
    "n = ord('а')\n",
    "for i in range(n, n+32):\n",
    "    print(chr(i), end=' ')"
   ]
  },
  {
   "cell_type": "code",
   "execution_count": 15,
   "metadata": {},
   "outputs": [
    {
     "name": "stdout",
     "output_type": "stream",
     "text": [
      "abcdefghijklmnopqrstuvwxyz\n"
     ]
    },
    {
     "data": {
      "text/plain": [
       "'a b c d e f g h i j k l m n o p q r s t u v w x y z'"
      ]
     },
     "execution_count": 15,
     "metadata": {},
     "output_type": "execute_result"
    }
   ],
   "source": [
    "# 3-й способ - использование модуля string (работает только с латиницей!!)\n",
    "import string\n",
    "print(string.ascii_lowercase) #вывод строчных\n",
    "#print(string.ascii_uppercase)  #вывод заглавных\n",
    "\n",
    "alphabet  = string.ascii_lowercase\n",
    "' '.join(alphabet) # добавляем пробелы с помощью метода join"
   ]
  },
  {
   "cell_type": "markdown",
   "metadata": {},
   "source": [
    "алфавит в обратном порядке:"
   ]
  },
  {
   "cell_type": "code",
   "execution_count": 17,
   "metadata": {},
   "outputs": [
    {
     "name": "stdout",
     "output_type": "stream",
     "text": [
      "z y x w v u t s r q p o n m l k j i h g f e d c b a\n"
     ]
    }
   ],
   "source": [
    "# 1-й способ - использование функции reversed()\n",
    "alphabet  = string.ascii_lowercase\n",
    "\n",
    "res=' '.join(reversed(alphabet))\n",
    "\n",
    "print(res)"
   ]
  },
  {
   "cell_type": "code",
   "execution_count": 9,
   "metadata": {},
   "outputs": [
    {
     "data": {
      "text/plain": [
       "'z y x w v u t s r q p o n m l k j i h g f e d c b a'"
      ]
     },
     "execution_count": 9,
     "metadata": {},
     "output_type": "execute_result"
    }
   ],
   "source": [
    "# 2-й способ - использование среза (если заполнить только шаг (-1), то вывод начнется с конца)\n",
    "alphabet  = string.ascii_lowercase\n",
    "n = alphabet[::-1]\n",
    "' '.join(n)"
   ]
  }
 ],
 "metadata": {
  "interpreter": {
   "hash": "568d99031516cb91b124139a50c43e0e628ee43803acee1edec6cbd47ca74668"
  },
  "kernelspec": {
   "display_name": "Python 3.10.2 64-bit",
   "language": "python",
   "name": "python3"
  },
  "language_info": {
   "codemirror_mode": {
    "name": "ipython",
    "version": 3
   },
   "file_extension": ".py",
   "mimetype": "text/x-python",
   "name": "python",
   "nbconvert_exporter": "python",
   "pygments_lexer": "ipython3",
   "version": "3.10.2"
  },
  "orig_nbformat": 4
 },
 "nbformat": 4,
 "nbformat_minor": 2
}
