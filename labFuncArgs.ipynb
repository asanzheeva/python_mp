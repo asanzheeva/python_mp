{
 "cells": [
  {
   "cell_type": "markdown",
   "metadata": {},
   "source": [
    "# Аргументы функции\n",
    "\n",
    "- неизменяемые объекты передаются \"по значению\". Т.е изменение внутри функции не изменит его во вне\n",
    "- изменяемые объекты передаются \"по ссылке\". Т.е изменение внутри функции изменит его во вне\n",
    "\n",
    "Помним:\n",
    "\n",
    "- Неизменяемые объекты [int, float, str, tuple, ...]\n",
    "- Изменяемые объекты  [list, set, dict, ...]\n"
   ]
  },
  {
   "cell_type": "code",
   "execution_count": 2,
   "metadata": {},
   "outputs": [
    {
     "name": "stdout",
     "output_type": "stream",
     "text": [
      "show_int - x = 10\n",
      "x = 1\n"
     ]
    }
   ],
   "source": [
    "# вариант передачи \"по значению\"\n",
    "def show_int(x):\n",
    "    x = 10\n",
    "    print(f\"show_int - {x = }\")\n",
    "\n",
    "x = 1\n",
    "show_int(x)\n",
    "print(f\"{x = }\")"
   ]
  },
  {
   "cell_type": "code",
   "execution_count": 3,
   "metadata": {},
   "outputs": [
    {
     "name": "stdout",
     "output_type": "stream",
     "text": [
      "cities_=['Тула', 'Воронеж']\n",
      "cities=['Тула', 'Воронеж']\n"
     ]
    }
   ],
   "source": [
    "# вариант передачи \"по ссылке\"\n",
    "\n",
    "def show_cities(cities_: list):\n",
    "    cities_.append(\"Воронеж\") #добавляем новое значение\n",
    "    print(f\"{cities_=}\")\n",
    "\n",
    "cities = [\"Тула\"]\n",
    "show_cities(cities)\n",
    "print(f\"{cities=}\")"
   ]
  },
  {
   "cell_type": "code",
   "execution_count": 4,
   "metadata": {},
   "outputs": [
    {
     "name": "stdout",
     "output_type": "stream",
     "text": [
      "cities_=['Тула', 'Воронеж']\n",
      "cities=['Тула']\n"
     ]
    }
   ],
   "source": [
    "cities = [\"Тула\"]\n",
    "show_cities(cities[:]) #передана копия листа\n",
    "print(f\"{cities=}\")"
   ]
  },
  {
   "cell_type": "code",
   "execution_count": 6,
   "metadata": {},
   "outputs": [
    {
     "name": "stdout",
     "output_type": "stream",
     "text": [
      "show_cities - local_cities=['Тула', 'Воронеж']\n",
      "cities=['Тула']\n"
     ]
    }
   ],
   "source": [
    "def show_cities(cities_: list):\n",
    "    local_cities = cities_[:]\n",
    "    local_cities.append(\"Воронеж\") #добавляем новое значение\n",
    "    print(f\"show_cities - {local_cities=}\")\n",
    "\n",
    "cities = [\"Тула\"]\n",
    "show_cities(cities)\n",
    "print(f\"{cities=}\")"
   ]
  }
 ],
 "metadata": {
  "interpreter": {
   "hash": "3a6f8b2227394587c5aa47911b9013af12e55eb00aba98c34627975f605aae29"
  },
  "kernelspec": {
   "display_name": "Python 3.10.2 64-bit",
   "language": "python",
   "name": "python3"
  },
  "language_info": {
   "codemirror_mode": {
    "name": "ipython",
    "version": 3
   },
   "file_extension": ".py",
   "mimetype": "text/x-python",
   "name": "python",
   "nbconvert_exporter": "python",
   "pygments_lexer": "ipython3",
   "version": "3.10.2"
  },
  "orig_nbformat": 4
 },
 "nbformat": 4,
 "nbformat_minor": 2
}
