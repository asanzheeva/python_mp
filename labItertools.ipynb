{
 "cells": [
  {
   "cell_type": "markdown",
   "metadata": {},
   "source": [
    "## Сборник итераторов (itertools)\n",
    "\n",
    "* Бесконечные итераторы\n",
    "* Конечные итераторы\n",
    "* Комбинированные итераторы"
   ]
  },
  {
   "cell_type": "code",
   "execution_count": 7,
   "metadata": {},
   "outputs": [],
   "source": [
    "import itertools\n",
    "#import itertools as it алиас - можно сократить название, чтобы не прописывать полностью\n",
    "#from itertools import *"
   ]
  },
  {
   "cell_type": "markdown",
   "metadata": {},
   "source": [
    "## Бесконечные итераторы"
   ]
  },
  {
   "cell_type": "code",
   "execution_count": 8,
   "metadata": {},
   "outputs": [
    {
     "name": "stdout",
     "output_type": "stream",
     "text": [
      "10 11 12 13 14 15 16 17 18 19 20 21 22 23 24 25 26 27 28 29 30 "
     ]
    }
   ],
   "source": [
    "# itertools.count(start = 0, step = 1):\n",
    "for i in itertools.count(10):\n",
    "    if i > 30:\n",
    "        break #если не прервать, то будет работать бесконечно\n",
    "    print(i, end = ' ')"
   ]
  },
  {
   "cell_type": "code",
   "execution_count": 9,
   "metadata": {},
   "outputs": [
    {
     "name": "stdout",
     "output_type": "stream",
     "text": [
      "A B C D A B C D A B "
     ]
    }
   ],
   "source": [
    "n = 0\n",
    "for i in itertools.cycle(\"ABCD\"):\n",
    "    if n >= 10:\n",
    "        break\n",
    "    print(i, end = ' ')\n",
    "    n+=1"
   ]
  },
  {
   "cell_type": "code",
   "execution_count": 11,
   "metadata": {},
   "outputs": [
    {
     "name": "stdout",
     "output_type": "stream",
     "text": [
      "Москва\n",
      "Воронеж\n",
      "Калуга\n",
      "Москва\n",
      "Воронеж\n",
      "Калуга\n",
      "Москва\n"
     ]
    }
   ],
   "source": [
    "it_cities = itertools.cycle(['Москва', 'Воронеж', 'Калуга'])\n",
    "print(next(it_cities))\n",
    "print(next(it_cities))\n",
    "print(next(it_cities))\n",
    "print(next(it_cities))\n",
    "print(next(it_cities))\n",
    "print(next(it_cities))\n",
    "print(next(it_cities))"
   ]
  },
  {
   "cell_type": "code",
   "execution_count": 13,
   "metadata": {},
   "outputs": [
    {
     "name": "stdout",
     "output_type": "stream",
     "text": [
      "Hello Hello Hello Hello Hello "
     ]
    }
   ],
   "source": [
    "n = 0\n",
    "for i in itertools.repeat('Hello'):\n",
    "    if n >= 5:\n",
    "        break\n",
    "    print(i, end = ' ')\n",
    "    n+= 1"
   ]
  },
  {
   "cell_type": "code",
   "execution_count": 14,
   "metadata": {},
   "outputs": [
    {
     "name": "stdout",
     "output_type": "stream",
     "text": [
      "Hello Hello Hello Hello "
     ]
    }
   ],
   "source": [
    "for i in itertools.repeat('Hello', 4):\n",
    "    print(i, end = ' ')"
   ]
  },
  {
   "cell_type": "markdown",
   "metadata": {},
   "source": [
    "## Конечные итераторы"
   ]
  },
  {
   "cell_type": "code",
   "execution_count": 15,
   "metadata": {},
   "outputs": [
    {
     "name": "stdout",
     "output_type": "stream",
     "text": [
      "1 2 3 4 5 6 7 8 9\n",
      "1 3 6 10 15 21 28 36 45\n"
     ]
    }
   ],
   "source": [
    "print(*range(1, 10))\n",
    "print(*itertools.accumulate(range(1, 10)))\n"
   ]
  },
  {
   "cell_type": "code",
   "execution_count": 18,
   "metadata": {},
   "outputs": [
    {
     "name": "stdout",
     "output_type": "stream",
     "text": [
      "1 2 3 4 5 6 7 8 9\n",
      "1 2 6 24 120 720 5040 40320 362880\n",
      "1 2.0 3.5 5.5 8.0 11.0 14.5 18.5 23.0\n"
     ]
    }
   ],
   "source": [
    "import operator\n",
    "print(*range(1, 10))\n",
    "print(*itertools.accumulate(range(1, 10), operator.mul))\n",
    "print(*itertools.accumulate(range(1, 10), func = lambda a, b: a + b/2))\n"
   ]
  },
  {
   "cell_type": "code",
   "execution_count": 19,
   "metadata": {},
   "outputs": [
    {
     "name": "stdout",
     "output_type": "stream",
     "text": [
      "a b c d 0 1 2 3 4 -1 -2\n"
     ]
    }
   ],
   "source": [
    "print(*itertools.chain('abcd', range(5), [-1, -2]))"
   ]
  },
  {
   "cell_type": "code",
   "execution_count": 20,
   "metadata": {},
   "outputs": [
    {
     "name": "stdout",
     "output_type": "stream",
     "text": [
      "['a', 'b', 'c', 'd', 0, 1, 2, 3, 4, -1, -2]\n",
      "['a', 'b', 'c', 'd', 0, 1, 2, 3, 4, -1, -2]\n"
     ]
    }
   ],
   "source": [
    "v1 = list(itertools.chain('abcd', range(5), [-1, -2]))\n",
    "print(v1)\n",
    "\n",
    "v2 = list()\n",
    "v2 += 'abcd'\n",
    "v2 += range(5)\n",
    "v2 +=  [-1, -2]\n",
    "print(v2)"
   ]
  },
  {
   "cell_type": "code",
   "execution_count": 21,
   "metadata": {},
   "outputs": [
    {
     "name": "stdout",
     "output_type": "stream",
     "text": [
      "B D\n"
     ]
    }
   ],
   "source": [
    "print(*itertools.compress('ABCD', [0, 1, 0, 1]))"
   ]
  },
  {
   "cell_type": "markdown",
   "metadata": {},
   "source": [
    "# HW\n",
    "- внимательно прочитать документацию по itertools\n",
    "- свои примеры"
   ]
  }
 ],
 "metadata": {
  "interpreter": {
   "hash": "3a6f8b2227394587c5aa47911b9013af12e55eb00aba98c34627975f605aae29"
  },
  "kernelspec": {
   "display_name": "Python 3.10.2 64-bit",
   "language": "python",
   "name": "python3"
  },
  "language_info": {
   "codemirror_mode": {
    "name": "ipython",
    "version": 3
   },
   "file_extension": ".py",
   "mimetype": "text/x-python",
   "name": "python",
   "nbconvert_exporter": "python",
   "pygments_lexer": "ipython3",
   "version": "3.10.2"
  },
  "orig_nbformat": 4
 },
 "nbformat": 4,
 "nbformat_minor": 2
}
