{
 "cells": [
  {
   "cell_type": "markdown",
   "metadata": {},
   "source": [
    "## Поверхностные и глубокие копии объектов (на примере списков)"
   ]
  },
  {
   "cell_type": "code",
   "execution_count": 1,
   "metadata": {},
   "outputs": [],
   "source": [
    "import copy"
   ]
  },
  {
   "cell_type": "markdown",
   "metadata": {},
   "source": [
    "## Ссылки на одни и те же данные"
   ]
  },
  {
   "cell_type": "code",
   "execution_count": 2,
   "metadata": {},
   "outputs": [
    {
     "name": "stdout",
     "output_type": "stream",
     "text": [
      "[1, [2, [3, 4]]]\n",
      "1\n",
      "2\n",
      "3\n"
     ]
    }
   ],
   "source": [
    "a = [1, [2, [3, 4]]]\n",
    "print(a)\n",
    "print(a[0])\n",
    "print(a[1][0])\n",
    "print(a[1][1][0])"
   ]
  },
  {
   "cell_type": "code",
   "execution_count": 3,
   "metadata": {},
   "outputs": [
    {
     "name": "stdout",
     "output_type": "stream",
     "text": [
      "[-1, [-2, [-3, 4]]]\n",
      "[-1, [-2, [-3, 4]]]\n"
     ]
    }
   ],
   "source": [
    "b = a\n",
    "b[0] = -1\n",
    "b[1][0] = -2\n",
    "b[1][1][0] = -3\n",
    "print(a)\n",
    "print(b)\n"
   ]
  },
  {
   "cell_type": "markdown",
   "metadata": {},
   "source": [
    "## Поверхностные копии"
   ]
  },
  {
   "cell_type": "code",
   "execution_count": 4,
   "metadata": {},
   "outputs": [
    {
     "name": "stdout",
     "output_type": "stream",
     "text": [
      "[1, [2, [3, 4]]]\n",
      "[1, [-2, [-3, 4]]]\n",
      "[-1, [-2, [-3, 4]]]\n"
     ]
    }
   ],
   "source": [
    "a = [1, [2, [3, 4]]]\n",
    "print(a)\n",
    "b = a.copy()\n",
    "b[0] = -1\n",
    "b[1][0] = -2\n",
    "b[1][1][0] = -3\n",
    "print(a)\n",
    "print(b)"
   ]
  },
  {
   "cell_type": "code",
   "execution_count": 5,
   "metadata": {},
   "outputs": [
    {
     "name": "stdout",
     "output_type": "stream",
     "text": [
      "[1, [2, [3, 4]]]\n",
      "[1, [-2, [-3, 4]]]\n",
      "[-1, [-2, [-3, 4]]]\n"
     ]
    }
   ],
   "source": [
    "# аналог примера выше\n",
    "a = [1, [2, [3, 4]]]\n",
    "print(a)\n",
    "b = copy.copy(a) # вот\n",
    "b[0] = -1\n",
    "b[1][0] = -2\n",
    "b[1][1][0] = -3\n",
    "print(a)\n",
    "print(b)"
   ]
  },
  {
   "cell_type": "markdown",
   "metadata": {},
   "source": [
    "## Глубокие  копии"
   ]
  },
  {
   "cell_type": "code",
   "execution_count": 6,
   "metadata": {},
   "outputs": [
    {
     "name": "stdout",
     "output_type": "stream",
     "text": [
      "[1, [2, [3, 4]]]\n",
      "[1, [2, [3, 4]]]\n",
      "[-1, [-2, [-3, 4]]]\n"
     ]
    }
   ],
   "source": [
    "a = [1, [2, [3, 4]]]\n",
    "print(a)\n",
    "b = copy.deepcopy(a) \n",
    "b[0] = -1\n",
    "b[1][0] = -2\n",
    "b[1][1][0] = -3\n",
    "print(a)\n",
    "print(b)"
   ]
  }
 ],
 "metadata": {
  "interpreter": {
   "hash": "3a6f8b2227394587c5aa47911b9013af12e55eb00aba98c34627975f605aae29"
  },
  "kernelspec": {
   "display_name": "Python 3.10.2 64-bit",
   "language": "python",
   "name": "python3"
  },
  "language_info": {
   "codemirror_mode": {
    "name": "ipython",
    "version": 3
   },
   "file_extension": ".py",
   "mimetype": "text/x-python",
   "name": "python",
   "nbconvert_exporter": "python",
   "pygments_lexer": "ipython3",
   "version": "3.10.2"
  },
  "orig_nbformat": 4
 },
 "nbformat": 4,
 "nbformat_minor": 2
}
