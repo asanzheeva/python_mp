{
 "cells": [
  {
   "cell_type": "markdown",
   "metadata": {},
   "source": [
    "# Работа с БД chinook на SQLite\n",
    "\n",
    "- https://www.sqlitetutorial.net/sqlite-sample-database/\n",
    "- https://www.sqlitetutorial.net/wp-content/uploads/2018/03/chinook.zip\n",
    "- https://www.sqlitetutorial.net/wp-content/uploads/2015/11/sqlite-sample-database-color.jpg"
   ]
  },
  {
   "cell_type": "code",
   "execution_count": 1,
   "metadata": {},
   "outputs": [],
   "source": [
    "import sqlite3\n",
    "from prettytable import from_db_cursor"
   ]
  },
  {
   "cell_type": "code",
   "execution_count": 2,
   "metadata": {},
   "outputs": [],
   "source": [
    "db_name = \"chinook.db\""
   ]
  },
  {
   "cell_type": "code",
   "execution_count": 3,
   "metadata": {},
   "outputs": [],
   "source": [
    "db = sqlite3.connect(db_name)\n",
    "cur = db.cursor()"
   ]
  },
  {
   "cell_type": "code",
   "execution_count": 4,
   "metadata": {},
   "outputs": [
    {
     "data": {
      "text/html": [
       "<table>\n",
       "    <thead>\n",
       "        <tr>\n",
       "            <th>name</th>\n",
       "        </tr>\n",
       "    </thead>\n",
       "    <tbody>\n",
       "        <tr>\n",
       "            <td>albums</td>\n",
       "        </tr>\n",
       "        <tr>\n",
       "            <td>sqlite_sequence</td>\n",
       "        </tr>\n",
       "        <tr>\n",
       "            <td>artists</td>\n",
       "        </tr>\n",
       "        <tr>\n",
       "            <td>customers</td>\n",
       "        </tr>\n",
       "        <tr>\n",
       "            <td>employees</td>\n",
       "        </tr>\n",
       "        <tr>\n",
       "            <td>genres</td>\n",
       "        </tr>\n",
       "        <tr>\n",
       "            <td>invoices</td>\n",
       "        </tr>\n",
       "        <tr>\n",
       "            <td>invoice_items</td>\n",
       "        </tr>\n",
       "        <tr>\n",
       "            <td>media_types</td>\n",
       "        </tr>\n",
       "        <tr>\n",
       "            <td>playlists</td>\n",
       "        </tr>\n",
       "        <tr>\n",
       "            <td>playlist_track</td>\n",
       "        </tr>\n",
       "        <tr>\n",
       "            <td>tracks</td>\n",
       "        </tr>\n",
       "        <tr>\n",
       "            <td>sqlite_stat1</td>\n",
       "        </tr>\n",
       "    </tbody>\n",
       "</table>"
      ],
      "text/plain": [
       "+-----------------+\n",
       "|       name      |\n",
       "+-----------------+\n",
       "|      albums     |\n",
       "| sqlite_sequence |\n",
       "|     artists     |\n",
       "|    customers    |\n",
       "|    employees    |\n",
       "|      genres     |\n",
       "|     invoices    |\n",
       "|  invoice_items  |\n",
       "|   media_types   |\n",
       "|    playlists    |\n",
       "|  playlist_track |\n",
       "|      tracks     |\n",
       "|   sqlite_stat1  |\n",
       "+-----------------+"
      ]
     },
     "execution_count": 4,
     "metadata": {},
     "output_type": "execute_result"
    }
   ],
   "source": [
    "cur.execute(\"SELECT name FROM sqlite_master WHERE type = 'table'\")\n",
    "from_db_cursor(cur)"
   ]
  },
  {
   "cell_type": "code",
   "execution_count": 5,
   "metadata": {},
   "outputs": [
    {
     "data": {
      "text/html": [
       "<table>\n",
       "    <thead>\n",
       "        <tr>\n",
       "            <th>cid</th>\n",
       "            <th>name</th>\n",
       "            <th>type</th>\n",
       "            <th>notnull</th>\n",
       "            <th>dflt_value</th>\n",
       "            <th>pk</th>\n",
       "        </tr>\n",
       "    </thead>\n",
       "    <tbody>\n",
       "        <tr>\n",
       "            <td>0</td>\n",
       "            <td>CustomerId</td>\n",
       "            <td>INTEGER</td>\n",
       "            <td>1</td>\n",
       "            <td>None</td>\n",
       "            <td>1</td>\n",
       "        </tr>\n",
       "        <tr>\n",
       "            <td>1</td>\n",
       "            <td>FirstName</td>\n",
       "            <td>NVARCHAR(40)</td>\n",
       "            <td>1</td>\n",
       "            <td>None</td>\n",
       "            <td>0</td>\n",
       "        </tr>\n",
       "        <tr>\n",
       "            <td>2</td>\n",
       "            <td>LastName</td>\n",
       "            <td>NVARCHAR(20)</td>\n",
       "            <td>1</td>\n",
       "            <td>None</td>\n",
       "            <td>0</td>\n",
       "        </tr>\n",
       "        <tr>\n",
       "            <td>3</td>\n",
       "            <td>Company</td>\n",
       "            <td>NVARCHAR(80)</td>\n",
       "            <td>0</td>\n",
       "            <td>None</td>\n",
       "            <td>0</td>\n",
       "        </tr>\n",
       "        <tr>\n",
       "            <td>4</td>\n",
       "            <td>Address</td>\n",
       "            <td>NVARCHAR(70)</td>\n",
       "            <td>0</td>\n",
       "            <td>None</td>\n",
       "            <td>0</td>\n",
       "        </tr>\n",
       "        <tr>\n",
       "            <td>5</td>\n",
       "            <td>City</td>\n",
       "            <td>NVARCHAR(40)</td>\n",
       "            <td>0</td>\n",
       "            <td>None</td>\n",
       "            <td>0</td>\n",
       "        </tr>\n",
       "        <tr>\n",
       "            <td>6</td>\n",
       "            <td>State</td>\n",
       "            <td>NVARCHAR(40)</td>\n",
       "            <td>0</td>\n",
       "            <td>None</td>\n",
       "            <td>0</td>\n",
       "        </tr>\n",
       "        <tr>\n",
       "            <td>7</td>\n",
       "            <td>Country</td>\n",
       "            <td>NVARCHAR(40)</td>\n",
       "            <td>0</td>\n",
       "            <td>None</td>\n",
       "            <td>0</td>\n",
       "        </tr>\n",
       "        <tr>\n",
       "            <td>8</td>\n",
       "            <td>PostalCode</td>\n",
       "            <td>NVARCHAR(10)</td>\n",
       "            <td>0</td>\n",
       "            <td>None</td>\n",
       "            <td>0</td>\n",
       "        </tr>\n",
       "        <tr>\n",
       "            <td>9</td>\n",
       "            <td>Phone</td>\n",
       "            <td>NVARCHAR(24)</td>\n",
       "            <td>0</td>\n",
       "            <td>None</td>\n",
       "            <td>0</td>\n",
       "        </tr>\n",
       "        <tr>\n",
       "            <td>10</td>\n",
       "            <td>Fax</td>\n",
       "            <td>NVARCHAR(24)</td>\n",
       "            <td>0</td>\n",
       "            <td>None</td>\n",
       "            <td>0</td>\n",
       "        </tr>\n",
       "        <tr>\n",
       "            <td>11</td>\n",
       "            <td>Email</td>\n",
       "            <td>NVARCHAR(60)</td>\n",
       "            <td>1</td>\n",
       "            <td>None</td>\n",
       "            <td>0</td>\n",
       "        </tr>\n",
       "        <tr>\n",
       "            <td>12</td>\n",
       "            <td>SupportRepId</td>\n",
       "            <td>INTEGER</td>\n",
       "            <td>0</td>\n",
       "            <td>None</td>\n",
       "            <td>0</td>\n",
       "        </tr>\n",
       "    </tbody>\n",
       "</table>"
      ],
      "text/plain": [
       "+-----+--------------+--------------+---------+------------+----+\n",
       "| cid |     name     |     type     | notnull | dflt_value | pk |\n",
       "+-----+--------------+--------------+---------+------------+----+\n",
       "|  0  |  CustomerId  |   INTEGER    |    1    |    None    | 1  |\n",
       "|  1  |  FirstName   | NVARCHAR(40) |    1    |    None    | 0  |\n",
       "|  2  |   LastName   | NVARCHAR(20) |    1    |    None    | 0  |\n",
       "|  3  |   Company    | NVARCHAR(80) |    0    |    None    | 0  |\n",
       "|  4  |   Address    | NVARCHAR(70) |    0    |    None    | 0  |\n",
       "|  5  |     City     | NVARCHAR(40) |    0    |    None    | 0  |\n",
       "|  6  |    State     | NVARCHAR(40) |    0    |    None    | 0  |\n",
       "|  7  |   Country    | NVARCHAR(40) |    0    |    None    | 0  |\n",
       "|  8  |  PostalCode  | NVARCHAR(10) |    0    |    None    | 0  |\n",
       "|  9  |    Phone     | NVARCHAR(24) |    0    |    None    | 0  |\n",
       "|  10 |     Fax      | NVARCHAR(24) |    0    |    None    | 0  |\n",
       "|  11 |    Email     | NVARCHAR(60) |    1    |    None    | 0  |\n",
       "|  12 | SupportRepId |   INTEGER    |    0    |    None    | 0  |\n",
       "+-----+--------------+--------------+---------+------------+----+"
      ]
     },
     "execution_count": 5,
     "metadata": {},
     "output_type": "execute_result"
    }
   ],
   "source": [
    "cur.execute(\"PRAGMA table_info('customers')\")\n",
    "from_db_cursor(cur)"
   ]
  },
  {
   "cell_type": "code",
   "execution_count": 7,
   "metadata": {},
   "outputs": [
    {
     "name": "stdout",
     "output_type": "stream",
     "text": [
      "(1, 'Gonçalves', 'São José dos Campos')\n",
      "(2, 'Köhler', 'Stuttgart')\n"
     ]
    }
   ],
   "source": [
    "cur.execute(\"SELECT CustomerId, LastName, City FROM customers\")\n",
    "print(cur.fetchone())\n",
    "print(cur.fetchone())"
   ]
  },
  {
   "cell_type": "code",
   "execution_count": 9,
   "metadata": {},
   "outputs": [
    {
     "data": {
      "text/plain": [
       "(1, 'Gonçalves', 'São José dos Campos')"
      ]
     },
     "execution_count": 9,
     "metadata": {},
     "output_type": "execute_result"
    }
   ],
   "source": [
    "# .fetchone() - извлекает следующую строку из набора результата запросв в БД\n",
    "cur.execute(\"SELECT CustomerId, LastName, City FROM customers\").fetchone()"
   ]
  },
  {
   "cell_type": "code",
   "execution_count": 10,
   "metadata": {},
   "outputs": [
    {
     "data": {
      "text/plain": [
       "[(1, 'Gonçalves', 'São José dos Campos'),\n",
       " (2, 'Köhler', 'Stuttgart'),\n",
       " (3, 'Tremblay', 'Montréal'),\n",
       " (4, 'Hansen', 'Oslo'),\n",
       " (5, 'Wichterlová', 'Prague'),\n",
       " (6, 'Holý', 'Prague'),\n",
       " (7, 'Gruber', 'Vienne'),\n",
       " (8, 'Peeters', 'Brussels'),\n",
       " (9, 'Nielsen', 'Copenhagen'),\n",
       " (10, 'Martins', 'São Paulo'),\n",
       " (11, 'Rocha', 'São Paulo'),\n",
       " (12, 'Almeida', 'Rio de Janeiro'),\n",
       " (13, 'Ramos', 'Brasília'),\n",
       " (14, 'Philips', 'Edmonton'),\n",
       " (15, 'Peterson', 'Vancouver'),\n",
       " (16, 'Harris', 'Mountain View'),\n",
       " (17, 'Smith', 'Redmond'),\n",
       " (18, 'Brooks', 'New York'),\n",
       " (19, 'Goyer', 'Cupertino'),\n",
       " (20, 'Miller', 'Mountain View'),\n",
       " (21, 'Chase', 'Reno'),\n",
       " (22, 'Leacock', 'Orlando'),\n",
       " (23, 'Gordon', 'Boston'),\n",
       " (24, 'Ralston', 'Chicago'),\n",
       " (25, 'Stevens', 'Madison'),\n",
       " (26, 'Cunningham', 'Fort Worth'),\n",
       " (27, 'Gray', 'Tucson'),\n",
       " (28, 'Barnett', 'Salt Lake City'),\n",
       " (29, 'Brown', 'Toronto'),\n",
       " (30, 'Francis', 'Ottawa'),\n",
       " (31, 'Silk', 'Halifax'),\n",
       " (32, 'Mitchell', 'Winnipeg'),\n",
       " (33, 'Sullivan', 'Yellowknife'),\n",
       " (34, 'Fernandes', 'Lisbon'),\n",
       " (35, 'Sampaio', 'Porto'),\n",
       " (36, 'Schneider', 'Berlin'),\n",
       " (37, 'Zimmermann', 'Frankfurt'),\n",
       " (38, 'Schröder', 'Berlin'),\n",
       " (39, 'Bernard', 'Paris'),\n",
       " (40, 'Lefebvre', 'Paris'),\n",
       " (41, 'Dubois', 'Lyon'),\n",
       " (42, 'Girard', 'Bordeaux'),\n",
       " (43, 'Mercier', 'Dijon'),\n",
       " (44, 'Hämäläinen', 'Helsinki'),\n",
       " (45, 'Kovács', 'Budapest'),\n",
       " (46, \"O'Reilly\", 'Dublin'),\n",
       " (47, 'Mancini', 'Rome'),\n",
       " (48, 'Van der Berg', 'Amsterdam'),\n",
       " (49, 'Wójcik', 'Warsaw'),\n",
       " (50, 'Muñoz', 'Madrid'),\n",
       " (51, 'Johansson', 'Stockholm'),\n",
       " (52, 'Jones', 'London'),\n",
       " (53, 'Hughes', 'London'),\n",
       " (54, 'Murray', 'Edinburgh '),\n",
       " (55, 'Taylor', 'Sidney'),\n",
       " (56, 'Gutiérrez', 'Buenos Aires'),\n",
       " (57, 'Rojas', 'Santiago'),\n",
       " (58, 'Pareek', 'Delhi'),\n",
       " (59, 'Srivastava', 'Bangalore')]"
      ]
     },
     "execution_count": 10,
     "metadata": {},
     "output_type": "execute_result"
    }
   ],
   "source": [
    "# .fetchone() - извлеxtn ВСЕ оставшиеся строки из набора результата запросв в БД\n",
    "cur.execute(\"SELECT CustomerId, LastName, City FROM customers\").fetchall()"
   ]
  },
  {
   "cell_type": "code",
   "execution_count": 11,
   "metadata": {},
   "outputs": [
    {
     "data": {
      "text/plain": [
       "[(1, 'Gonçalves', 'São José dos Campos'),\n",
       " (2, 'Köhler', 'Stuttgart'),\n",
       " (3, 'Tremblay', 'Montréal'),\n",
       " (4, 'Hansen', 'Oslo')]"
      ]
     },
     "execution_count": 11,
     "metadata": {},
     "output_type": "execute_result"
    }
   ],
   "source": [
    "\n",
    "cur.execute(\"SELECT CustomerId, LastName, City FROM customers\").fetchall()[0:4]"
   ]
  },
  {
   "cell_type": "code",
   "execution_count": 12,
   "metadata": {},
   "outputs": [
    {
     "data": {
      "text/plain": [
       "[(1, 'Gonçalves', 'São José dos Campos'),\n",
       " (2, 'Köhler', 'Stuttgart'),\n",
       " (3, 'Tremblay', 'Montréal'),\n",
       " (4, 'Hansen', 'Oslo')]"
      ]
     },
     "execution_count": 12,
     "metadata": {},
     "output_type": "execute_result"
    }
   ],
   "source": [
    "\n",
    "cur.execute(\"SELECT CustomerId, LastName, City FROM customers\").fetchmany(size = 4)"
   ]
  },
  {
   "cell_type": "code",
   "execution_count": 13,
   "metadata": {},
   "outputs": [
    {
     "data": {
      "text/plain": [
       "[(1, 'Gonçalves', 'São José dos Campos'),\n",
       " (2, 'Köhler', 'Stuttgart'),\n",
       " (3, 'Tremblay', 'Montréal'),\n",
       " (4, 'Hansen', 'Oslo')]"
      ]
     },
     "execution_count": 13,
     "metadata": {},
     "output_type": "execute_result"
    }
   ],
   "source": [
    "\n",
    "cur.execute(\"SELECT CustomerId, LastName, City FROM customers LIMIT 4\").fetchall()"
   ]
  },
  {
   "cell_type": "code",
   "execution_count": 14,
   "metadata": {},
   "outputs": [
    {
     "data": {
      "text/html": [
       "<table>\n",
       "    <thead>\n",
       "        <tr>\n",
       "            <th>CustomerId</th>\n",
       "            <th>LastName</th>\n",
       "            <th>City</th>\n",
       "        </tr>\n",
       "    </thead>\n",
       "    <tbody>\n",
       "        <tr>\n",
       "            <td>1</td>\n",
       "            <td>Gonçalves</td>\n",
       "            <td>São José dos Campos</td>\n",
       "        </tr>\n",
       "        <tr>\n",
       "            <td>2</td>\n",
       "            <td>Köhler</td>\n",
       "            <td>Stuttgart</td>\n",
       "        </tr>\n",
       "        <tr>\n",
       "            <td>3</td>\n",
       "            <td>Tremblay</td>\n",
       "            <td>Montréal</td>\n",
       "        </tr>\n",
       "        <tr>\n",
       "            <td>4</td>\n",
       "            <td>Hansen</td>\n",
       "            <td>Oslo</td>\n",
       "        </tr>\n",
       "    </tbody>\n",
       "</table>"
      ],
      "text/plain": [
       "+------------+-----------+---------------------+\n",
       "| CustomerId |  LastName |         City        |\n",
       "+------------+-----------+---------------------+\n",
       "|     1      | Gonçalves | São José dos Campos |\n",
       "|     2      |   Köhler  |      Stuttgart      |\n",
       "|     3      |  Tremblay |       Montréal      |\n",
       "|     4      |   Hansen  |         Oslo        |\n",
       "+------------+-----------+---------------------+"
      ]
     },
     "execution_count": 14,
     "metadata": {},
     "output_type": "execute_result"
    }
   ],
   "source": [
    "\n",
    "cur.execute(\"SELECT CustomerId, LastName, City FROM customers LIMIT 4\")\n",
    "t = from_db_cursor(cur)\n",
    "t"
   ]
  },
  {
   "cell_type": "code",
   "execution_count": 16,
   "metadata": {},
   "outputs": [
    {
     "data": {
      "text/html": [
       "<table>\n",
       "    <thead>\n",
       "        <tr>\n",
       "            <th>CustomerId</th>\n",
       "            <th>LastName</th>\n",
       "            <th>City</th>\n",
       "        </tr>\n",
       "    </thead>\n",
       "    <tbody>\n",
       "        <tr>\n",
       "            <td>1</td>\n",
       "            <td>Gonçalves</td>\n",
       "            <td>São José dos Campos</td>\n",
       "        </tr>\n",
       "        <tr>\n",
       "            <td>2</td>\n",
       "            <td>Köhler</td>\n",
       "            <td>Stuttgart</td>\n",
       "        </tr>\n",
       "    </tbody>\n",
       "</table>"
      ],
      "text/plain": [
       "+------------+-----------+---------------------+\n",
       "| CustomerId |  LastName |         City        |\n",
       "+------------+-----------+---------------------+\n",
       "|     1      | Gonçalves | São José dos Campos |\n",
       "|     2      |   Köhler  |      Stuttgart      |\n",
       "+------------+-----------+---------------------+"
      ]
     },
     "execution_count": 16,
     "metadata": {},
     "output_type": "execute_result"
    }
   ],
   "source": [
    "t[0:2]"
   ]
  },
  {
   "cell_type": "code",
   "execution_count": 17,
   "metadata": {},
   "outputs": [
    {
     "data": {
      "text/plain": [
       "(('CustomerId', None, None, None, None, None, None),\n",
       " ('LastName', None, None, None, None, None, None),\n",
       " ('City', None, None, None, None, None, None))"
      ]
     },
     "execution_count": 17,
     "metadata": {},
     "output_type": "execute_result"
    }
   ],
   "source": [
    "cur.description"
   ]
  }
 ],
 "metadata": {
  "interpreter": {
   "hash": "baa6f0ac926cf7ec0879b072632b55e33aacb58255990b21088b5c5171cf0fa7"
  },
  "kernelspec": {
   "display_name": "Python 3.9.0 64-bit",
   "language": "python",
   "name": "python3"
  },
  "language_info": {
   "codemirror_mode": {
    "name": "ipython",
    "version": 3
   },
   "file_extension": ".py",
   "mimetype": "text/x-python",
   "name": "python",
   "nbconvert_exporter": "python",
   "pygments_lexer": "ipython3",
   "version": "3.9.0"
  },
  "orig_nbformat": 4
 },
 "nbformat": 4,
 "nbformat_minor": 2
}
