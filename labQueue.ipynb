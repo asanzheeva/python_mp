{
 "cells": [
  {
   "cell_type": "markdown",
   "metadata": {},
   "source": [
    "# Очередь (queue) и Стек (stack)"
   ]
  },
  {
   "cell_type": "code",
   "execution_count": 1,
   "metadata": {},
   "outputs": [],
   "source": [
    "import queue"
   ]
  },
  {
   "cell_type": "code",
   "execution_count": 2,
   "metadata": {},
   "outputs": [
    {
     "name": "stdout",
     "output_type": "stream",
     "text": [
      "Первый 0 1 2 3 4 "
     ]
    }
   ],
   "source": [
    "# Очередь FIFO\n",
    "v = queue.Queue()\n",
    "\n",
    "v.put(\"Первый\")\n",
    "for i in range(5):\n",
    "    v.put(i)\n",
    "while not v.empty():\n",
    "    print(v.get(), end=' ')"
   ]
  },
  {
   "cell_type": "code",
   "execution_count": 3,
   "metadata": {},
   "outputs": [
    {
     "name": "stdout",
     "output_type": "stream",
     "text": [
      "4 3 2 1 0 Первый "
     ]
    }
   ],
   "source": [
    "# Стек. LIFO\n",
    "v = queue.LifoQueue()\n",
    "\n",
    "v.put(\"Первый\")\n",
    "for i in range(5):\n",
    "    v.put(i)\n",
    "while not v.empty():\n",
    "    print(v.get(), end=' ')"
   ]
  },
  {
   "cell_type": "markdown",
   "metadata": {},
   "source": [
    "# HW\n",
    "- создать пример с queue.PriorityQueue\n",
    "- создать пример очереди и стека через list\n",
    "- создать примеры сравнения производительности подходов к реализации очереди и стека\n",
    "\n",
    "- лабиринт 2d - двумерный массив, рандом"
   ]
  }
 ],
 "metadata": {
  "interpreter": {
   "hash": "3a6f8b2227394587c5aa47911b9013af12e55eb00aba98c34627975f605aae29"
  },
  "kernelspec": {
   "display_name": "Python 3.10.2 64-bit",
   "language": "python",
   "name": "python3"
  },
  "language_info": {
   "codemirror_mode": {
    "name": "ipython",
    "version": 3
   },
   "file_extension": ".py",
   "mimetype": "text/x-python",
   "name": "python",
   "nbconvert_exporter": "python",
   "pygments_lexer": "ipython3",
   "version": "3.10.2"
  },
  "orig_nbformat": 4
 },
 "nbformat": 4,
 "nbformat_minor": 2
}
