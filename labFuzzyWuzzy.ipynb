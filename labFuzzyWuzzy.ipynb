{
 "cells": [
  {
   "cell_type": "markdown",
   "metadata": {},
   "source": [
    "# Нечёткое сравнение строк (с модулем fuzzywuzzy)\n",
    "\n",
    "Note:\n",
    "* pip install fuzzywuzzy\n",
    "* pip install python-Levenshtein"
   ]
  },
  {
   "cell_type": "code",
   "execution_count": 16,
   "metadata": {},
   "outputs": [],
   "source": [
    "from fuzzywuzzy import fuzz"
   ]
  },
  {
   "cell_type": "markdown",
   "metadata": {},
   "source": [
    "## Сравнение строк"
   ]
  },
  {
   "cell_type": "code",
   "execution_count": 17,
   "metadata": {},
   "outputs": [
    {
     "name": "stdout",
     "output_type": "stream",
     "text": [
      "73\n",
      "100\n",
      "80\n",
      "100\n"
     ]
    }
   ],
   "source": [
    "s1 = \"сравнение строк\"\n",
    "s2 = \"СравНениЕ строк!!!\"\n",
    "print(fuzz.ratio(s1, s2))\n",
    "print(fuzz.WRatio(s1, s2)) #сравнение без учета регистра букв и знаков\n",
    "print(fuzz.partial_ratio(s1, s2)) #частичное сравнение с учетом регистра букв\n",
    "print(fuzz.token_sort_ratio(s1, s2)) # сравнение слов друг с другом без учета регистра и порядка слов"
   ]
  },
  {
   "cell_type": "code",
   "execution_count": 18,
   "metadata": {},
   "outputs": [
    {
     "name": "stdout",
     "output_type": "stream",
     "text": [
      "30\n",
      "95\n",
      "43\n",
      "100\n"
     ]
    }
   ],
   "source": [
    "s1 = \"строк сравнение\"\n",
    "s2 = \"СравНениЕ строк!!!\"\n",
    "print(fuzz.ratio(s1, s2))\n",
    "print(fuzz.WRatio(s1, s2)) \n",
    "print(fuzz.partial_ratio(s1, s2))\n",
    "print(fuzz.token_sort_ratio(s1, s2)) # "
   ]
  },
  {
   "cell_type": "code",
   "execution_count": 19,
   "metadata": {},
   "outputs": [
    {
     "name": "stdout",
     "output_type": "stream",
     "text": [
      "60\n",
      "95\n",
      "60\n",
      "100\n"
     ]
    }
   ],
   "source": [
    "s1 = \"строк сравнение\"\n",
    "s2 = \"сравнение строк\"\n",
    "print(fuzz.ratio(s1, s2))\n",
    "print(fuzz.WRatio(s1, s2)) \n",
    "print(fuzz.partial_ratio(s1, s2))\n",
    "print(fuzz.token_sort_ratio(s1, s2)) # "
   ]
  },
  {
   "cell_type": "markdown",
   "metadata": {},
   "source": [
    "## Сравнение со списком"
   ]
  },
  {
   "cell_type": "code",
   "execution_count": 20,
   "metadata": {},
   "outputs": [],
   "source": [
    "from fuzzywuzzy import process"
   ]
  },
  {
   "cell_type": "code",
   "execution_count": 21,
   "metadata": {},
   "outputs": [
    {
     "name": "stdout",
     "output_type": "stream",
     "text": [
      "['Москва', 'Воронеж', 'Владимир', 'Вологда', 'Владиковказ', 'Владтвосток', 'смоленск']\n",
      "[('Владимир', 100), ('Владиковказ', 53), ('Владтвосток', 42)]\n",
      "('Владиковказ', 90)\n"
     ]
    }
   ],
   "source": [
    "cities = \"Москва, Воронеж, Владимир, Вологда, Владиковказ, Владтвосток, смоленск\".split(', ')\n",
    "print(cities)\n",
    "\n",
    "print(process.extract(\"Владимир\", cities, limit=3))\n",
    "print(process.extractOne(\"Владик\", cities))"
   ]
  },
  {
   "cell_type": "code",
   "execution_count": 22,
   "metadata": {},
   "outputs": [
    {
     "data": {
      "text/plain": [
       "[('Терминатор', 0),\n",
       " ('Терминатор 2: Судный день', 0),\n",
       " ('Терминатор 3: Восстание машин', 0),\n",
       " ('Терминатор (сериал)', 0)]"
      ]
     },
     "execution_count": 22,
     "metadata": {},
     "output_type": "execute_result"
    }
   ],
   "source": [
    "movies = [\n",
    "    'Терминатор',\n",
    "    'Терминатор 2: Судный день',\n",
    "    'Терминатор 3: Восстание машин',\n",
    "    'Терминатор (сериал)',\n",
    "    'Терминал',\n",
    "    'Троя'\n",
    "]\n",
    "\n",
    "process.extract(\"po\", movies, limit=4)"
   ]
  }
 ],
 "metadata": {
  "interpreter": {
   "hash": "568d99031516cb91b124139a50c43e0e628ee43803acee1edec6cbd47ca74668"
  },
  "kernelspec": {
   "display_name": "Python 3.10.2 64-bit",
   "language": "python",
   "name": "python3"
  },
  "language_info": {
   "codemirror_mode": {
    "name": "ipython",
    "version": 3
   },
   "file_extension": ".py",
   "mimetype": "text/x-python",
   "name": "python",
   "nbconvert_exporter": "python",
   "pygments_lexer": "ipython3",
   "version": "3.10.2"
  },
  "orig_nbformat": 4
 },
 "nbformat": 4,
 "nbformat_minor": 2
}
