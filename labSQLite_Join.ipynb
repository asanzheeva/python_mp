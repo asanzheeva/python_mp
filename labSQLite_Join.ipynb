{
 "cells": [
  {
   "cell_type": "markdown",
   "metadata": {},
   "source": [
    "# Работа с Join в SQLite"
   ]
  },
  {
   "cell_type": "markdown",
   "metadata": {},
   "source": [
    "<img src=\"https://img-blog.csdnimg.cn/20200204031532319.png?x-oss-process=image/watermark,type_ZmFuZ3poZW5naGVpdGk,shadow_10,text_aHR0cHM6Ly9ibG9nLmNzZG4ubmV0L3FxXzM5ODg1Mzcy,size_16,color_FFFFFF,t_70\" width=\"500\" />"
   ]
  },
  {
   "cell_type": "code",
   "execution_count": null,
   "metadata": {},
   "outputs": [],
   "source": []
  },
  {
   "cell_type": "markdown",
   "metadata": {},
   "source": [
    "# HW:\n",
    "\n",
    "- https://ru.wikipedia.org/wiki/Join_(SQL)\n",
    "- создать бд SQLite с 2 таблицами, как в примерах из википедии\n",
    "- построить все виды join запросов (вспомнить про UNION)"
   ]
  }
 ],
 "metadata": {
  "interpreter": {
   "hash": "baa6f0ac926cf7ec0879b072632b55e33aacb58255990b21088b5c5171cf0fa7"
  },
  "kernelspec": {
   "display_name": "Python 3.9.0 64-bit",
   "language": "python",
   "name": "python3"
  },
  "language_info": {
   "name": "python",
   "version": "3.9.0"
  },
  "orig_nbformat": 4
 },
 "nbformat": 4,
 "nbformat_minor": 2
}
