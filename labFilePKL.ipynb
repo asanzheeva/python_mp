{
 "cells": [
  {
   "cell_type": "markdown",
   "metadata": {},
   "source": [
    "# Работа с PKL-файлами\n",
    "\n",
    "* Сериализация - это способ преобразования структуры данных в цепочку битов, которую можносохранить в файл или передать по сети.\n",
    "* Десерриализация - это обратный процесс преобразования сериализованного объекта в исходную структуру данных."
   ]
  },
  {
   "cell_type": "code",
   "execution_count": 1,
   "metadata": {},
   "outputs": [],
   "source": [
    "import pickle"
   ]
  },
  {
   "cell_type": "code",
   "execution_count": 2,
   "metadata": {},
   "outputs": [
    {
     "data": {
      "text/plain": [
       "'4.0'"
      ]
     },
     "execution_count": 2,
     "metadata": {},
     "output_type": "execute_result"
    }
   ],
   "source": [
    "pickle.format_version"
   ]
  },
  {
   "cell_type": "code",
   "execution_count": 3,
   "metadata": {},
   "outputs": [
    {
     "data": {
      "text/plain": [
       "'\\n0 - читалось человеком\\n1 - первый двоичный формат\\n2\\n3\\n4 - добавлен в puthon 3.4\\n5 - добавлен в puthon 3.8\\n'"
      ]
     },
     "execution_count": 3,
     "metadata": {},
     "output_type": "execute_result"
    }
   ],
   "source": [
    "pickle.HIGHEST_PROTOCOL\n",
    "\"\"\"\n",
    "0 - читалось человеком\n",
    "1 - первый двоичный формат\n",
    "2\n",
    "3\n",
    "4 - добавлен в puthon 3.4\n",
    "5 - добавлен в puthon 3.8\n",
    "\"\"\""
   ]
  },
  {
   "cell_type": "code",
   "execution_count": 4,
   "metadata": {},
   "outputs": [
    {
     "data": {
      "text/plain": [
       "'temp\\\\temp_PKL.pkl'"
      ]
     },
     "execution_count": 4,
     "metadata": {},
     "output_type": "execute_result"
    }
   ],
   "source": [
    "import os \n",
    "\n",
    "# временный каталог\n",
    "TEMP_DIR = \"temp\"\n",
    "\n",
    "# создать подкаталог, если его нет\n",
    "if not os.path.exists(TEMP_DIR):\n",
    "    os.mkdir(TEMP_DIR)\n",
    "\n",
    "# пример\n",
    "os.path.join(TEMP_DIR, \"temp_PKL.pkl\")"
   ]
  },
  {
   "cell_type": "markdown",
   "metadata": {},
   "source": [
    "## Подготовка даных"
   ]
  },
  {
   "cell_type": "code",
   "execution_count": 5,
   "metadata": {},
   "outputs": [
    {
     "name": "stdout",
     "output_type": "stream",
     "text": [
      "[0, 1, 2, 3, 4, 5, 6, 7, 8, 9]\n",
      "{'a': 'Привет', 'b': (1, 2, 3, 4), 'с': None}\n",
      "<class 'list'>\n",
      "<class 'dict'>\n"
     ]
    }
   ],
   "source": [
    "d1 = [_ for _ in range(10)]\n",
    "d2 = {'a' : 'Привет',\n",
    "      'b' : (1, 2, 3, 4),\n",
    "      'с' : None}\n",
    "print(d1)\n",
    "print(d2)\n",
    "print(type(d1))\n",
    "print(type(d2))"
   ]
  },
  {
   "cell_type": "code",
   "execution_count": 6,
   "metadata": {},
   "outputs": [
    {
     "name": "stdout",
     "output_type": "stream",
     "text": [
      "str(d1) = '[0, 1, 2, 3, 4, 5, 6, 7, 8, 9]'\n",
      "str(d2) = \"{'a': 'Привет', 'b': (1, 2, 3, 4), 'с': None}\"\n"
     ]
    }
   ],
   "source": [
    "print(f\"{str(d1) = }\")\n",
    "print(f\"{str(d2) = }\")"
   ]
  },
  {
   "cell_type": "markdown",
   "metadata": {},
   "source": [
    "## Запись в PKL-файл"
   ]
  },
  {
   "cell_type": "code",
   "execution_count": 7,
   "metadata": {},
   "outputs": [],
   "source": [
    "with open(os.path.join(TEMP_DIR, \"temp_PKL.pkl\"), 'wb') as f:\n",
    "    pickle.dump(d1, f)\n",
    "    pickle.dump(d2, f)"
   ]
  },
  {
   "cell_type": "code",
   "execution_count": 8,
   "metadata": {},
   "outputs": [],
   "source": [
    "with open(os.path.join(TEMP_DIR, \"temp_PKL_text.pkl\"), 'wt') as f:\n",
    "    f.write(str(d1))\n",
    "    f.write(str(d2))"
   ]
  },
  {
   "cell_type": "markdown",
   "metadata": {},
   "source": [
    "## Чтение из PKL-файла"
   ]
  },
  {
   "cell_type": "code",
   "execution_count": 9,
   "metadata": {},
   "outputs": [
    {
     "name": "stdout",
     "output_type": "stream",
     "text": [
      "[0, 1, 2, 3, 4, 5, 6, 7, 8, 9]\n",
      "{'a': 'Привет', 'b': (1, 2, 3, 4), 'с': None}\n",
      "<class 'list'>\n",
      "<class 'dict'>\n"
     ]
    }
   ],
   "source": [
    "with open(os.path.join(TEMP_DIR, \"temp_PKL.pkl\"), 'rb') as f:\n",
    "    v1 = pickle.load(f)\n",
    "    v2 = pickle.load(f)\n",
    "\n",
    "print(v1)\n",
    "print(v2)\n",
    "print(type(v1))\n",
    "print(type(v2))"
   ]
  },
  {
   "cell_type": "code",
   "execution_count": 10,
   "metadata": {},
   "outputs": [
    {
     "name": "stdout",
     "output_type": "stream",
     "text": [
      "[0, 1, 2, 3, 4, 5, 6, 7, 8, 9]{'a': 'Привет', 'b': (1, 2, 3, 4), 'с': None}\n",
      "\n",
      "<class 'str'>\n",
      "<class 'str'>\n"
     ]
    }
   ],
   "source": [
    "with open(os.path.join(TEMP_DIR, \"temp_PKL_text.pkl\"), 'rt') as f:\n",
    "    v1 = f.readline()\n",
    "    v2 = f.readline()\n",
    "\n",
    "print(v1)\n",
    "print(v2)\n",
    "print(type(v1))\n",
    "print(type(v2))\n",
    "\n",
    "# HW: подумать и исправить"
   ]
  }
 ],
 "metadata": {
  "interpreter": {
   "hash": "568d99031516cb91b124139a50c43e0e628ee43803acee1edec6cbd47ca74668"
  },
  "kernelspec": {
   "display_name": "Python 3.10.2 64-bit",
   "language": "python",
   "name": "python3"
  },
  "language_info": {
   "codemirror_mode": {
    "name": "ipython",
    "version": 3
   },
   "file_extension": ".py",
   "mimetype": "text/x-python",
   "name": "python",
   "nbconvert_exporter": "python",
   "pygments_lexer": "ipython3",
   "version": "3.10.2"
  },
  "orig_nbformat": 4
 },
 "nbformat": 4,
 "nbformat_minor": 2
}
