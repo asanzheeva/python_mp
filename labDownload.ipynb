{
 "cells": [
  {
   "cell_type": "markdown",
   "metadata": {},
   "source": [
    "## Загрузка файлов из интернета"
   ]
  },
  {
   "cell_type": "code",
   "execution_count": 22,
   "metadata": {},
   "outputs": [
    {
     "data": {
      "text/plain": [
       "'temp_download\\\\temp_.temp'"
      ]
     },
     "execution_count": 22,
     "metadata": {},
     "output_type": "execute_result"
    }
   ],
   "source": [
    "import os\n",
    "\n",
    "#временный каталог\n",
    "TEMP_DIR = \"temp_download\"\n",
    "\n",
    "# Пример\n",
    "os.path.join(TEMP_DIR, \"temp_.temp\")"
   ]
  },
  {
   "cell_type": "markdown",
   "metadata": {},
   "source": [
    "## urllib - открыть или загрузить файл"
   ]
  },
  {
   "cell_type": "code",
   "execution_count": 23,
   "metadata": {},
   "outputs": [],
   "source": [
    "import urllib.request"
   ]
  },
  {
   "cell_type": "code",
   "execution_count": 24,
   "metadata": {},
   "outputs": [
    {
     "name": "stdout",
     "output_type": "stream",
     "text": [
      "temp_download\\python-logo (urllib).png\n"
     ]
    },
    {
     "ename": "FileNotFoundError",
     "evalue": "[Errno 2] No such file or directory: 'temp_download\\\\python-logo (urllib).png'",
     "output_type": "error",
     "traceback": [
      "\u001b[1;31m---------------------------------------------------------------------------\u001b[0m",
      "\u001b[1;31mFileNotFoundError\u001b[0m                         Traceback (most recent call last)",
      "\u001b[1;32md:\\Python\\labs\\mp_2021\\labDownload.ipynb Cell 5'\u001b[0m in \u001b[0;36m<cell line: 5>\u001b[1;34m()\u001b[0m\n\u001b[0;32m      <a href='vscode-notebook-cell:/d%3A/Python/labs/mp_2021/labDownload.ipynb#ch0000004?line=1'>2</a>\u001b[0m filename \u001b[39m=\u001b[39m os\u001b[39m.\u001b[39mpath\u001b[39m.\u001b[39mjoin(TEMP_DIR, \u001b[39m\"\u001b[39m\u001b[39mpython-logo (urllib).png\u001b[39m\u001b[39m\"\u001b[39m)\n\u001b[0;32m      <a href='vscode-notebook-cell:/d%3A/Python/labs/mp_2021/labDownload.ipynb#ch0000004?line=2'>3</a>\u001b[0m \u001b[39mprint\u001b[39m (filename)\n\u001b[1;32m----> <a href='vscode-notebook-cell:/d%3A/Python/labs/mp_2021/labDownload.ipynb#ch0000004?line=4'>5</a>\u001b[0m urllib\u001b[39m.\u001b[39;49mrequest\u001b[39m.\u001b[39;49murlretrieve(url, filename)\n",
      "File \u001b[1;32m~\\AppData\\Local\\Programs\\Python\\Python310\\lib\\urllib\\request.py:251\u001b[0m, in \u001b[0;36murlretrieve\u001b[1;34m(url, filename, reporthook, data)\u001b[0m\n\u001b[0;32m    <a href='file:///c%3A/Users/1/AppData/Local/Programs/Python/Python310/lib/urllib/request.py?line=248'>249</a>\u001b[0m \u001b[39m# Handle temporary file setup.\u001b[39;00m\n\u001b[0;32m    <a href='file:///c%3A/Users/1/AppData/Local/Programs/Python/Python310/lib/urllib/request.py?line=249'>250</a>\u001b[0m \u001b[39mif\u001b[39;00m filename:\n\u001b[1;32m--> <a href='file:///c%3A/Users/1/AppData/Local/Programs/Python/Python310/lib/urllib/request.py?line=250'>251</a>\u001b[0m     tfp \u001b[39m=\u001b[39m \u001b[39mopen\u001b[39;49m(filename, \u001b[39m'\u001b[39;49m\u001b[39mwb\u001b[39;49m\u001b[39m'\u001b[39;49m)\n\u001b[0;32m    <a href='file:///c%3A/Users/1/AppData/Local/Programs/Python/Python310/lib/urllib/request.py?line=251'>252</a>\u001b[0m \u001b[39melse\u001b[39;00m:\n\u001b[0;32m    <a href='file:///c%3A/Users/1/AppData/Local/Programs/Python/Python310/lib/urllib/request.py?line=252'>253</a>\u001b[0m     tfp \u001b[39m=\u001b[39m tempfile\u001b[39m.\u001b[39mNamedTemporaryFile(delete\u001b[39m=\u001b[39m\u001b[39mFalse\u001b[39;00m)\n",
      "\u001b[1;31mFileNotFoundError\u001b[0m: [Errno 2] No such file or directory: 'temp_download\\\\python-logo (urllib).png'"
     ]
    }
   ],
   "source": [
    "url = \"https://www.python.org/static/img/python-logo.png\"\n",
    "filename = os.path.join(TEMP_DIR, \"python-logo (urllib).png\")\n",
    "print (filename)\n",
    "\n",
    "urllib.request.urlretrieve(url, filename)\n"
   ]
  },
  {
   "cell_type": "markdown",
   "metadata": {},
   "source": [
    "## requests - загрузка файла через GET\n",
    "pip install requests - команда для скачивания через командную строку"
   ]
  },
  {
   "cell_type": "code",
   "execution_count": null,
   "metadata": {},
   "outputs": [],
   "source": [
    "import requests"
   ]
  },
  {
   "cell_type": "code",
   "execution_count": null,
   "metadata": {},
   "outputs": [
    {
     "name": "stdout",
     "output_type": "stream",
     "text": [
      "200\n",
      "{'Connection': 'keep-alive', 'Content-Length': '10102', 'Server': 'nginx', 'Content-Type': 'image/png', 'Last-Modified': 'Thu, 14 Apr 2022 17:19:48 GMT', 'Etag': '\"625857b4-2776\"', 'Cache-Control': 'max-age=604800, public', 'Via': '1.1 vegur, 1.1 varnish, 1.1 varnish', 'Accept-Ranges': 'bytes', 'Date': 'Tue, 03 May 2022 12:29:30 GMT', 'Age': '602078', 'X-Served-By': 'cache-iad-kcgs7200113-IAD, cache-fra19145-FRA', 'X-Cache': 'HIT, HIT', 'X-Cache-Hits': '1, 52', 'X-Timer': 'S1651580971.523275,VS0,VE0', 'Strict-Transport-Security': 'max-age=63072000; includeSubDomains'}\n",
      "None\n",
      "https://www.python.org/static/img/python-logo.png\n",
      "True\n"
     ]
    }
   ],
   "source": [
    "url = \"https://www.python.org/static/img/python-logo.png\"\n",
    "filename = os.path.join(TEMP_DIR, \"python-logo (requests).png\")\n",
    "\n",
    "r = requests.get(url)\n",
    "print(r.status_code)\n",
    "print(r.headers)\n",
    "print(r.encoding)\n",
    "print(r.url)\n",
    "print(r.ok)\n",
    "\n",
    "# with open(filename, 'wb') as f:\n",
    "#     write(r.content)"
   ]
  },
  {
   "cell_type": "markdown",
   "metadata": {},
   "source": [
    "## wget - загрузка файла по URL"
   ]
  },
  {
   "cell_type": "code",
   "execution_count": null,
   "metadata": {},
   "outputs": [],
   "source": [
    "import wget"
   ]
  },
  {
   "cell_type": "code",
   "execution_count": null,
   "metadata": {},
   "outputs": [
    {
     "data": {
      "text/plain": [
       "'temp_download'"
      ]
     },
     "execution_count": 21,
     "metadata": {},
     "output_type": "execute_result"
    }
   ],
   "source": [
    "url = \"https://www.python.org/static/img/python-logo.png\"\n",
    "wget.download(url, TEMP_DIR)\n",
    "# не работает( кажется не создалась папка"
   ]
  },
  {
   "cell_type": "markdown",
   "metadata": {},
   "source": [
    "## HW:\n",
    " - скачать другие форматы файлов (например, mp3, doc, ...) разными способами\n",
    " - загрузить файл из интернета с сохранением его метаданных (дата создания, дата изменения, атрибуты и т.п)\n",
    " - скачать все файлы по указанному URL (нужно найти адрес)"
   ]
  }
 ],
 "metadata": {
  "interpreter": {
   "hash": "3a6f8b2227394587c5aa47911b9013af12e55eb00aba98c34627975f605aae29"
  },
  "kernelspec": {
   "display_name": "Python 3.10.2 64-bit",
   "language": "python",
   "name": "python3"
  },
  "language_info": {
   "codemirror_mode": {
    "name": "ipython",
    "version": 3
   },
   "file_extension": ".py",
   "mimetype": "text/x-python",
   "name": "python",
   "nbconvert_exporter": "python",
   "pygments_lexer": "ipython3",
   "version": "3.10.2"
  },
  "orig_nbformat": 4
 },
 "nbformat": 4,
 "nbformat_minor": 2
}
