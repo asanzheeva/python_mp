{
 "cells": [
  {
   "cell_type": "markdown",
   "metadata": {},
   "source": [
    "## Работа c CSV-файлами\n",
    "\n",
    "* .csv - запятая\n",
    "* .tsv - табуляция\n",
    "* .scsv - точка с запятой"
   ]
  },
  {
   "cell_type": "code",
   "execution_count": 36,
   "metadata": {},
   "outputs": [],
   "source": [
    "import csv"
   ]
  },
  {
   "cell_type": "code",
   "execution_count": 37,
   "metadata": {},
   "outputs": [
    {
     "data": {
      "text/plain": [
       "'temp\\\\temp_.temp'"
      ]
     },
     "execution_count": 37,
     "metadata": {},
     "output_type": "execute_result"
    }
   ],
   "source": [
    "import os\n",
    "\n",
    "#временный каталог\n",
    "TEMP_DIR = \"temp\"\n",
    "\n",
    "# Пример\n",
    "os.path.join(TEMP_DIR, \"temp_.temp\")"
   ]
  },
  {
   "cell_type": "markdown",
   "metadata": {},
   "source": [
    "## Записать в CSV-файл"
   ]
  },
  {
   "cell_type": "code",
   "execution_count": 38,
   "metadata": {},
   "outputs": [
    {
     "data": {
      "text/plain": [
       "[['Фамилия', 'Имя', 'Возраст'],\n",
       " ['Иванов', 'Иван', '25'],\n",
       " ['Петров', 'Петя', '18']]"
      ]
     },
     "execution_count": 38,
     "metadata": {},
     "output_type": "execute_result"
    }
   ],
   "source": [
    "my_data = [\n",
    "    [\"Фамилия\", \"Имя\", \"Возраст\"],\n",
    "    [\"Иванов\", \"Иван\", \"25\"],\n",
    "    [\"Петров\", \"Петя\", \"18\"]\n",
    "]\n",
    "my_data"
   ]
  },
  {
   "cell_type": "code",
   "execution_count": 39,
   "metadata": {},
   "outputs": [],
   "source": [
    "with open(os.path.join(TEMP_DIR, \"temp_CSV.csv\"), 'w', encoding='utf-8') as f:\n",
    "    writer = csv.writer(f, lineterminator='\\n', delimiter=';')\n",
    "    writer.writerows(my_data)"
   ]
  },
  {
   "cell_type": "code",
   "execution_count": 40,
   "metadata": {},
   "outputs": [],
   "source": [
    "with open(os.path.join(TEMP_DIR, \"temp_SCSV.csv\"), 'w', encoding='utf-8') as f:\n",
    "    writer = csv.writer(f, lineterminator='\\n', delimiter=';')\n",
    "    writer.writerows(my_data)"
   ]
  },
  {
   "cell_type": "code",
   "execution_count": 41,
   "metadata": {},
   "outputs": [],
   "source": [
    "with open(os.path.join(TEMP_DIR, \"temp_TSV.csv\"), 'w', encoding='utf-8') as f:\n",
    "    writer = csv.writer(f, lineterminator='\\n', delimiter='\\t')\n",
    "    writer.writerows(my_data)"
   ]
  },
  {
   "cell_type": "code",
   "execution_count": null,
   "metadata": {},
   "outputs": [],
   "source": [
    "with open(os.path.join(TEMP_DIR, \"temp_CSV.csv\")) as f:  #не работает почему-то\n",
    "    reader = csv.reader(f)\n",
    "    for line in reader:\n",
    "        print(line)"
   ]
  },
  {
   "cell_type": "markdown",
   "metadata": {},
   "source": [
    "# HW\n",
    "- автоматически определить диалект файла\n",
    "- свои примеры"
   ]
  }
 ],
 "metadata": {
  "interpreter": {
   "hash": "3a6f8b2227394587c5aa47911b9013af12e55eb00aba98c34627975f605aae29"
  },
  "kernelspec": {
   "display_name": "Python 3.10.2 64-bit",
   "language": "python",
   "name": "python3"
  },
  "language_info": {
   "codemirror_mode": {
    "name": "ipython",
    "version": 3
   },
   "file_extension": ".py",
   "mimetype": "text/x-python",
   "name": "python",
   "nbconvert_exporter": "python",
   "pygments_lexer": "ipython3",
   "version": "3.10.2"
  },
  "orig_nbformat": 4
 },
 "nbformat": 4,
 "nbformat_minor": 2
}
