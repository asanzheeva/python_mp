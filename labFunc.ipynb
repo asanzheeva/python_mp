{
 "cells": [
  {
   "cell_type": "markdown",
   "metadata": {},
   "source": [
    "# Именные функции, инструкция def"
   ]
  },
  {
   "cell_type": "code",
   "execution_count": 7,
   "metadata": {},
   "outputs": [
    {
     "name": "stdout",
     "output_type": "stream",
     "text": [
      "Маша\n",
      "Юра\n"
     ]
    }
   ],
   "source": [
    "def show_name():\n",
    "    print(\"Маша\")\n",
    "\n",
    "def get_name():\n",
    "    return \"Юра\"\n",
    "\n",
    "\n",
    "show_name()\n",
    "r = get_name()\n",
    "print(r)\n"
   ]
  },
  {
   "cell_type": "code",
   "execution_count": 2,
   "metadata": {},
   "outputs": [
    {
     "name": "stdout",
     "output_type": "stream",
     "text": [
      "None\n",
      "r is None\n"
     ]
    }
   ],
   "source": [
    "def do_nothing():\n",
    "    #return None\n",
    "    pass\n",
    "\n",
    "r = do_nothing()\n",
    "print(r)\n",
    "if r is None:\n",
    "    print(\"r is None\")"
   ]
  },
  {
   "cell_type": "code",
   "execution_count": 3,
   "metadata": {},
   "outputs": [
    {
     "name": "stdout",
     "output_type": "stream",
     "text": [
      "30\n",
      "1020\n",
      "7\n"
     ]
    }
   ],
   "source": [
    "def sum1(a, b):\n",
    "    return a + b\n",
    "\n",
    "print(sum1(10, 20)) #сложились как числа\n",
    "print(sum1(\"10\", \"20\")) #сложились как строки\n",
    "\n",
    "print (sum1(b = 5, a = 2))"
   ]
  },
  {
   "cell_type": "markdown",
   "metadata": {},
   "source": [
    "# Аргументы по умолчанию"
   ]
  },
  {
   "cell_type": "code",
   "execution_count": 5,
   "metadata": {},
   "outputs": [
    {
     "name": "stdout",
     "output_type": "stream",
     "text": [
      "3\n",
      "6\n"
     ]
    }
   ],
   "source": [
    "# Помним, что аргументы по умолчанию можно вставлять только в конце, иначе будет ошибка\n",
    "\n",
    "def sum2(a, b, c = 5):\n",
    "    return a + b + c\n",
    "\n",
    "def sum3(a = 1, b = 2, c = 3):\n",
    "    return a + b + c\n",
    "\n",
    "print(sum2(1, 2, 0))\n",
    "print(sum3())"
   ]
  },
  {
   "cell_type": "markdown",
   "metadata": {},
   "source": [
    "# Произвольное кол-во аргументов"
   ]
  },
  {
   "cell_type": "code",
   "execution_count": 8,
   "metadata": {},
   "outputs": [
    {
     "name": "stdout",
     "output_type": "stream",
     "text": [
      "(1, 2, 'Привет', 3.14)\n"
     ]
    }
   ],
   "source": [
    "def show_params(*args):\n",
    "    print(args)\n",
    "\n",
    "show_params(1, 2, \"Привет\", 3.14) #получился кортеж"
   ]
  },
  {
   "cell_type": "code",
   "execution_count": 10,
   "metadata": {},
   "outputs": [
    {
     "name": "stdout",
     "output_type": "stream",
     "text": [
      "{'a': 11, 'b': 22, 'c': 33}\n"
     ]
    }
   ],
   "source": [
    "# Именованые аргументы (сокращение kwards)\n",
    "def show_params2(**kwards):\n",
    "    print(kwards)\n",
    "\n",
    "show_params2(a = 11, b = 22, c = 33) #получился словарь"
   ]
  },
  {
   "cell_type": "markdown",
   "metadata": {},
   "source": [
    "## Аннотации типов"
   ]
  },
  {
   "cell_type": "code",
   "execution_count": null,
   "metadata": {},
   "outputs": [],
   "source": [
    "# будет хорошо указывать тип, это помогает сделать код более понятным\n",
    "def sum4(a: int, b: int):\n",
    "    return a + b\n",
    "\n",
    "print(sum4())"
   ]
  },
  {
   "cell_type": "markdown",
   "metadata": {},
   "source": [
    "## ..."
   ]
  },
  {
   "cell_type": "code",
   "execution_count": 12,
   "metadata": {},
   "outputs": [],
   "source": [
    "# Придумывай осознанные названия!\n",
    "def is_user_activated(user_id: int):\n",
    "    pass"
   ]
  }
 ],
 "metadata": {
  "interpreter": {
   "hash": "3a6f8b2227394587c5aa47911b9013af12e55eb00aba98c34627975f605aae29"
  },
  "kernelspec": {
   "display_name": "Python 3.10.2 64-bit",
   "language": "python",
   "name": "python3"
  },
  "language_info": {
   "codemirror_mode": {
    "name": "ipython",
    "version": 3
   },
   "file_extension": ".py",
   "mimetype": "text/x-python",
   "name": "python",
   "nbconvert_exporter": "python",
   "pygments_lexer": "ipython3",
   "version": "3.10.2"
  },
  "orig_nbformat": 4
 },
 "nbformat": 4,
 "nbformat_minor": 2
}
