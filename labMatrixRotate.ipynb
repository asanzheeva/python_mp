{
 "cells": [
  {
   "cell_type": "markdown",
   "metadata": {},
   "source": [
    "HW:  Создать матрицу, заполнить случайными значениями, например от 10 до 99,\n",
    "распечатать её и затем в цикле выбирать действия над матрицей, например: повернуть по часовой стрелке, повернуть против часовой стрелки, отразить по вертикали и тп. и и напечатать результат.\n"
   ]
  },
  {
   "cell_type": "code",
   "execution_count": 26,
   "metadata": {},
   "outputs": [
    {
     "name": "stdout",
     "output_type": "stream",
     "text": [
      "[[95 71 13 18 58]\n",
      " [24 79 20 50 75]\n",
      " [82 96 79 44 27]\n",
      " [12 60 19 31 19]]\n",
      "[[12 82 24 95]\n",
      " [60 96 79 71]\n",
      " [19 79 20 13]\n",
      " [31 44 50 18]\n",
      " [19 27 75 58]]\n",
      "[[95 71 13 18 58]\n",
      " [24 79 20 50 75]\n",
      " [82 96 79 44 27]\n",
      " [12 60 19 31 19]]\n",
      "[[12 60 19 31 19]\n",
      " [82 96 79 44 27]\n",
      " [24 79 20 50 75]\n",
      " [95 71 13 18 58]]\n"
     ]
    }
   ],
   "source": [
    "import numpy as np\n",
    "\n",
    "row = int(input(\"Введите кол-во строк: \"))\n",
    "col = int(input(\"Введите кол-во столбцов: \"))\n",
    "m = np.random.randint(10, 99, size=(row,col))\n",
    "print(m)\n",
    "\n",
    "while 10 > 1:\n",
    "   a = int(input(\"Введите номер действия:  \\n  1 - повернуть по часовой стрелке,  \\n 2 - повернуть против часовой стрелки,\")) \n",
    "   if a == 1:\n",
    "      m = np.rot90(m, k = 1, axes = (1,0)) # поворот по часовой стрелке\n",
    "      print(m) \n",
    "   elif a == 2:\n",
    "      m = np.rot90(m, k = 1, axes = (0,1)) # поворот против часовой стрелки\n",
    "      print(m)\n",
    "   elif a == 3:\n",
    "      #m = np.lib.pad(m,((2,0)),'reflect') # можно сделать с помощью reflect  или через np.vsplit\n",
    "      #m = np.vsplit(m, 2)\n",
    "      \n",
    "      print(m[::-1]) # кортеж\n",
    "   elif a == 4:\n",
    "      # можно сделать с помощью reflect  или через np.hsplit\n",
    "      print(m[:0:-1])\n",
    "   elif a == 5:\n",
    "      break\n",
    "\n",
    "\n"
   ]
  },
  {
   "cell_type": "code",
   "execution_count": null,
   "metadata": {},
   "outputs": [],
   "source": []
  },
  {
   "cell_type": "code",
   "execution_count": null,
   "metadata": {},
   "outputs": [],
   "source": []
  }
 ],
 "metadata": {
  "kernelspec": {
   "display_name": "Python 3.10.2 64-bit",
   "language": "python",
   "name": "python3"
  },
  "language_info": {
   "codemirror_mode": {
    "name": "ipython",
    "version": 3
   },
   "file_extension": ".py",
   "mimetype": "text/x-python",
   "name": "python",
   "nbconvert_exporter": "python",
   "pygments_lexer": "ipython3",
   "version": "3.10.2"
  },
  "orig_nbformat": 4,
  "vscode": {
   "interpreter": {
    "hash": "568d99031516cb91b124139a50c43e0e628ee43803acee1edec6cbd47ca74668"
   }
  }
 },
 "nbformat": 4,
 "nbformat_minor": 2
}
