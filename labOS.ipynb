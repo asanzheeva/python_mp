{
 "cells": [
  {
   "cell_type": "markdown",
   "metadata": {},
   "source": [
    "## Работа с каталогами"
   ]
  },
  {
   "cell_type": "code",
   "execution_count": 1,
   "metadata": {},
   "outputs": [],
   "source": [
    "import os"
   ]
  },
  {
   "cell_type": "code",
   "execution_count": 2,
   "metadata": {},
   "outputs": [
    {
     "data": {
      "text/plain": [
       "'d:\\\\Python\\\\labs\\\\mp_2021'"
      ]
     },
     "execution_count": 2,
     "metadata": {},
     "output_type": "execute_result"
    }
   ],
   "source": [
    "os.getcwd()"
   ]
  },
  {
   "cell_type": "code",
   "execution_count": 7,
   "metadata": {},
   "outputs": [
    {
     "name": "stdout",
     "output_type": "stream",
     "text": [
      "os.stat_result(st_mode=33206, st_ino=1688849860279298, st_dev=1454032372, st_nlink=1, st_uid=0, st_gid=0, st_size=557, st_atime=1650369157, st_mtime=1648132324, st_ctime=1648132175)\n",
      "Размер файла: 557\n",
      "\n",
      "Размер файла: 557\n",
      "Размер файла: 557\n"
     ]
    }
   ],
   "source": [
    "f = os.stat(\"labHello.py\")\n",
    "print(f)\n",
    "print(\"Размер файла:\", f.st_size)\n",
    "print()\n",
    "print(\"Размер файла:\", os.stat(\"labHello.py\").st_size)\n",
    "print(\"Размер файла:\", os.path.getsize(\"labHello.py\"))"
   ]
  },
  {
   "cell_type": "code",
   "execution_count": 8,
   "metadata": {},
   "outputs": [
    {
     "data": {
      "text/plain": [
       "'d:\\\\Python\\\\labs'"
      ]
     },
     "execution_count": 8,
     "metadata": {},
     "output_type": "execute_result"
    }
   ],
   "source": [
    "os.chdir(\"..\") # относительный путь\n",
    "os.getcwd()"
   ]
  },
  {
   "cell_type": "code",
   "execution_count": 9,
   "metadata": {},
   "outputs": [
    {
     "data": {
      "text/plain": [
       "'C:\\\\Windows\\\\Help'"
      ]
     },
     "execution_count": 9,
     "metadata": {},
     "output_type": "execute_result"
    }
   ],
   "source": [
    "os.chdir(\"C:\\Windows\\Help\") # абсолютный путь\n",
    "os.getcwd()"
   ]
  },
  {
   "cell_type": "code",
   "execution_count": 10,
   "metadata": {},
   "outputs": [
    {
     "data": {
      "text/plain": [
       "['Corporate', 'en-US', 'Help', 'mui', 'OEM', 'Windows']"
      ]
     },
     "execution_count": 10,
     "metadata": {},
     "output_type": "execute_result"
    }
   ],
   "source": [
    "os.listdir()"
   ]
  },
  {
   "cell_type": "code",
   "execution_count": 12,
   "metadata": {},
   "outputs": [
    {
     "name": "stdout",
     "output_type": "stream",
     "text": [
      "C:\\Windows\\Help ['Corporate', 'en-US', 'Help', 'mui', 'OEM', 'Windows'] []\n",
      "C:\\Windows\\Help\\Corporate [] []\n",
      "C:\\Windows\\Help\\en-US [] ['credits.rtf']\n",
      "C:\\Windows\\Help\\Help [] []\n",
      "C:\\Windows\\Help\\mui ['0409', '0419'] []\n",
      "C:\\Windows\\Help\\mui\\0409 [] ['cliconf.chm', 'mmc.CHM', 'msdasc.chm', 'msorcl32.chm', 'odbcinst.chm', 'odbcjet.chm', 'sqlsodbc.chm', 'sqlsoldb.chm']\n",
      "C:\\Windows\\Help\\mui\\0419 [] ['cliconf.chm', 'mmc.CHM', 'msdasc.chm', 'msorcl32.chm', 'odbcinst.chm', 'odbcjet.chm', 'sqlsodbc.chm', 'sqlsoldb.chm']\n",
      "C:\\Windows\\Help\\OEM ['ContentStore', 'IndexStore'] []\n",
      "C:\\Windows\\Help\\OEM\\ContentStore [] []\n",
      "C:\\Windows\\Help\\OEM\\IndexStore [] []\n",
      "C:\\Windows\\Help\\Windows ['ContentStore', 'IndexStore'] []\n",
      "C:\\Windows\\Help\\Windows\\ContentStore ['en-US'] []\n",
      "C:\\Windows\\Help\\Windows\\ContentStore\\en-US [] []\n",
      "C:\\Windows\\Help\\Windows\\IndexStore ['en-US'] []\n",
      "C:\\Windows\\Help\\Windows\\IndexStore\\en-US [] []\n"
     ]
    }
   ],
   "source": [
    "# Распечатать рекурсивно абсолютный путь, список подкаталогов, список файлов в каталоге\n",
    "for cur_dir, dirs, files in os.walk(\".\"):\n",
    "    print(os.path.abspath(cur_dir), dirs, files)"
   ]
  },
  {
   "cell_type": "code",
   "execution_count": 13,
   "metadata": {},
   "outputs": [
    {
     "name": "stdout",
     "output_type": "stream",
     "text": [
      "Каталогов = 6 и файлов = 0 в папке .\n",
      "Каталогов = 0 и файлов = 0 в папке .\\Corporate\n",
      "Каталогов = 0 и файлов = 1 в папке .\\en-US\n",
      "Каталогов = 0 и файлов = 0 в папке .\\Help\n",
      "Каталогов = 2 и файлов = 0 в папке .\\mui\n",
      "Каталогов = 0 и файлов = 8 в папке .\\mui\\0409\n",
      "Каталогов = 0 и файлов = 8 в папке .\\mui\\0419\n",
      "Каталогов = 2 и файлов = 0 в папке .\\OEM\n",
      "Каталогов = 0 и файлов = 0 в папке .\\OEM\\ContentStore\n",
      "Каталогов = 0 и файлов = 0 в папке .\\OEM\\IndexStore\n",
      "Каталогов = 2 и файлов = 0 в папке .\\Windows\n",
      "Каталогов = 1 и файлов = 0 в папке .\\Windows\\ContentStore\n",
      "Каталогов = 0 и файлов = 0 в папке .\\Windows\\ContentStore\\en-US\n",
      "Каталогов = 1 и файлов = 0 в папке .\\Windows\\IndexStore\n",
      "Каталогов = 0 и файлов = 0 в папке .\\Windows\\IndexStore\\en-US\n"
     ]
    }
   ],
   "source": [
    "for cur_dir, dirs, files in os.walk(\".\"):\n",
    "    print(f\"Каталогов = {len(dirs)} и файлов = {len(files)} в папке {cur_dir}\")"
   ]
  },
  {
   "cell_type": "code",
   "execution_count": 14,
   "metadata": {},
   "outputs": [
    {
     "name": "stdout",
     "output_type": "stream",
     "text": [
      "C:\\Windows\\Help\\en-US\\credits.rtf\n",
      "C:\\Windows\\Help\\mui\\0409\\cliconf.chm\n",
      "C:\\Windows\\Help\\mui\\0409\\mmc.CHM\n",
      "C:\\Windows\\Help\\mui\\0409\\msdasc.chm\n",
      "C:\\Windows\\Help\\mui\\0409\\msorcl32.chm\n",
      "C:\\Windows\\Help\\mui\\0409\\odbcinst.chm\n",
      "C:\\Windows\\Help\\mui\\0409\\odbcjet.chm\n",
      "C:\\Windows\\Help\\mui\\0409\\sqlsodbc.chm\n",
      "C:\\Windows\\Help\\mui\\0409\\sqlsoldb.chm\n",
      "C:\\Windows\\Help\\mui\\0419\\cliconf.chm\n",
      "C:\\Windows\\Help\\mui\\0419\\mmc.CHM\n",
      "C:\\Windows\\Help\\mui\\0419\\msdasc.chm\n",
      "C:\\Windows\\Help\\mui\\0419\\msorcl32.chm\n",
      "C:\\Windows\\Help\\mui\\0419\\odbcinst.chm\n",
      "C:\\Windows\\Help\\mui\\0419\\odbcjet.chm\n",
      "C:\\Windows\\Help\\mui\\0419\\sqlsodbc.chm\n",
      "C:\\Windows\\Help\\mui\\0419\\sqlsoldb.chm\n"
     ]
    }
   ],
   "source": [
    "# Распечатать рекурсивно пути ко всем файлам\n",
    "for cur_dir, dirs, files in os.walk(\".\"):\n",
    "    for file in files:\n",
    "        print(os.path.join(os.path.abspath(cur_dir), file))"
   ]
  },
  {
   "cell_type": "code",
   "execution_count": 17,
   "metadata": {},
   "outputs": [
    {
     "name": "stdout",
     "output_type": "stream",
     "text": [
      "8\n",
      "nt\n",
      "1\n"
     ]
    }
   ],
   "source": [
    "print(os.cpu_count())\n",
    "print(os.name)\n",
    "print(os.getlogin())"
   ]
  },
  {
   "cell_type": "markdown",
   "metadata": {},
   "source": [
    "# HW:\n",
    "- придумать другие примеры"
   ]
  }
 ],
 "metadata": {
  "interpreter": {
   "hash": "3a6f8b2227394587c5aa47911b9013af12e55eb00aba98c34627975f605aae29"
  },
  "kernelspec": {
   "display_name": "Python 3.10.2 64-bit",
   "language": "python",
   "name": "python3"
  },
  "language_info": {
   "codemirror_mode": {
    "name": "ipython",
    "version": 3
   },
   "file_extension": ".py",
   "mimetype": "text/x-python",
   "name": "python",
   "nbconvert_exporter": "python",
   "pygments_lexer": "ipython3",
   "version": "3.10.2"
  },
  "orig_nbformat": 4
 },
 "nbformat": 4,
 "nbformat_minor": 2
}
