{
 "cells": [
  {
   "cell_type": "markdown",
   "metadata": {},
   "source": [
    "# Пример правильного нейминга"
   ]
  },
  {
   "cell_type": "code",
   "execution_count": 1,
   "metadata": {},
   "outputs": [
    {
     "data": {
      "text/plain": [
       "False"
      ]
     },
     "execution_count": 1,
     "metadata": {},
     "output_type": "execute_result"
    }
   ],
   "source": [
    "def pv(v, p):\n",
    "    if p == 'f':\n",
    "        return v >= 56.5\n",
    "    elif p == 'm':\n",
    "        return v >= 61.5\n",
    "\n",
    "pv(54, 'm')"
   ]
  },
  {
   "cell_type": "code",
   "execution_count": 6,
   "metadata": {},
   "outputs": [
    {
     "data": {
      "text/plain": [
       "False"
      ]
     },
     "execution_count": 6,
     "metadata": {},
     "output_type": "execute_result"
    }
   ],
   "source": [
    "def is_person_retiree(age: float, sex: str) -> bool: \n",
    "    \"\"\"Возвращает True, если человек пенсионер или False в протвном случае\n",
    "    age - возраст (лет)\n",
    "    sex - пол ('f' - для женского пола или 'm' для мужского)\"\"\"\n",
    "    if sex == 'f':\n",
    "        return age >= 56.5\n",
    "    elif sex == 'm':\n",
    "        return age >= 61.5\n",
    "\n",
    "#is_person_retiree(54, 'm') \n",
    "\n",
    "is_person_retiree(age=54, sex='m') # если навести курсор, то появится подсказка. Очень удобно!"
   ]
  }
 ],
 "metadata": {
  "interpreter": {
   "hash": "3a6f8b2227394587c5aa47911b9013af12e55eb00aba98c34627975f605aae29"
  },
  "kernelspec": {
   "display_name": "Python 3.10.2 64-bit",
   "language": "python",
   "name": "python3"
  },
  "language_info": {
   "codemirror_mode": {
    "name": "ipython",
    "version": 3
   },
   "file_extension": ".py",
   "mimetype": "text/x-python",
   "name": "python",
   "nbconvert_exporter": "python",
   "pygments_lexer": "ipython3",
   "version": "3.10.2"
  },
  "orig_nbformat": 4
 },
 "nbformat": 4,
 "nbformat_minor": 2
}
